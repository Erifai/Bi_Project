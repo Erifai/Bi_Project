{
  "nbformat": 4,
  "nbformat_minor": 0,
  "metadata": {
    "colab": {
      "name": "Projet_BI_NLP.ipynb",
      "provenance": [],
      "collapsed_sections": [],
      "include_colab_link": true
    },
    "kernelspec": {
      "name": "python3",
      "display_name": "Python 3"
    },
    "language_info": {
      "name": "python"
    },
    "accelerator": "GPU"
  },
  "cells": [
    {
      "cell_type": "markdown",
      "metadata": {
        "id": "view-in-github",
        "colab_type": "text"
      },
      "source": [
        "<a href=\"https://colab.research.google.com/github/Erifai/Bi_Project/blob/main/Projet_BI_NLP.ipynb\" target=\"_parent\"><img src=\"https://colab.research.google.com/assets/colab-badge.svg\" alt=\"Open In Colab\"/></a>"
      ]
    },
    {
      "cell_type": "markdown",
      "metadata": {
        "id": "znoidPugZSBX"
      },
      "source": [
        "# **Préparation de l'environnement :**"
      ]
    },
    {
      "cell_type": "code",
      "metadata": {
        "id": "R7R44CMLl1UH"
      },
      "source": [
        "#!pip install -U spacy \n",
        "#!pip install spacy-transformers\n",
        "#!pip install spacy_entity_linker\n",
        "#!python3 -m spacy_entity_linker \"download_knowledge_base\"\n",
        "#!python -m spacy download en_core_web_sm\n",
        "#!pip install -U sentence-transformers\n",
        "#!sudo apt-get install metis\n",
        "\n",
        "#à executer une seule fois et de redémarrer le runtime avec GPU "
      ],
      "execution_count": 1,
      "outputs": []
    },
    {
      "cell_type": "code",
      "metadata": {
        "id": "o8Tb8GkWKrLN",
        "colab": {
          "base_uri": "https://localhost:8080/"
        },
        "outputId": "ba96d887-a397-4bec-818e-805130af8e2a"
      },
      "source": [
        "import numpy as np \n",
        "import pandas as pd\n",
        "import matplotlib.pyplot as plt\n",
        "from wordcloud import WordCloud\n",
        "from spacy.lang.en.stop_words import STOP_WORDS\n",
        "import string\n",
        "import re\n",
        "import operator\n",
        "from functools import reduce\n",
        "import nltk\n",
        "nltk.download('wordnet')\n",
        "from nltk.stem import WordNetLemmatizer"
      ],
      "execution_count": 2,
      "outputs": [
        {
          "output_type": "stream",
          "name": "stdout",
          "text": [
            "[nltk_data] Downloading package wordnet to /root/nltk_data...\n",
            "[nltk_data]   Package wordnet is already up-to-date!\n"
          ]
        }
      ]
    },
    {
      "cell_type": "markdown",
      "metadata": {
        "id": "uWqpgk49UyHi"
      },
      "source": [
        "# **PARTIE 1 :**"
      ]
    },
    {
      "cell_type": "code",
      "metadata": {
        "id": "iQEdKeC6MvmV"
      },
      "source": [
        "#df = pd.read_fwf('/content/DBLP_Subset.txt')\n",
        "#df=pd.read_table('/content/DBLP_Subset.txt',header=None)\n",
        "#df = pd.read_csv(\"/content/DBLP_Subset.txt\",sep=\"\\n\")\n",
        "reading_file = open(\"/content/DBLP_Subset.txt\", \"r\")\n",
        "\n",
        "new_file_content = \"\"\n",
        "count = 0\n",
        "count_auth = 0\n",
        "for line in reading_file:\n",
        "\n",
        "  stripped_line = line.strip()\n",
        "\n",
        "  new_line = stripped_line.replace(';',',')\n",
        "  if \"#t\" in new_line :\n",
        "    count_auth = 0\n",
        "  if \"#!\" in new_line :\n",
        "    count=0\n",
        "  if \"#@\" in new_line :\n",
        "    count_auth = 1\n",
        "  new_line = new_line.replace('#c',';').replace('#*','\\n;').replace('#c',';').replace('#t',';').replace('#index',';').replace('#!',';').replace('#@',';')\n",
        "  if \"#%\" in new_line and count==0 :\n",
        "    #print(new_line)\n",
        "    new_line = new_line.replace('#%',';')\n",
        "    #print(new_line)\n",
        "\n",
        "    count =1\n",
        "  if count_auth == 1 :\n",
        "    new_line = new_line + \",\"   \n",
        "\n",
        "  new_file_content += new_line\n",
        "\n",
        "\n",
        "reading_file.close()\n",
        "df = pd.DataFrame([x.split(';') for x in new_file_content.split('\\n')])\n",
        "# .replace('#c',';').replace('#*',';').replace('#c%',';').replace('#t',';').replace('#index',';').replace('#!',';')\n",
        "#   df = pd.DataFrame([x.split(';') for x in lines.split('\\n')])"
      ],
      "execution_count": 3,
      "outputs": []
    },
    {
      "cell_type": "code",
      "metadata": {
        "id": "aZsPPIKfx2BN",
        "colab": {
          "base_uri": "https://localhost:8080/"
        },
        "outputId": "e76ad7bd-e3c9-4703-9d04-e272b323756f"
      },
      "source": [
        "df.rename(columns={0:\"supprimer\",1:\"Titre\",2:\"Auteurs\",3:\"Année\",4:\"Revue\",5:\"IndexId\",6:\"IdRefrences\",7:\"Abstract\"},inplace= True)\n",
        "df.drop(columns=['supprimer'],inplace= True)\n",
        "df.dropna(inplace= True)\n",
        "df.info()"
      ],
      "execution_count": 4,
      "outputs": [
        {
          "output_type": "stream",
          "name": "stdout",
          "text": [
            "<class 'pandas.core.frame.DataFrame'>\n",
            "Int64Index: 17852 entries, 1 to 37963\n",
            "Data columns (total 7 columns):\n",
            " #   Column       Non-Null Count  Dtype \n",
            "---  ------       --------------  ----- \n",
            " 0   Titre        17852 non-null  object\n",
            " 1   Auteurs      17852 non-null  object\n",
            " 2   Année        17852 non-null  object\n",
            " 3   Revue        17852 non-null  object\n",
            " 4   IndexId      17852 non-null  object\n",
            " 5   IdRefrences  17852 non-null  object\n",
            " 6   Abstract     17852 non-null  object\n",
            "dtypes: object(7)\n",
            "memory usage: 1.1+ MB\n"
          ]
        }
      ]
    },
    {
      "cell_type": "code",
      "metadata": {
        "id": "hJmTtXdUPyHy"
      },
      "source": [
        "li = df['Revue'].value_counts()\n"
      ],
      "execution_count": 5,
      "outputs": []
    },
    {
      "cell_type": "code",
      "metadata": {
        "id": "_JRaS0AbaNdk"
      },
      "source": [
        "list_revue = []\n",
        "for i in range(0,len(li)-1):\n",
        "  if(li[i] >= 50):\n",
        "    list_revue.append(li.index[i])\n",
        "  else:\n",
        "    break\n"
      ],
      "execution_count": 6,
      "outputs": []
    },
    {
      "cell_type": "code",
      "metadata": {
        "id": "MadTVCWcgQ6s",
        "colab": {
          "base_uri": "https://localhost:8080/"
        },
        "outputId": "4a4666a5-bc83-4e71-dd3d-9ad42c35c77f"
      },
      "source": [
        "df_revue = pd.DataFrame(list_revue)\n",
        "dff= pd.merge(df,df_revue,how='inner',left_on=['Revue'],right_on=[0])\n",
        "dff.drop(columns=[0],inplace=True)\n",
        "df = dff\n",
        "df.info()"
      ],
      "execution_count": 7,
      "outputs": [
        {
          "output_type": "stream",
          "name": "stdout",
          "text": [
            "<class 'pandas.core.frame.DataFrame'>\n",
            "Int64Index: 17429 entries, 0 to 17428\n",
            "Data columns (total 7 columns):\n",
            " #   Column       Non-Null Count  Dtype \n",
            "---  ------       --------------  ----- \n",
            " 0   Titre        17429 non-null  object\n",
            " 1   Auteurs      17429 non-null  object\n",
            " 2   Année        17429 non-null  object\n",
            " 3   Revue        17429 non-null  object\n",
            " 4   IndexId      17429 non-null  object\n",
            " 5   IdRefrences  17429 non-null  object\n",
            " 6   Abstract     17429 non-null  object\n",
            "dtypes: object(7)\n",
            "memory usage: 1.1+ MB\n"
          ]
        }
      ]
    },
    {
      "cell_type": "code",
      "metadata": {
        "id": "y2Bzf0jVia7w",
        "colab": {
          "base_uri": "https://localhost:8080/"
        },
        "outputId": "6ab9d1c2-bc4b-4efb-b5de-90d7670afca0"
      },
      "source": [
        "df['Revue'].value_counts()"
      ],
      "execution_count": 8,
      "outputs": [
        {
          "output_type": "execute_result",
          "data": {
            "text/plain": [
              "DAC                                  2010\n",
              "IJCAI                                1891\n",
              "Electr. Notes Theor. Comput. Sci.    1891\n",
              "ICCAD                                1666\n",
              "SIGMOD Conference                    1529\n",
              "GECCO                                1472\n",
              "Discrete Applied Mathematics         1328\n",
              "Journal of Systems and Software       899\n",
              "ICIP                                  812\n",
              "Des. Codes Cryptography               648\n",
              "ICC                                   587\n",
              "SIGMOD Record                         510\n",
              "SMC                                   325\n",
              "GECCO (Companion)                     269\n",
              "Distributed Computing                 214\n",
              "DATA BASE                             204\n",
              "Data Min. Knowl. Discov.              175\n",
              "ICCSA (1)                             152\n",
              "ICCSA (2)                             145\n",
              "ICCSA (3)                             144\n",
              "IJCAI (1)                              82\n",
              "ICCV                                   76\n",
              "STOC                                   72\n",
              "ICCBR                                  71\n",
              "Knowl. Inf. Syst.                      69\n",
              "DAGM-Symposium                         67\n",
              "GECCO Workshops                        66\n",
              "ICCE                                   55\n",
              "Name: Revue, dtype: int64"
            ]
          },
          "metadata": {},
          "execution_count": 8
        }
      ]
    },
    {
      "cell_type": "markdown",
      "metadata": {
        "id": "QN4urJ-6Q0ju"
      },
      "source": [
        "# PARTIE 2 :"
      ]
    },
    {
      "cell_type": "markdown",
      "metadata": {
        "id": "qTHyjecEAf8C"
      },
      "source": [
        "les auteurs les plus productifs :"
      ]
    },
    {
      "cell_type": "code",
      "metadata": {
        "id": "7DuyZ34jKUoL",
        "colab": {
          "base_uri": "https://localhost:8080/",
          "height": 424
        },
        "outputId": "ec68c76c-8cd2-4553-db9c-662295195820"
      },
      "source": [
        "dict_authers = {}\n",
        "def auth(x):\n",
        "  li = x.split(\",\")\n",
        "  for auth in li:\n",
        "    if auth in dict_authers.keys():\n",
        "      dict_authers.update({auth : dict_authers[auth] + 1})\n",
        "    else:\n",
        "      dict_authers[auth] = 1\n",
        "\n",
        "df['Auteurs'].map(lambda x : auth(x))\n",
        "dict_authers.pop('')\n",
        "dict_auth_ord = dict(sorted(dict_authers.items(), key=lambda item: item[1]))\n",
        "\n",
        "height = list(dict_auth_ord.keys())\n",
        "height = height[-10:]\n",
        "bars = list(dict_auth_ord.values())\n",
        "bars = bars[-10:]\n",
        "y_pos = np.arange(len(bars))\n",
        "# Create bars\n",
        "plt.bar(y_pos, bars)\n",
        "# Create names on the x-axis\n",
        "degrees = 90\n",
        "plt.xticks(y_pos, height,rotation = degrees )\n",
        "# Show graphic\n",
        "plt.show()"
      ],
      "execution_count": 9,
      "outputs": [
        {
          "output_type": "display_data",
          "data": {
            "image/png": "[encoded data removed]",
            "text/plain": [
              "<Figure size 432x288 with 1 Axes>"
            ]
          },
          "metadata": {
            "needs_background": "light"
          }
        }
      ]
    },
    {
      "cell_type": "markdown",
      "metadata": {
        "id": "jMpp__C2BlPk"
      },
      "source": [
        "les articles les plus populaires :"
      ]
    },
    {
      "cell_type": "code",
      "metadata": {
        "id": "A08Aq3KsDa2z",
        "colab": {
          "base_uri": "https://localhost:8080/",
          "height": 657
        },
        "outputId": "6b9b5fcd-b32e-4d07-884e-d1a8cb1de93e"
      },
      "source": [
        "df['nombre_citation'] = df['IdRefrences'].map(lambda x : len(x.split(\"#\")))\n",
        "\n",
        "lii = df['nombre_citation'].to_list()\n",
        "lii.sort()\n",
        "list_nb_citation = lii[-8:]\n",
        "\n",
        "list_abs = []\n",
        "for i in list_nb_citation:\n",
        "  ind = df[df['nombre_citation'] == i].index\n",
        "  list_abs.append(df.at[ind[0],\"Titre\"])\n",
        "\n",
        "height = list_abs\n",
        "bars = list_nb_citation\n",
        "y_pos = np.arange(len(bars))\n",
        "# Create bars\n",
        "plt.bar(y_pos, bars)\n",
        "# Create names on the x-axis\n",
        "degrees = 90\n",
        "plt.xticks(y_pos, height,rotation = degrees )\n",
        "# Show graphic\n",
        "plt.show()\n"
      ],
      "execution_count": 10,
      "outputs": [
        {
          "output_type": "display_data",
          "data": {
            "image/png": "[encoded data removed]",
            "text/plain": [
              "<Figure size 432x288 with 1 Axes>"
            ]
          },
          "metadata": {
            "needs_background": "light"
          }
        }
      ]
    },
    {
      "cell_type": "code",
      "metadata": {
        "id": "xWJVNIRmBrfi",
        "colab": {
          "base_uri": "https://localhost:8080/",
          "height": 283
        },
        "outputId": "944811ef-ff17-4954-bdf5-770e6b57f8e4"
      },
      "source": [
        "dff = df.groupby(['Année'])['Année'].count()\n",
        "dff = dff.sort_values()\n",
        "list_ind_annee = dff[-10:]\n",
        "list_annee = []\n",
        "for i in list_ind_annee:\n",
        "  list_annee.append(dff[dff == i].index[0])\n",
        "\n",
        "list_annee\n",
        "\n",
        "height = list_annee\n",
        "bars = list_ind_annee\n",
        "y_pos = np.arange(len(bars))\n",
        "# Create bars\n",
        "plt.bar(y_pos, bars)\n",
        "# Create names on the x-axis\n",
        "degrees = 70\n",
        "plt.xticks(y_pos, height,rotation = degrees )\n",
        "# Show graphic\n",
        "plt.show()"
      ],
      "execution_count": 11,
      "outputs": [
        {
          "output_type": "display_data",
          "data": {
            "image/png": "[encoded data removed]",
            "text/plain": [
              "<Figure size 432x288 with 1 Axes>"
            ]
          },
          "metadata": {
            "needs_background": "light"
          }
        }
      ]
    },
    {
      "cell_type": "markdown",
      "metadata": {
        "id": "XpOKRU21HBNO"
      },
      "source": [
        " Distribution du nombre d’articles par revue/conférence :"
      ]
    },
    {
      "cell_type": "code",
      "metadata": {
        "id": "BsvGnOfxHIJh",
        "colab": {
          "base_uri": "https://localhost:8080/",
          "height": 419
        },
        "outputId": "16b6ef79-49ea-48ca-b07f-2208e208ca5c"
      },
      "source": [
        "dff = df.groupby(['Revue'])['Année'].count()\n",
        "\n",
        "list_revue = []\n",
        "for i in dff:\n",
        "  list_revue.append(dff[dff == i].index[0])\n",
        "\n",
        "list_revue\n",
        "\n",
        "height = list_revue\n",
        "bars = dff\n",
        "y_pos = np.arange(len(bars))\n",
        "# Create bars\n",
        "plt.bar(y_pos, bars)\n",
        "# Create names on the x-axis\n",
        "degrees = 90\n",
        "plt.xticks(y_pos, height,rotation = degrees )\n",
        "# Show graphic\n",
        "plt.show()"
      ],
      "execution_count": 12,
      "outputs": [
        {
          "output_type": "display_data",
          "data": {
            "image/png": "[encoded data removed]",
            "text/plain": [
              "<Figure size 432x288 with 1 Axes>"
            ]
          },
          "metadata": {
            "needs_background": "light"
          }
        }
      ]
    },
    {
      "cell_type": "markdown",
      "metadata": {
        "id": "HsIyt2afITzs"
      },
      "source": [
        "Distribution du nombre de citations :"
      ]
    },
    {
      "cell_type": "code",
      "metadata": {
        "id": "PbJD5-SBIV8P",
        "colab": {
          "base_uri": "https://localhost:8080/",
          "height": 655
        },
        "outputId": "c9f9e92d-0db8-4139-cc27-060b0f7c71ee"
      },
      "source": [
        "li = df['nombre_citation'].value_counts()\n",
        "\n",
        "from matplotlib.pyplot import figure\n",
        "\n",
        "figure(figsize=(15, 10), dpi=80)\n",
        "height = list(li.keys())\n",
        "bars = li\n",
        "y_pos = np.arange(len(bars))\n",
        "# Create bars\n",
        "plt.bar(y_pos, bars)\n",
        "# Create names on the x-axis\n",
        "degrees = 0\n",
        "plt.xticks(y_pos, height,rotation = degrees)\n",
        "# Show graphic\n",
        "plt.show()\n",
        "\n"
      ],
      "execution_count": 13,
      "outputs": [
        {
          "output_type": "display_data",
          "data": {
            "image/png": "[encoded data removed]",
            "text/plain": [
              "<Figure size 1200x800 with 1 Axes>"
            ]
          },
          "metadata": {
            "needs_background": "light"
          }
        }
      ]
    },
    {
      "cell_type": "code",
      "metadata": {
        "id": "yXxiYYrmOIcI"
      },
      "source": [
        "#punctuations\n",
        "punctuations = string.punctuation\n",
        "#stopwords\n",
        "stop_words = list(STOP_WORDS)\n",
        "def clean_text(\n",
        "  string : str,\n",
        "  ponctuation = '!\"#$%&\\'()*+,-./:;<=>?@[\\\\]^_`{|}~',\n",
        "  stop_words = stop_words)->str : \n",
        "\n",
        "  #URLs\n",
        "  string = re.sub(r\"https?://\\S+|www\\.\\S+\",'',string)\n",
        "  #html \n",
        "  string = re.sub(r'<.*?>','',string)\n",
        "  #Numbers\n",
        "  string = re.sub(r'[0-9]+','',string) \n",
        "\n",
        "  #Remove punctuations\n",
        "  for x in string.lower():\n",
        "    if x in punctuations:\n",
        "      string = string.replace(x,\"\")\n",
        "  #To lower\n",
        "  string = string.lower()\n",
        "  #Remove stop words\n",
        "  lemmatizer = WordNetLemmatizer()\n",
        "  string = ' '.join([lemmatizer.lemmatize(word) for word in string.split() if word not in stop_words])\n",
        "  #Cleaning the whitespaces\n",
        "  string = re.sub(r'\\s', ' ', string).strip()\n",
        "\n",
        "  return string\n",
        "  \n"
      ],
      "execution_count": 14,
      "outputs": []
    },
    {
      "cell_type": "code",
      "metadata": {
        "id": "0XC58aq60Squ",
        "colab": {
          "base_uri": "https://localhost:8080/"
        },
        "outputId": "7edcf03c-76a6-4832-dc65-b5740cd4e5fd"
      },
      "source": [
        "from sklearn.feature_extraction.text import CountVectorizer\n",
        "abstract = df.Abstract.to_list()\n",
        "abstracts_cleaned = [clean_text(x) for x in abstract]\n",
        "len(abstracts_cleaned)"
      ],
      "execution_count": 15,
      "outputs": [
        {
          "output_type": "execute_result",
          "data": {
            "text/plain": [
              "17429"
            ]
          },
          "metadata": {},
          "execution_count": 15
        }
      ]
    },
    {
      "cell_type": "code",
      "metadata": {
        "id": "clUyJOxPO_2y"
      },
      "source": [
        "from collections import Counter\n",
        "cnt = Counter()\n",
        "for text in abstracts_cleaned:\n",
        "    for word in text.split():\n",
        "        cnt[word] += 1\n"
      ],
      "execution_count": 16,
      "outputs": []
    },
    {
      "cell_type": "code",
      "metadata": {
        "id": "C-3FIeZmPaJL",
        "colab": {
          "base_uri": "https://localhost:8080/"
        },
        "outputId": "9bbe5803-eff1-4201-f743-febc9a266f57"
      },
      "source": [
        "cnt.most_common(30)"
      ],
      "execution_count": 17,
      "outputs": [
        {
          "output_type": "execute_result",
          "data": {
            "text/plain": [
              "[('algorithm', 11380),\n",
              " ('system', 11285),\n",
              " ('problem', 9950),\n",
              " ('model', 8898),\n",
              " ('paper', 8652),\n",
              " ('data', 8258),\n",
              " ('result', 8024),\n",
              " ('method', 7353),\n",
              " ('approach', 7060),\n",
              " ('based', 5961),\n",
              " ('design', 5933),\n",
              " ('present', 5678),\n",
              " ('set', 5437),\n",
              " ('technique', 5349),\n",
              " ('new', 5298),\n",
              " ('time', 4830),\n",
              " ('proposed', 4766),\n",
              " ('performance', 4700),\n",
              " ('application', 4285),\n",
              " ('number', 4212),\n",
              " ('network', 4175),\n",
              " ('graph', 4060),\n",
              " ('query', 3793),\n",
              " ('use', 3740),\n",
              " ('information', 3687),\n",
              " ('process', 3460),\n",
              " ('analysis', 3433),\n",
              " ('function', 3336),\n",
              " ('solution', 3295),\n",
              " ('circuit', 3218)]"
            ]
          },
          "metadata": {},
          "execution_count": 17
        }
      ]
    },
    {
      "cell_type": "markdown",
      "metadata": {
        "id": "d5_4BLPLP-IQ"
      },
      "source": [
        "# **PARTIE 3 :**"
      ]
    },
    {
      "cell_type": "markdown",
      "metadata": {
        "id": "FNu0ItfYWpNP"
      },
      "source": [
        "# **Transformation de données :**"
      ]
    },
    {
      "cell_type": "code",
      "metadata": {
        "id": "9YxR2Y_Ueitx",
        "outputId": "e5b13a41-f1f7-401d-da69-7bf01b73dfce",
        "colab": {
          "base_uri": "https://localhost:8080/"
        }
      },
      "source": [
        "from random import sample\n",
        "df = df.sample(frac=0.5)\n",
        "\n",
        "abstract = df.Abstract.to_list()\n",
        "abstracts_cleaned = [clean_text(x) for x in abstract]"
      ],
      "execution_count": 21,
      "outputs": [
        {
          "output_type": "execute_result",
          "data": {
            "text/plain": [
              "8714"
            ]
          },
          "metadata": {},
          "execution_count": 21
        }
      ]
    },
    {
      "cell_type": "markdown",
      "metadata": {
        "id": "IjgbcYQuXuyw"
      },
      "source": [
        "## **Exctraction de \"Linked entities\" :**"
      ]
    },
    {
      "cell_type": "code",
      "metadata": {
        "colab": {
          "base_uri": "https://localhost:8080/"
        },
        "id": "qqFwiFVM3OH-",
        "outputId": "66da7a50-ca68-4c48-b20b-6495efd4b886"
      },
      "source": [
        "import spacy\n",
        "import en_core_web_sm\n",
        "from functools import reduce\n",
        "nlp = spacy.load('en_core_web_sm')\n",
        "# add pipeline (declared through entry_points in setup.py)\n",
        "nlp.add_pipe(\"entityLinker\",last=True)"
      ],
      "execution_count": 22,
      "outputs": [
        {
          "output_type": "execute_result",
          "data": {
            "text/plain": [
              "<spacy_entity_linker.EntityLinker.EntityLinker at 0x7f3f1206af50>"
            ]
          },
          "metadata": {},
          "execution_count": 22
        }
      ]
    },
    {
      "cell_type": "code",
      "metadata": {
        "id": "5TrSDU_0LHoE"
      },
      "source": [
        "listEntity =[]\n",
        "dict_entities ={}\n",
        "for a,abs in enumerate(abstracts_cleaned):\n",
        "  doc = nlp(str(abs))\n",
        "  listInter=[]\n",
        "  #return all the entities in the whole document\n",
        "  all_linked_entities = doc._.linkedEntities\n",
        "  #itereate over sentences and print linked entities\n",
        "  for sent in doc.sents:\n",
        "    #print(sent._.linkedEntities)\n",
        "    for i in range(len(sent._.linkedEntities)):\n",
        "      entity = sent._.linkedEntities[i].get_id()\n",
        "      dict_entities[sent._.linkedEntities[i].get_id()]= sent._.linkedEntities[i].get_label()\n",
        "      listInter.append(entity)\n",
        "  listEntity.append(listInter)\n"
      ],
      "execution_count": 23,
      "outputs": []
    },
    {
      "cell_type": "code",
      "metadata": {
        "colab": {
          "base_uri": "https://localhost:8080/"
        },
        "id": "3o-IVAH7PZZR",
        "outputId": "d86b53fe-fb98-4224-fec8-f563e6750fb3"
      },
      "source": [
        "listEntityAll = reduce(operator.concat,listEntity)\n",
        "print(\"listEntityAll\" , len(listEntityAll))\n",
        "listEntityAllunique = np.unique(np.asarray(listEntityAll))\n",
        "print(\"listEntityAllunique\" , len(listEntityAllunique))\n"
      ],
      "execution_count": 24,
      "outputs": [
        {
          "output_type": "stream",
          "name": "stdout",
          "text": [
            "listEntityAll 143654\n",
            "listEntityAllunique 8682\n"
          ]
        }
      ]
    },
    {
      "cell_type": "markdown",
      "metadata": {
        "id": "EXx4XErCfBoP"
      },
      "source": [
        "## **Vectorisation (Document - mot) :**"
      ]
    },
    {
      "cell_type": "code",
      "metadata": {
        "id": "wUODDgGlfBAU",
        "outputId": "b9e0adb4-ef0a-4b7e-87fc-e4961e521089",
        "colab": {
          "base_uri": "https://localhost:8080/"
        }
      },
      "source": [
        "vectorizer = CountVectorizer()\n",
        "DocTerm_abstract = vectorizer.fit_transform(abstracts_cleaned)\n",
        "print('type of DocTerm_abstract : ', type(DocTerm_abstract))\n",
        "print(\"Documents / Mots  : \",DocTerm_abstract.shape)\n",
        "print(DocTerm_abstract)\n",
        "\n",
        "DocTerm_abstract = DocTerm_abstract.toarray()\n",
        "print(\"******************************************\")\n",
        "print('DocTerm_abstract', type(DocTerm_abstract))\n"
      ],
      "execution_count": 25,
      "outputs": [
        {
          "output_type": "stream",
          "name": "stdout",
          "text": [
            "type of DocTerm_abstract :  <class 'scipy.sparse.csr.csr_matrix'>\n",
            "Documents / Mots  :  (8714, 52010)\n",
            "  (0, 7393)\t6\n",
            "  (0, 44752)\t1\n",
            "  (0, 7642)\t1\n",
            "  (0, 20661)\t1\n",
            "  (0, 45394)\t4\n",
            "  (0, 21451)\t1\n",
            "  (0, 9514)\t1\n",
            "  (0, 329)\t1\n",
            "  (0, 33495)\t1\n",
            "  (0, 18420)\t1\n",
            "  (0, 46915)\t1\n",
            "  (0, 21234)\t1\n",
            "  (0, 31435)\t7\n",
            "  (0, 2500)\t5\n",
            "  (0, 21372)\t1\n",
            "  (0, 36943)\t1\n",
            "  (0, 14845)\t2\n",
            "  (0, 11217)\t3\n",
            "  (0, 42988)\t1\n",
            "  (0, 15424)\t1\n",
            "  (0, 26626)\t1\n",
            "  (0, 27301)\t2\n",
            "  (0, 28129)\t5\n",
            "  (0, 35746)\t2\n",
            "  (0, 13850)\t1\n",
            "  :\t:\n",
            "  (8713, 2258)\t1\n",
            "  (8713, 49675)\t1\n",
            "  (8713, 18784)\t2\n",
            "  (8713, 41978)\t1\n",
            "  (8713, 11494)\t1\n",
            "  (8713, 22175)\t1\n",
            "  (8713, 5376)\t1\n",
            "  (8713, 48137)\t1\n",
            "  (8713, 13309)\t2\n",
            "  (8713, 50061)\t2\n",
            "  (8713, 12250)\t1\n",
            "  (8713, 14502)\t1\n",
            "  (8713, 10800)\t2\n",
            "  (8713, 2973)\t3\n",
            "  (8713, 50790)\t1\n",
            "  (8713, 14996)\t1\n",
            "  (8713, 50787)\t2\n",
            "  (8713, 27757)\t1\n",
            "  (8713, 41524)\t1\n",
            "  (8713, 5326)\t1\n",
            "  (8713, 26660)\t1\n",
            "  (8713, 21722)\t1\n",
            "  (8713, 43621)\t1\n",
            "  (8713, 22904)\t2\n",
            "  (8713, 22903)\t2\n",
            "******************************************\n",
            "DocTerm_abstract <class 'numpy.ndarray'>\n"
          ]
        }
      ]
    },
    {
      "cell_type": "markdown",
      "metadata": {
        "id": "YQkfWPMQXjcN"
      },
      "source": [
        "## **K-means clustering (Document - mot) :**"
      ]
    },
    {
      "cell_type": "code",
      "metadata": {
        "id": "Wxhjg7beXuuQ"
      },
      "source": [
        "from sklearn.cluster import KMeans\n",
        "from sklearn.metrics import accuracy_score\n",
        "import pandas as pd\n",
        "K=28"
      ],
      "execution_count": 26,
      "outputs": []
    },
    {
      "cell_type": "code",
      "metadata": {
        "id": "QYUTiLQvXzRE",
        "outputId": "0be21827-edb8-4c53-9bf0-feff7b763207",
        "colab": {
          "base_uri": "https://localhost:8080/"
        }
      },
      "source": [
        "labels_all, u  = pd.factorize(df['Revue'])\n",
        "kmeans = KMeans(n_clusters=K, random_state=0,n_init=5).fit(DocTerm_abstract)\n",
        "y_pred1 = kmeans.labels_\n",
        "print('Bow representation clustering  accuracy : ',accuracy_score(labels_all,y_pred1))"
      ],
      "execution_count": 27,
      "outputs": [
        {
          "output_type": "stream",
          "name": "stdout",
          "text": [
            "Bow representation clustering  accuracy :  0.07229745237548772\n"
          ]
        }
      ]
    },
    {
      "cell_type": "markdown",
      "metadata": {
        "id": "5jweHf5HYnTk"
      },
      "source": [
        "### **Les termes les plus fréquents pour chaque cluster :**"
      ]
    },
    {
      "cell_type": "code",
      "metadata": {
        "id": "VHxEZ0xUYCq7",
        "outputId": "0489deed-586f-4b87-cbce-c4a84b4385f5",
        "colab": {
          "base_uri": "https://localhost:8080/"
        }
      },
      "source": [
        "word_plus_frequent_dans_chaque_cluster= []\n",
        "for i in range(0,27):\n",
        "  indexes = np.where(kmeans.labels_== i)\n",
        "  word_plus_frequent_dans_chaque_cluster.append(vectorizer.get_feature_names()[np.argmax(np.sum(DocTerm_abstract[indexes], axis=0))])\n",
        "\n",
        "cmp=1\n",
        "for i in word_plus_frequent_dans_chaque_cluster:\n",
        "  print(\"cluster N°  : \" , cmp , \" Entité la plus fréquente :\" ,i)\n",
        "  cmp=cmp+1"
      ],
      "execution_count": 28,
      "outputs": [
        {
          "output_type": "stream",
          "name": "stderr",
          "text": [
            "/usr/local/lib/python3.7/dist-packages/sklearn/utils/deprecation.py:87: FutureWarning: Function get_feature_names is deprecated; get_feature_names is deprecated in 1.0 and will be removed in 1.2. Please use get_feature_names_out instead.\n",
            "  warnings.warn(msg, category=FutureWarning)\n"
          ]
        },
        {
          "output_type": "stream",
          "name": "stdout",
          "text": [
            "cluster N°  :  1  Entité la plus fréquente : power\n",
            "cluster N°  :  2  Entité la plus fréquente : test\n",
            "cluster N°  :  3  Entité la plus fréquente : design\n",
            "cluster N°  :  4  Entité la plus fréquente : problem\n",
            "cluster N°  :  5  Entité la plus fréquente : technology\n",
            "cluster N°  :  6  Entité la plus fréquente : algorithm\n",
            "cluster N°  :  7  Entité la plus fréquente : model\n",
            "cluster N°  :  8  Entité la plus fréquente : network\n",
            "cluster N°  :  9  Entité la plus fréquente : quantum\n",
            "cluster N°  :  10  Entité la plus fréquente : paper\n",
            "cluster N°  :  11  Entité la plus fréquente : algorithm\n",
            "cluster N°  :  12  Entité la plus fréquente : point\n",
            "cluster N°  :  13  Entité la plus fréquente : system\n",
            "cluster N°  :  14  Entité la plus fréquente : view\n",
            "cluster N°  :  15  Entité la plus fréquente : information\n",
            "cluster N°  :  16  Entité la plus fréquente : graph\n",
            "cluster N°  :  17  Entité la plus fréquente : algorithm\n",
            "cluster N°  :  18  Entité la plus fréquente : reduction\n",
            "cluster N°  :  19  Entité la plus fréquente : predicate\n",
            "cluster N°  :  20  Entité la plus fréquente : secret\n",
            "cluster N°  :  21  Entité la plus fréquente : query\n",
            "cluster N°  :  22  Entité la plus fréquente : software\n",
            "cluster N°  :  23  Entité la plus fréquente : xml\n",
            "cluster N°  :  24  Entité la plus fréquente : data\n",
            "cluster N°  :  25  Entité la plus fréquente : routing\n",
            "cluster N°  :  26  Entité la plus fréquente : graph\n",
            "cluster N°  :  27  Entité la plus fréquente : circuit\n"
          ]
        }
      ]
    },
    {
      "cell_type": "markdown",
      "metadata": {
        "id": "cS7tm4fDZu59"
      },
      "source": [
        "### **Évolution des clusters selon le temps (les années) :**"
      ]
    },
    {
      "cell_type": "code",
      "metadata": {
        "colab": {
          "base_uri": "https://localhost:8080/"
        },
        "id": "SGWQWWt2aSIm",
        "outputId": "a2644927-d168-4757-bb31-b6d9f9cd3694"
      },
      "source": [
        "df['pred'] = kmeans.labels_\n",
        "labels_all, u  = pd.factorize(df['Revue'])\n",
        "evol_clusters=[]\n",
        "li = list(u)\n",
        "for chaqueU in u:  \n",
        "  z = df[df['pred']== li.index(chaqueU)]\n",
        "  dff = z.groupby(['Année'])['Revue'].count()\n",
        "  evol_clusters.append(dff)\n",
        "  print(\"-----------------------\")\n",
        "  print(\"Cluster : \",chaqueU)\n",
        "  for i in range(len(dff)):\n",
        "    print(dff.index[i], dff[i])\n"
      ],
      "execution_count": 55,
      "outputs": [
        {
          "output_type": "stream",
          "name": "stdout",
          "text": [
            "-----------------------\n",
            "Cluster :  ICCAD\n",
            "1992 1\n",
            "1994 3\n",
            "1995 4\n",
            "1996 2\n",
            "1997 2\n",
            "1998 3\n",
            "1999 9\n",
            "2000 9\n",
            "2001 4\n",
            "2002 13\n",
            "2003 8\n",
            "2004 13\n",
            "2005 16\n",
            "2006 12\n",
            "2007 12\n",
            "2008 10\n",
            "2009 17\n",
            "2010 1\n",
            "-----------------------\n",
            "Cluster :  IJCAI\n",
            "1985 1\n",
            "1986 1\n",
            "1987 1\n",
            "1989 5\n",
            "1990 2\n",
            "1992 7\n",
            "1994 3\n",
            "1995 3\n",
            "1996 7\n",
            "1997 6\n",
            "1998 1\n",
            "1999 2\n",
            "2000 5\n",
            "2001 7\n",
            "2002 4\n",
            "2003 6\n",
            "2004 5\n",
            "2005 7\n",
            "2006 12\n",
            "2007 11\n",
            "2008 13\n",
            "2009 9\n",
            "2010 1\n",
            "-----------------------\n",
            "Cluster :  DAC\n",
            "1971 1\n",
            "1978 1\n",
            "1980 1\n",
            "1983 1\n",
            "1985 4\n",
            "1986 7\n",
            "1987 4\n",
            "1988 2\n",
            "1989 4\n",
            "1990 4\n",
            "1992 4\n",
            "1993 2\n",
            "1994 6\n",
            "1995 4\n",
            "1996 4\n",
            "1997 8\n",
            "1998 12\n",
            "1999 12\n",
            "2000 10\n",
            "2001 14\n",
            "2002 19\n",
            "2003 25\n",
            "2004 18\n",
            "2005 30\n",
            "2006 29\n",
            "2007 33\n",
            "2008 31\n",
            "2009 21\n",
            "2010 2\n",
            "-----------------------\n",
            "Cluster :  ICCSA (1)\n",
            "1969 3\n",
            "1971 1\n",
            "1973 1\n",
            "1975 1\n",
            "1977 3\n",
            "1978 1\n",
            "1981 2\n",
            "1982 1\n",
            "1983 4\n",
            "1985 2\n",
            "1987 6\n",
            "1988 4\n",
            "1989 8\n",
            "1990 1\n",
            "1991 3\n",
            "1992 3\n",
            "1993 9\n",
            "1994 5\n",
            "1995 17\n",
            "1996 4\n",
            "1997 6\n",
            "1999 18\n",
            "2000 3\n",
            "2001 10\n",
            "2002 12\n",
            "2003 44\n",
            "2004 20\n",
            "2005 53\n",
            "2006 23\n",
            "2007 60\n",
            "2008 43\n",
            "2009 77\n",
            "2010 4\n",
            "-----------------------\n",
            "Cluster :  Data Min. Knowl. Discov.\n",
            "2007 4\n",
            "2009 1\n",
            "-----------------------\n",
            "Cluster :  GECCO (Companion)\n",
            "1995 1\n",
            "1998 1\n",
            "2001 1\n",
            "2003 1\n",
            "2004 1\n",
            "2007 2\n",
            "2009 2\n",
            "-----------------------\n",
            "Cluster :  Electr. Notes Theor. Comput. Sci.\n",
            "1969 1\n",
            "1975 1\n",
            "1976 1\n",
            "1977 1\n",
            "1980 1\n",
            "1981 3\n",
            "1983 2\n",
            "1984 2\n",
            "1985 3\n",
            "1986 1\n",
            "1987 4\n",
            "1988 4\n",
            "1989 8\n",
            "1990 1\n",
            "1991 10\n",
            "1992 3\n",
            "1993 4\n",
            "1994 1\n",
            "1995 6\n",
            "1996 5\n",
            "1997 5\n",
            "1998 4\n",
            "1999 10\n",
            "2000 6\n",
            "2001 9\n",
            "2002 8\n",
            "2003 35\n",
            "2004 18\n",
            "2005 44\n",
            "2006 31\n",
            "2007 61\n",
            "2008 45\n",
            "2009 81\n",
            "2010 7\n",
            "-----------------------\n",
            "Cluster :  DATA BASE\n",
            "1973 1\n",
            "1975 2\n",
            "1983 1\n",
            "1988 2\n",
            "1989 1\n",
            "1990 1\n",
            "1991 3\n",
            "1992 1\n",
            "1993 4\n",
            "1994 2\n",
            "1996 2\n",
            "1997 8\n",
            "2000 1\n",
            "2001 6\n",
            "2002 5\n",
            "2003 10\n",
            "2004 6\n",
            "2005 19\n",
            "2006 19\n",
            "2007 28\n",
            "2008 10\n",
            "2009 133\n",
            "2010 9\n",
            "-----------------------\n",
            "Cluster :  GECCO\n",
            "2003 1\n",
            "2006 2\n",
            "2007 4\n",
            "2008 4\n",
            "2009 3\n",
            "-----------------------\n",
            "Cluster :  Discrete Applied Mathematics\n",
            "1969 6\n",
            "1971 7\n",
            "1973 7\n",
            "1975 18\n",
            "1976 2\n",
            "1977 18\n",
            "1978 4\n",
            "1979 2\n",
            "1980 3\n",
            "1981 33\n",
            "1982 5\n",
            "1983 29\n",
            "1984 7\n",
            "1985 37\n",
            "1986 13\n",
            "1987 53\n",
            "1988 15\n",
            "1989 65\n",
            "1990 26\n",
            "1991 44\n",
            "1992 36\n",
            "1993 39\n",
            "1994 20\n",
            "1995 74\n",
            "1996 40\n",
            "1997 76\n",
            "1998 41\n",
            "1999 79\n",
            "2000 41\n",
            "2001 100\n",
            "2002 98\n",
            "2003 239\n",
            "2004 152\n",
            "2005 330\n",
            "2006 215\n",
            "2007 378\n",
            "2008 331\n",
            "2009 508\n",
            "2010 52\n",
            "-----------------------\n",
            "Cluster :  Des. Codes Cryptography\n",
            "1975 2\n",
            "1977 1\n",
            "1980 2\n",
            "1981 3\n",
            "1983 4\n",
            "1984 2\n",
            "1985 6\n",
            "1986 7\n",
            "1987 9\n",
            "1988 8\n",
            "1989 21\n",
            "1990 8\n",
            "1991 7\n",
            "1992 11\n",
            "1993 12\n",
            "1994 6\n",
            "1995 22\n",
            "1996 13\n",
            "1997 24\n",
            "1998 13\n",
            "1999 32\n",
            "2000 14\n",
            "2001 29\n",
            "2002 14\n",
            "2003 105\n",
            "2004 29\n",
            "2005 102\n",
            "2006 81\n",
            "2007 100\n",
            "2008 88\n",
            "2009 182\n",
            "2010 10\n",
            "-----------------------\n",
            "Cluster :  ICIP\n",
            "2009 1\n",
            "-----------------------\n",
            "Cluster :  ICCSA (2)\n",
            "1969 1\n",
            "1972 1\n",
            "1973 2\n",
            "1975 2\n",
            "1977 6\n",
            "1978 2\n",
            "1979 2\n",
            "1980 2\n",
            "1981 3\n",
            "1982 2\n",
            "1983 4\n",
            "1984 3\n",
            "1985 7\n",
            "1986 8\n",
            "1987 20\n",
            "1988 7\n",
            "1989 20\n",
            "1990 2\n",
            "1991 10\n",
            "1992 6\n",
            "1993 16\n",
            "1994 8\n",
            "1995 18\n",
            "1996 8\n",
            "1997 14\n",
            "1998 9\n",
            "1999 13\n",
            "2000 5\n",
            "2001 19\n",
            "2002 18\n",
            "2003 38\n",
            "2004 17\n",
            "2005 54\n",
            "2006 24\n",
            "2007 77\n",
            "2008 64\n",
            "2009 101\n",
            "2010 7\n",
            "-----------------------\n",
            "Cluster :  SIGMOD Conference\n",
            "1984 2\n",
            "1986 1\n",
            "1992 1\n",
            "1993 1\n",
            "1995 3\n",
            "1997 3\n",
            "1998 2\n",
            "1999 1\n",
            "2000 1\n",
            "2003 1\n",
            "2009 1\n",
            "-----------------------\n",
            "Cluster :  SMC\n",
            "1976 1\n",
            "1983 2\n",
            "1985 1\n",
            "1988 1\n",
            "1989 1\n",
            "1990 1\n",
            "1992 1\n",
            "1997 2\n",
            "1998 1\n",
            "1999 1\n",
            "2001 1\n",
            "2003 4\n",
            "2004 6\n",
            "2005 4\n",
            "2006 2\n",
            "2007 5\n",
            "2008 3\n",
            "2009 11\n",
            "2010 3\n",
            "-----------------------\n",
            "Cluster :  ICC\n",
            "1983 1\n",
            "1985 1\n",
            "1989 1\n",
            "1996 1\n",
            "1998 2\n",
            "1999 4\n",
            "2000 2\n",
            "2001 1\n",
            "2002 11\n",
            "2003 26\n",
            "2004 15\n",
            "2005 16\n",
            "2006 11\n",
            "2007 32\n",
            "2008 40\n",
            "2009 53\n",
            "2010 11\n",
            "-----------------------\n",
            "Cluster :  Journal of Systems and Software\n",
            "1969 1\n",
            "1975 1\n",
            "1981 1\n",
            "1983 2\n",
            "1985 2\n",
            "1987 2\n",
            "1988 3\n",
            "1989 5\n",
            "1990 4\n",
            "1991 6\n",
            "1992 3\n",
            "1993 4\n",
            "1994 4\n",
            "1995 7\n",
            "1996 9\n",
            "1997 5\n",
            "1998 5\n",
            "1999 13\n",
            "2000 4\n",
            "2001 9\n",
            "2002 9\n",
            "2003 25\n",
            "2004 16\n",
            "2005 27\n",
            "2006 16\n",
            "2007 26\n",
            "2008 27\n",
            "2009 48\n",
            "2010 7\n",
            "-----------------------\n",
            "Cluster :  SIGMOD Record\n",
            "2006 1\n",
            "-----------------------\n",
            "Cluster :  ICCSA (3)\n",
            "1998 1\n",
            "2005 1\n",
            "-----------------------\n",
            "Cluster :  Knowl. Inf. Syst.\n",
            "2006 2\n",
            "-----------------------\n",
            "Cluster :  ICCBR\n",
            "1982 3\n",
            "1983 2\n",
            "1984 1\n",
            "1986 5\n",
            "1987 5\n",
            "1988 4\n",
            "1989 2\n",
            "1990 3\n",
            "1992 2\n",
            "1993 4\n",
            "1994 3\n",
            "1995 4\n",
            "1996 4\n",
            "1997 3\n",
            "1998 7\n",
            "1999 10\n",
            "2000 12\n",
            "2001 6\n",
            "2002 9\n",
            "2003 7\n",
            "2004 16\n",
            "2005 9\n",
            "2006 17\n",
            "2007 12\n",
            "2008 15\n",
            "2009 17\n",
            "2010 17\n",
            "-----------------------\n",
            "Cluster :  Distributed Computing\n",
            "1987 1\n",
            "1989 1\n",
            "1996 1\n",
            "1997 1\n",
            "2001 1\n",
            "2002 7\n",
            "2003 12\n",
            "2004 7\n",
            "2005 14\n",
            "2006 13\n",
            "2007 25\n",
            "2008 20\n",
            "2009 20\n",
            "2010 5\n",
            "-----------------------\n",
            "Cluster :  GECCO Workshops\n",
            "2009 1\n",
            "-----------------------\n",
            "Cluster :  DAGM-Symposium\n",
            "1975 11\n",
            "1976 2\n",
            "1977 2\n",
            "1978 1\n",
            "1979 1\n",
            "1981 3\n",
            "1982 1\n",
            "1983 2\n",
            "1984 1\n",
            "1985 1\n",
            "1986 1\n",
            "1987 2\n",
            "1988 2\n",
            "1989 3\n",
            "1990 1\n",
            "1991 1\n",
            "1992 2\n",
            "1993 4\n",
            "1994 3\n",
            "1995 5\n",
            "1996 7\n",
            "1997 11\n",
            "1998 7\n",
            "1999 9\n",
            "2000 15\n",
            "2001 8\n",
            "2002 22\n",
            "2003 24\n",
            "2004 19\n",
            "2005 17\n",
            "2006 21\n",
            "2007 19\n",
            "2008 21\n",
            "2009 48\n",
            "2010 22\n",
            "-----------------------\n",
            "Cluster :  IJCAI (1)\n",
            "1985 1\n",
            "1986 2\n",
            "1987 2\n",
            "1988 3\n",
            "1989 1\n",
            "1990 4\n",
            "1992 2\n",
            "1994 3\n",
            "1995 1\n",
            "1996 4\n",
            "1997 1\n",
            "1998 3\n",
            "1999 3\n",
            "2000 2\n",
            "2001 7\n",
            "2002 7\n",
            "2003 1\n",
            "2004 6\n",
            "2005 3\n",
            "2006 6\n",
            "2007 10\n",
            "2008 7\n",
            "2009 8\n",
            "-----------------------\n",
            "Cluster :  ICCV\n",
            "1990 1\n",
            "-----------------------\n",
            "Cluster :  STOC\n",
            "1985 1\n",
            "1986 1\n",
            "1987 3\n",
            "1988 3\n",
            "1989 8\n",
            "1990 6\n",
            "1991 1\n",
            "1992 7\n",
            "1994 11\n",
            "1995 13\n",
            "1996 7\n",
            "1997 13\n",
            "1998 2\n",
            "1999 14\n",
            "2000 14\n",
            "2001 12\n",
            "2002 20\n",
            "2003 25\n",
            "2004 19\n",
            "2005 18\n",
            "2006 29\n",
            "2007 24\n",
            "2008 18\n",
            "2009 6\n",
            "-----------------------\n",
            "Cluster :  ICCE\n",
            "1975 1\n",
            "1977 3\n",
            "1978 2\n",
            "1979 1\n",
            "1981 1\n",
            "1984 1\n",
            "1985 1\n",
            "1986 2\n",
            "1987 4\n",
            "1989 1\n",
            "1990 2\n",
            "1991 1\n",
            "1992 2\n",
            "1993 1\n",
            "1994 2\n",
            "1995 9\n",
            "1996 5\n",
            "1997 6\n",
            "1998 5\n",
            "1999 7\n",
            "2000 7\n",
            "2001 12\n",
            "2002 7\n",
            "2003 29\n",
            "2004 6\n",
            "2005 25\n",
            "2006 23\n",
            "2007 51\n",
            "2008 22\n",
            "2009 288\n",
            "2010 3\n"
          ]
        }
      ]
    },
    {
      "cell_type": "markdown",
      "metadata": {
        "id": "Tt6Sj6K2geeS"
      },
      "source": [
        "### **Nombre de citations des articles contenus dans chaque cluster :**"
      ]
    },
    {
      "cell_type": "code",
      "metadata": {
        "colab": {
          "base_uri": "https://localhost:8080/"
        },
        "id": "K0CTrORtg45m",
        "outputId": "a2a1485b-33e1-40a0-d0e7-3eb39d9dc43e"
      },
      "source": [
        "labels_all, u  = pd.factorize(df['Revue'])\n",
        "evol_clusters=[]\n",
        "li = list(u)\n",
        "for chaqueU in u:  \n",
        "  z = df[df['pred']==li.index(chaqueU)]\n",
        "  dff = z['nombre_citation'].sum()\n",
        "  print(\"-----------------------\")\n",
        "  print(\"Nombre des citations dans le cluster : \",chaqueU)\n",
        "  print( dff ,\"Citations\")\n",
        "\n",
        "df.drop(columns=['pred'],inplace= True)"
      ],
      "execution_count": 64,
      "outputs": [
        {
          "output_type": "stream",
          "name": "stdout",
          "text": [
            "-----------------------\n",
            "Nombre des citations dans le cluster :  ICCAD\n",
            "1052 Citations\n",
            "-----------------------\n",
            "Nombre des citations dans le cluster :  IJCAI\n",
            "866 Citations\n",
            "-----------------------\n",
            "Nombre des citations dans le cluster :  DAC\n",
            "2191 Citations\n",
            "-----------------------\n",
            "Nombre des citations dans le cluster :  ICCSA (1)\n",
            "2965 Citations\n",
            "-----------------------\n",
            "Nombre des citations dans le cluster :  Data Min. Knowl. Discov.\n",
            "44 Citations\n",
            "-----------------------\n",
            "Nombre des citations dans le cluster :  GECCO (Companion)\n",
            "94 Citations\n",
            "-----------------------\n",
            "Nombre des citations dans le cluster :  Electr. Notes Theor. Comput. Sci.\n",
            "3457 Citations\n",
            "-----------------------\n",
            "Nombre des citations dans le cluster :  DATA BASE\n",
            "1761 Citations\n",
            "-----------------------\n",
            "Nombre des citations dans le cluster :  GECCO\n",
            "72 Citations\n",
            "-----------------------\n",
            "Nombre des citations dans le cluster :  Discrete Applied Mathematics\n",
            "20394 Citations\n",
            "-----------------------\n",
            "Nombre des citations dans le cluster :  Des. Codes Cryptography\n",
            "5995 Citations\n",
            "-----------------------\n",
            "Nombre des citations dans le cluster :  ICIP\n",
            "7 Citations\n",
            "-----------------------\n",
            "Nombre des citations dans le cluster :  ICCSA (2)\n",
            "4522 Citations\n",
            "-----------------------\n",
            "Nombre des citations dans le cluster :  SIGMOD Conference\n",
            "301 Citations\n",
            "-----------------------\n",
            "Nombre des citations dans le cluster :  SMC\n",
            "641 Citations\n",
            "-----------------------\n",
            "Nombre des citations dans le cluster :  ICC\n",
            "1629 Citations\n",
            "-----------------------\n",
            "Nombre des citations dans le cluster :  Journal of Systems and Software\n",
            "2368 Citations\n",
            "-----------------------\n",
            "Nombre des citations dans le cluster :  SIGMOD Record\n",
            "7 Citations\n",
            "-----------------------\n",
            "Nombre des citations dans le cluster :  ICCSA (3)\n",
            "26 Citations\n",
            "-----------------------\n",
            "Nombre des citations dans le cluster :  Knowl. Inf. Syst.\n",
            "27 Citations\n",
            "-----------------------\n",
            "Nombre des citations dans le cluster :  ICCBR\n",
            "3063 Citations\n",
            "-----------------------\n",
            "Nombre des citations dans le cluster :  Distributed Computing\n",
            "1376 Citations\n",
            "-----------------------\n",
            "Nombre des citations dans le cluster :  GECCO Workshops\n",
            "9 Citations\n",
            "-----------------------\n",
            "Nombre des citations dans le cluster :  DAGM-Symposium\n",
            "3532 Citations\n",
            "-----------------------\n",
            "Nombre des citations dans le cluster :  IJCAI (1)\n",
            "572 Citations\n",
            "-----------------------\n",
            "Nombre des citations dans le cluster :  ICCV\n",
            "5 Citations\n",
            "-----------------------\n",
            "Nombre des citations dans le cluster :  STOC\n",
            "1705 Citations\n",
            "-----------------------\n",
            "Nombre des citations dans le cluster :  ICCE\n",
            "2759 Citations\n"
          ]
        }
      ]
    },
    {
      "cell_type": "markdown",
      "metadata": {
        "id": "ANlkkomSjm_G"
      },
      "source": [
        "### **Sphérical K-means :**"
      ]
    },
    {
      "cell_type": "code",
      "metadata": {
        "id": "CGXutIbfj9gu",
        "outputId": "7e6f0416-d3c5-4109-8f30-6da25f0cf033",
        "colab": {
          "base_uri": "https://localhost:8080/",
          "height": 380
        }
      },
      "source": [
        "from nltk.cluster import KMeansClusterer\n",
        "kclusterer = KMeansClusterer(K, distance=nltk.cluster.util.cosine_distance)\n",
        "ypredspher = kclusterer.cluster(DocTerm_abstract,True)\n",
        "\n",
        "print('Spherical K-means clustering (Matrix document - mot ) accuracy : ',accuracy_score(labels_all,ypredspher))"
      ],
      "execution_count": 65,
      "outputs": [
        {
          "output_type": "error",
          "ename": "KeyboardInterrupt",
          "evalue": "ignored",
          "traceback": [
            "\u001b[0;31m---------------------------------------------------------------------------\u001b[0m",
            "\u001b[0;31mKeyboardInterrupt\u001b[0m                         Traceback (most recent call last)",
            "\u001b[0;32m<ipython-input-65-9253776eec2a>\u001b[0m in \u001b[0;36m<module>\u001b[0;34m()\u001b[0m\n\u001b[1;32m      1\u001b[0m \u001b[0;32mfrom\u001b[0m \u001b[0mnltk\u001b[0m\u001b[0;34m.\u001b[0m\u001b[0mcluster\u001b[0m \u001b[0;32mimport\u001b[0m \u001b[0mKMeansClusterer\u001b[0m\u001b[0;34m\u001b[0m\u001b[0;34m\u001b[0m\u001b[0m\n\u001b[1;32m      2\u001b[0m \u001b[0mkclusterer\u001b[0m \u001b[0;34m=\u001b[0m \u001b[0mKMeansClusterer\u001b[0m\u001b[0;34m(\u001b[0m\u001b[0mK\u001b[0m\u001b[0;34m,\u001b[0m \u001b[0mdistance\u001b[0m\u001b[0;34m=\u001b[0m\u001b[0mnltk\u001b[0m\u001b[0;34m.\u001b[0m\u001b[0mcluster\u001b[0m\u001b[0;34m.\u001b[0m\u001b[0mutil\u001b[0m\u001b[0;34m.\u001b[0m\u001b[0mcosine_distance\u001b[0m\u001b[0;34m)\u001b[0m\u001b[0;34m\u001b[0m\u001b[0;34m\u001b[0m\u001b[0m\n\u001b[0;32m----> 3\u001b[0;31m \u001b[0mypredspher\u001b[0m \u001b[0;34m=\u001b[0m \u001b[0mkclusterer\u001b[0m\u001b[0;34m.\u001b[0m\u001b[0mcluster\u001b[0m\u001b[0;34m(\u001b[0m\u001b[0mDocTerm_abstract\u001b[0m\u001b[0;34m,\u001b[0m\u001b[0;32mTrue\u001b[0m\u001b[0;34m)\u001b[0m\u001b[0;34m\u001b[0m\u001b[0;34m\u001b[0m\u001b[0m\n\u001b[0m\u001b[1;32m      4\u001b[0m \u001b[0;34m\u001b[0m\u001b[0m\n\u001b[1;32m      5\u001b[0m \u001b[0mprint\u001b[0m\u001b[0;34m(\u001b[0m\u001b[0;34m'Spherical K-means clustering (Matrix document - mot ) accuracy : '\u001b[0m\u001b[0;34m,\u001b[0m\u001b[0maccuracy_score\u001b[0m\u001b[0;34m(\u001b[0m\u001b[0mlabels_all\u001b[0m\u001b[0;34m,\u001b[0m\u001b[0mypredspher\u001b[0m\u001b[0;34m)\u001b[0m\u001b[0;34m)\u001b[0m\u001b[0;34m\u001b[0m\u001b[0;34m\u001b[0m\u001b[0m\n",
            "\u001b[0;32m/usr/local/lib/python3.7/dist-packages/nltk/cluster/util.py\u001b[0m in \u001b[0;36mcluster\u001b[0;34m(self, vectors, assign_clusters, trace)\u001b[0m\n\u001b[1;32m     59\u001b[0m \u001b[0;34m\u001b[0m\u001b[0m\n\u001b[1;32m     60\u001b[0m         \u001b[0;31m# call abstract method to cluster the vectors\u001b[0m\u001b[0;34m\u001b[0m\u001b[0;34m\u001b[0m\u001b[0;34m\u001b[0m\u001b[0m\n\u001b[0;32m---> 61\u001b[0;31m         \u001b[0mself\u001b[0m\u001b[0;34m.\u001b[0m\u001b[0mcluster_vectorspace\u001b[0m\u001b[0;34m(\u001b[0m\u001b[0mvectors\u001b[0m\u001b[0;34m,\u001b[0m \u001b[0mtrace\u001b[0m\u001b[0;34m)\u001b[0m\u001b[0;34m\u001b[0m\u001b[0;34m\u001b[0m\u001b[0m\n\u001b[0m\u001b[1;32m     62\u001b[0m \u001b[0;34m\u001b[0m\u001b[0m\n\u001b[1;32m     63\u001b[0m         \u001b[0;31m# assign the vectors to clusters\u001b[0m\u001b[0;34m\u001b[0m\u001b[0;34m\u001b[0m\u001b[0;34m\u001b[0m\u001b[0m\n",
            "\u001b[0;32m/usr/local/lib/python3.7/dist-packages/nltk/cluster/kmeans.py\u001b[0m in \u001b[0;36mcluster_vectorspace\u001b[0;34m(self, vectors, trace)\u001b[0m\n\u001b[1;32m     83\u001b[0m             \u001b[0;32mif\u001b[0m \u001b[0;32mnot\u001b[0m \u001b[0mself\u001b[0m\u001b[0;34m.\u001b[0m\u001b[0m_means\u001b[0m \u001b[0;32mor\u001b[0m \u001b[0mtrial\u001b[0m \u001b[0;34m>\u001b[0m \u001b[0;36m1\u001b[0m\u001b[0;34m:\u001b[0m\u001b[0;34m\u001b[0m\u001b[0;34m\u001b[0m\u001b[0m\n\u001b[1;32m     84\u001b[0m                 \u001b[0mself\u001b[0m\u001b[0;34m.\u001b[0m\u001b[0m_means\u001b[0m \u001b[0;34m=\u001b[0m \u001b[0mself\u001b[0m\u001b[0;34m.\u001b[0m\u001b[0m_rng\u001b[0m\u001b[0;34m.\u001b[0m\u001b[0msample\u001b[0m\u001b[0;34m(\u001b[0m\u001b[0mlist\u001b[0m\u001b[0;34m(\u001b[0m\u001b[0mvectors\u001b[0m\u001b[0;34m)\u001b[0m\u001b[0;34m,\u001b[0m \u001b[0mself\u001b[0m\u001b[0;34m.\u001b[0m\u001b[0m_num_means\u001b[0m\u001b[0;34m)\u001b[0m\u001b[0;34m\u001b[0m\u001b[0;34m\u001b[0m\u001b[0m\n\u001b[0;32m---> 85\u001b[0;31m             \u001b[0mself\u001b[0m\u001b[0;34m.\u001b[0m\u001b[0m_cluster_vectorspace\u001b[0m\u001b[0;34m(\u001b[0m\u001b[0mvectors\u001b[0m\u001b[0;34m,\u001b[0m \u001b[0mtrace\u001b[0m\u001b[0;34m)\u001b[0m\u001b[0;34m\u001b[0m\u001b[0;34m\u001b[0m\u001b[0m\n\u001b[0m\u001b[1;32m     86\u001b[0m             \u001b[0mmeanss\u001b[0m\u001b[0;34m.\u001b[0m\u001b[0mappend\u001b[0m\u001b[0;34m(\u001b[0m\u001b[0mself\u001b[0m\u001b[0;34m.\u001b[0m\u001b[0m_means\u001b[0m\u001b[0;34m)\u001b[0m\u001b[0;34m\u001b[0m\u001b[0;34m\u001b[0m\u001b[0m\n\u001b[1;32m     87\u001b[0m \u001b[0;34m\u001b[0m\u001b[0m\n",
            "\u001b[0;32m/usr/local/lib/python3.7/dist-packages/nltk/cluster/kmeans.py\u001b[0m in \u001b[0;36m_cluster_vectorspace\u001b[0;34m(self, vectors, trace)\u001b[0m\n\u001b[1;32m    122\u001b[0m \u001b[0;34m\u001b[0m\u001b[0m\n\u001b[1;32m    123\u001b[0m                 \u001b[0;31m# recalculate cluster means by computing the centroid of each cluster\u001b[0m\u001b[0;34m\u001b[0m\u001b[0;34m\u001b[0m\u001b[0;34m\u001b[0m\u001b[0m\n\u001b[0;32m--> 124\u001b[0;31m                 \u001b[0mnew_means\u001b[0m \u001b[0;34m=\u001b[0m \u001b[0mlist\u001b[0m\u001b[0;34m(\u001b[0m\u001b[0mmap\u001b[0m\u001b[0;34m(\u001b[0m\u001b[0mself\u001b[0m\u001b[0;34m.\u001b[0m\u001b[0m_centroid\u001b[0m\u001b[0;34m,\u001b[0m \u001b[0mclusters\u001b[0m\u001b[0;34m,\u001b[0m \u001b[0mself\u001b[0m\u001b[0;34m.\u001b[0m\u001b[0m_means\u001b[0m\u001b[0;34m)\u001b[0m\u001b[0;34m)\u001b[0m\u001b[0;34m\u001b[0m\u001b[0;34m\u001b[0m\u001b[0m\n\u001b[0m\u001b[1;32m    125\u001b[0m \u001b[0;34m\u001b[0m\u001b[0m\n\u001b[1;32m    126\u001b[0m                 \u001b[0;31m# measure the degree of change from the previous step for convergence\u001b[0m\u001b[0;34m\u001b[0m\u001b[0;34m\u001b[0m\u001b[0;34m\u001b[0m\u001b[0m\n",
            "\u001b[0;32m/usr/local/lib/python3.7/dist-packages/nltk/cluster/kmeans.py\u001b[0m in \u001b[0;36m_centroid\u001b[0;34m(self, cluster, mean)\u001b[0m\n\u001b[1;32m    174\u001b[0m             \u001b[0mcentroid\u001b[0m \u001b[0;34m=\u001b[0m \u001b[0mcopy\u001b[0m\u001b[0;34m.\u001b[0m\u001b[0mcopy\u001b[0m\u001b[0;34m(\u001b[0m\u001b[0mcluster\u001b[0m\u001b[0;34m[\u001b[0m\u001b[0;36m0\u001b[0m\u001b[0;34m]\u001b[0m\u001b[0;34m)\u001b[0m\u001b[0;34m\u001b[0m\u001b[0;34m\u001b[0m\u001b[0m\n\u001b[1;32m    175\u001b[0m             \u001b[0;32mfor\u001b[0m \u001b[0mvector\u001b[0m \u001b[0;32min\u001b[0m \u001b[0mcluster\u001b[0m\u001b[0;34m[\u001b[0m\u001b[0;36m1\u001b[0m\u001b[0;34m:\u001b[0m\u001b[0;34m]\u001b[0m\u001b[0;34m:\u001b[0m\u001b[0;34m\u001b[0m\u001b[0;34m\u001b[0m\u001b[0m\n\u001b[0;32m--> 176\u001b[0;31m                 \u001b[0mcentroid\u001b[0m \u001b[0;34m+=\u001b[0m \u001b[0mvector\u001b[0m\u001b[0;34m\u001b[0m\u001b[0;34m\u001b[0m\u001b[0m\n\u001b[0m\u001b[1;32m    177\u001b[0m             \u001b[0;32mreturn\u001b[0m \u001b[0mcentroid\u001b[0m \u001b[0;34m/\u001b[0m \u001b[0mlen\u001b[0m\u001b[0;34m(\u001b[0m\u001b[0mcluster\u001b[0m\u001b[0;34m)\u001b[0m\u001b[0;34m\u001b[0m\u001b[0;34m\u001b[0m\u001b[0m\n\u001b[1;32m    178\u001b[0m \u001b[0;34m\u001b[0m\u001b[0m\n",
            "\u001b[0;31mKeyboardInterrupt\u001b[0m: "
          ]
        }
      ]
    },
    {
      "cell_type": "markdown",
      "metadata": {
        "id": "auo-aw0_lV8L"
      },
      "source": [
        "### **Les termes les plus fréquents pour chaque cluster (Spherical Kmeans) :**"
      ]
    },
    {
      "cell_type": "code",
      "metadata": {
        "id": "Mf868ngWlfbc"
      },
      "source": [
        "word_plus_frequent_dans_chaque_cluster= []\n",
        "for i in range(0,27):\n",
        "  indexes = np.where(ypredspher == i)\n",
        "  word_plus_frequent_dans_chaque_cluster.append(vectorizer.get_feature_names()[np.argmax(np.sum(DocTerm_abstract[indexes], axis=0))])\n",
        "\n",
        "cmp=1\n",
        "for i in word_plus_frequent_dans_chaque_cluster:\n",
        "  print(\"cluster N°  : \" , cmp , \" Entité la plus fréquente :\" ,i)\n",
        "  cmp=cmp+1"
      ],
      "execution_count": null,
      "outputs": []
    },
    {
      "cell_type": "markdown",
      "metadata": {
        "id": "V7b70AIhl3Ey"
      },
      "source": [
        "### **Évolution des clusters selon le temps (les années) (Spherical Kmeans) :**"
      ]
    },
    {
      "cell_type": "code",
      "metadata": {
        "colab": {
          "base_uri": "https://localhost:8080/"
        },
        "id": "hmPFdVSNl3Ey",
        "outputId": "354c6e62-cf4c-4a96-c888-69e1472281fe"
      },
      "source": [
        "df['pred'] = ypredspher\n",
        "labels_all, u  = pd.factorize(df['Revue'])\n",
        "evol_clusters=[]\n",
        "li = list(u)\n",
        "for chaqueU in u:  \n",
        "  z = df[df['pred']== li.index(chaqueU)]\n",
        "  dff = z.groupby(['Année'])['Revue'].count()\n",
        "  evol_clusters.append(dff)\n",
        "  print(\"-----------------------\")\n",
        "  print(\"Cluster : \",chaqueU)\n",
        "  for i in range(len(dff)):\n",
        "    print(dff.index[i], dff[i])"
      ],
      "execution_count": null,
      "outputs": [
        {
          "output_type": "stream",
          "name": "stdout",
          "text": [
            "-----------------------\n",
            "Cluster :  ICCAD\n",
            "1992 41\n",
            "1993 3\n",
            "1994 49\n",
            "1995 46\n",
            "1996 51\n",
            "1997 48\n",
            "1998 1\n",
            "1999 57\n",
            "2000 46\n",
            "2001 53\n",
            "2002 55\n",
            "2003 72\n",
            "2004 46\n",
            "2005 69\n",
            "2006 74\n",
            "2007 65\n",
            "2008 57\n",
            "-----------------------\n",
            "Cluster :  IJCAI\n",
            "1969 12\n",
            "1971 9\n",
            "1973 11\n",
            "1975 27\n",
            "1977 25\n",
            "1981 37\n",
            "1983 34\n",
            "1985 43\n",
            "1987 64\n",
            "1989 82\n",
            "1991 66\n",
            "1993 53\n",
            "1995 80\n",
            "1997 18\n",
            "1999 69\n",
            "2001 78\n",
            "2003 92\n",
            "2005 113\n",
            "2007 36\n",
            "-----------------------\n",
            "Cluster :  DAC\n",
            "1985 24\n",
            "1986 30\n",
            "1987 30\n",
            "1988 35\n",
            "1989 49\n",
            "1990 42\n",
            "1992 12\n",
            "1993 3\n",
            "1994 1\n",
            "1995 1\n",
            "1996 3\n",
            "1997 52\n",
            "1998 46\n",
            "1999 33\n",
            "2000 39\n",
            "2001 44\n",
            "2002 65\n",
            "2003 76\n",
            "2004 83\n",
            "2005 63\n",
            "2006 85\n",
            "2007 91\n",
            "2008 86\n",
            "2009 50\n",
            "-----------------------\n",
            "Cluster :  ICCSA (1)\n",
            "2003 28\n",
            "2007 49\n",
            "2008 5\n",
            "-----------------------\n",
            "Cluster :  Data Min. Knowl. Discov.\n",
            "1997 3\n",
            "1998 5\n",
            "1999 7\n",
            "2000 6\n",
            "2001 8\n",
            "2002 5\n",
            "2003 4\n",
            "2004 8\n",
            "2005 5\n",
            "2006 8\n",
            "2007 9\n",
            "2008 6\n",
            "2009 10\n",
            "2010 4\n",
            "-----------------------\n",
            "Cluster :  GECCO (Companion)\n",
            "2007 38\n",
            "2008 30\n",
            "2009 58\n",
            "-----------------------\n",
            "Cluster :  Electr. Notes Theor. Comput. Sci.\n",
            "1996 2\n",
            "1998 1\n",
            "1999 2\n",
            "2000 1\n",
            "2001 3\n",
            "2002 3\n",
            "2003 6\n",
            "2004 23\n",
            "2005 150\n",
            "2006 128\n",
            "2007 201\n",
            "2008 189\n",
            "2009 182\n",
            "2010 7\n",
            "-----------------------\n",
            "Cluster :  DATA BASE\n",
            "1972 1\n",
            "1975 1\n",
            "1977 2\n",
            "1979 1\n",
            "1980 2\n",
            "1982 1\n",
            "1983 2\n",
            "1984 5\n",
            "1985 1\n",
            "1986 2\n",
            "1987 3\n",
            "1988 3\n",
            "1989 6\n",
            "1990 4\n",
            "1991 2\n",
            "1992 10\n",
            "1993 6\n",
            "1995 6\n",
            "1996 4\n",
            "1997 4\n",
            "1998 5\n",
            "1999 5\n",
            "2007 13\n",
            "2008 9\n",
            "-----------------------\n",
            "Cluster :  GECCO\n",
            "2003 102\n",
            "2005 108\n",
            "2006 113\n",
            "2007 137\n",
            "2008 127\n",
            "2009 144\n",
            "-----------------------\n",
            "Cluster :  Discrete Applied Mathematics\n",
            "2001 1\n",
            "2002 47\n",
            "2003 79\n",
            "2004 89\n",
            "2005 68\n",
            "2006 35\n",
            "2007 79\n",
            "2008 109\n",
            "2009 128\n",
            "2010 32\n",
            "-----------------------\n",
            "Cluster :  Des. Codes Cryptography\n",
            "1996 25\n",
            "1997 13\n",
            "1998 14\n",
            "1999 12\n",
            "2000 9\n",
            "2001 30\n",
            "2002 22\n",
            "2003 22\n",
            "2004 24\n",
            "2005 31\n",
            "2006 45\n",
            "2007 40\n",
            "2008 25\n",
            "2009 40\n",
            "2010 11\n",
            "-----------------------\n",
            "Cluster :  ICIP\n",
            "2000 1\n",
            "2009 407\n",
            "-----------------------\n",
            "Cluster :  ICCSA (2)\n",
            "2003 32\n",
            "2007 27\n",
            "2008 12\n",
            "-----------------------\n",
            "Cluster :  SIGMOD Conference\n",
            "1975 11\n",
            "1976 6\n",
            "1977 6\n",
            "1978 11\n",
            "1979 5\n",
            "1980 7\n",
            "1981 10\n",
            "1982 7\n",
            "1983 15\n",
            "1984 13\n",
            "1986 16\n",
            "1987 17\n",
            "1988 16\n",
            "1989 16\n",
            "1990 16\n",
            "1991 1\n",
            "1992 14\n",
            "1993 18\n",
            "1994 13\n",
            "1995 17\n",
            "1996 21\n",
            "1997 19\n",
            "1998 25\n",
            "1999 30\n",
            "2000 30\n",
            "2001 20\n",
            "2002 29\n",
            "2003 26\n",
            "2004 32\n",
            "2005 38\n",
            "2006 41\n",
            "2007 18\n",
            "2008 54\n",
            "2009 67\n",
            "2010 64\n",
            "-----------------------\n",
            "Cluster :  SMC\n",
            "2009 171\n",
            "-----------------------\n",
            "Cluster :  ICC\n",
            "2008 1\n",
            "2009 288\n",
            "-----------------------\n",
            "Cluster :  Journal of Systems and Software\n",
            "2001 1\n",
            "2002 31\n",
            "2003 26\n",
            "2004 48\n",
            "2005 45\n",
            "2006 38\n",
            "2007 74\n",
            "2008 78\n",
            "2009 58\n",
            "2010 43\n",
            "-----------------------\n",
            "Cluster :  SIGMOD Record\n",
            "1977 1\n",
            "1981 2\n",
            "1982 4\n",
            "1983 3\n",
            "1984 1\n",
            "1986 1\n",
            "1987 2\n",
            "1988 4\n",
            "1989 2\n",
            "1990 5\n",
            "1991 7\n",
            "1992 8\n",
            "1993 9\n",
            "1994 9\n",
            "1995 10\n",
            "1996 14\n",
            "1997 7\n",
            "1998 10\n",
            "1999 12\n",
            "2000 11\n",
            "2001 10\n",
            "2002 13\n",
            "2003 20\n",
            "2004 23\n",
            "2005 18\n",
            "2006 13\n",
            "2007 13\n",
            "2008 13\n",
            "2009 1\n",
            "-----------------------\n",
            "Cluster :  ICCSA (3)\n",
            "2003 34\n",
            "2004 1\n",
            "2007 34\n",
            "-----------------------\n",
            "Cluster :  Knowl. Inf. Syst.\n",
            "2002 8\n",
            "2003 3\n",
            "2004 3\n",
            "2005 11\n",
            "2006 4\n",
            "2007 5\n",
            "2008 1\n",
            "-----------------------\n",
            "Cluster :  ICCBR\n",
            "2003 29\n",
            "2007 11\n",
            "-----------------------\n",
            "Cluster :  Distributed Computing\n",
            "1991 10\n",
            "1992 7\n",
            "1993 8\n",
            "1994 8\n",
            "1995 7\n",
            "1996 3\n",
            "1997 9\n",
            "1998 5\n",
            "1999 7\n",
            "2000 8\n",
            "2001 3\n",
            "2002 5\n",
            "2003 9\n",
            "2004 9\n",
            "2005 10\n",
            "2006 5\n",
            "2007 2\n",
            "-----------------------\n",
            "Cluster :  GECCO Workshops\n",
            "2005 31\n",
            "-----------------------\n",
            "Cluster :  DAGM-Symposium\n",
            "2007 27\n",
            "2008 10\n",
            "-----------------------\n",
            "Cluster :  IJCAI (1)\n",
            "1995 22\n",
            "1997 21\n",
            "-----------------------\n",
            "Cluster :  ICCV\n",
            "1995 2\n",
            "1998 7\n",
            "1999 3\n",
            "2001 5\n",
            "2003 6\n",
            "2005 4\n",
            "2007 5\n",
            "-----------------------\n",
            "Cluster :  STOC\n",
            "2009 33\n",
            "-----------------------\n",
            "Cluster :  ICCE\n",
            "2005 25\n"
          ]
        }
      ]
    },
    {
      "cell_type": "markdown",
      "metadata": {
        "id": "xaUbC0WHrnpN"
      },
      "source": [
        "### **Nombre de citations des articles contenus dans chaque cluster  (Spherical K-means) :**"
      ]
    },
    {
      "cell_type": "code",
      "metadata": {
        "colab": {
          "base_uri": "https://localhost:8080/"
        },
        "id": "FrSatHSRrnpN",
        "outputId": "701e9f3b-6a1b-4131-e150-9d8f0d138075"
      },
      "source": [
        "labels_all, u  = pd.factorize(df['Revue'])\n",
        "evol_clusters=[]\n",
        "li = list(u)\n",
        "for chaqueU in u:  \n",
        "  z = df[df['pred']==li.index(chaqueU)]\n",
        "  dff = z['nombre_citation'].sum()\n",
        "  print(\"-----------------------\")\n",
        "  print(\"Nombre des citations dans le cluster : \",chaqueU)\n",
        "  print( dff ,\"Citations\")\n",
        "\n",
        "df.drop(columns=['pred'],inplace= True)"
      ],
      "execution_count": null,
      "outputs": [
        {
          "output_type": "stream",
          "name": "stdout",
          "text": [
            "-----------------------\n",
            "Nombre des citations dans le cluster :  ICCAD\n",
            "6129 Citations\n",
            "-----------------------\n",
            "Nombre des citations dans le cluster :  IJCAI\n",
            "4134 Citations\n",
            "-----------------------\n",
            "Nombre des citations dans le cluster :  DAC\n",
            "6319 Citations\n",
            "-----------------------\n",
            "Nombre des citations dans le cluster :  ICCSA (1)\n",
            "343 Citations\n",
            "-----------------------\n",
            "Nombre des citations dans le cluster :  Data Min. Knowl. Discov.\n",
            "1278 Citations\n",
            "-----------------------\n",
            "Nombre des citations dans le cluster :  GECCO (Companion)\n",
            "602 Citations\n",
            "-----------------------\n",
            "Nombre des citations dans le cluster :  Electr. Notes Theor. Comput. Sci.\n",
            "7465 Citations\n",
            "-----------------------\n",
            "Nombre des citations dans le cluster :  DATA BASE\n",
            "667 Citations\n",
            "-----------------------\n",
            "Nombre des citations dans le cluster :  GECCO\n",
            "3199 Citations\n",
            "-----------------------\n",
            "Nombre des citations dans le cluster :  Discrete Applied Mathematics\n",
            "4259 Citations\n",
            "-----------------------\n",
            "Nombre des citations dans le cluster :  Des. Codes Cryptography\n",
            "1510 Citations\n",
            "-----------------------\n",
            "Nombre des citations dans le cluster :  ICIP\n",
            "1436 Citations\n",
            "-----------------------\n",
            "Nombre des citations dans le cluster :  ICCSA (2)\n",
            "301 Citations\n",
            "-----------------------\n",
            "Nombre des citations dans le cluster :  SIGMOD Conference\n",
            "9983 Citations\n",
            "-----------------------\n",
            "Nombre des citations dans le cluster :  SMC\n",
            "686 Citations\n",
            "-----------------------\n",
            "Nombre des citations dans le cluster :  ICC\n",
            "1036 Citations\n",
            "-----------------------\n",
            "Nombre des citations dans le cluster :  Journal of Systems and Software\n",
            "5129 Citations\n",
            "-----------------------\n",
            "Nombre des citations dans le cluster :  SIGMOD Record\n",
            "2376 Citations\n",
            "-----------------------\n",
            "Nombre des citations dans le cluster :  ICCSA (3)\n",
            "382 Citations\n",
            "-----------------------\n",
            "Nombre des citations dans le cluster :  Knowl. Inf. Syst.\n",
            "514 Citations\n",
            "-----------------------\n",
            "Nombre des citations dans le cluster :  ICCBR\n",
            "235 Citations\n",
            "-----------------------\n",
            "Nombre des citations dans le cluster :  Distributed Computing\n",
            "1933 Citations\n",
            "-----------------------\n",
            "Nombre des citations dans le cluster :  GECCO Workshops\n",
            "117 Citations\n",
            "-----------------------\n",
            "Nombre des citations dans le cluster :  DAGM-Symposium\n",
            "145 Citations\n",
            "-----------------------\n",
            "Nombre des citations dans le cluster :  IJCAI (1)\n",
            "214 Citations\n",
            "-----------------------\n",
            "Nombre des citations dans le cluster :  ICCV\n",
            "456 Citations\n",
            "-----------------------\n",
            "Nombre des citations dans le cluster :  STOC\n",
            "526 Citations\n",
            "-----------------------\n",
            "Nombre des citations dans le cluster :  ICCE\n",
            "66 Citations\n"
          ]
        }
      ]
    },
    {
      "cell_type": "code",
      "metadata": {
        "colab": {
          "base_uri": "https://localhost:8080/",
          "height": 165
        },
        "id": "Rdg46ZVzw-Yn",
        "outputId": "400e7ca7-998f-4a0b-fff8-d1711665961a"
      },
      "source": [
        "del(DocTerm_abstract)"
      ],
      "execution_count": 68,
      "outputs": [
        {
          "output_type": "error",
          "ename": "NameError",
          "evalue": "ignored",
          "traceback": [
            "\u001b[0;31m---------------------------------------------------------------------------\u001b[0m",
            "\u001b[0;31mNameError\u001b[0m                                 Traceback (most recent call last)",
            "\u001b[0;32m<ipython-input-68-f1525fb4340d>\u001b[0m in \u001b[0;36m<module>\u001b[0;34m()\u001b[0m\n\u001b[0;32m----> 1\u001b[0;31m \u001b[0;32mdel\u001b[0m\u001b[0;34m(\u001b[0m\u001b[0mDocTerm_abstract\u001b[0m\u001b[0;34m)\u001b[0m\u001b[0;34m\u001b[0m\u001b[0;34m\u001b[0m\u001b[0m\n\u001b[0m",
            "\u001b[0;31mNameError\u001b[0m: name 'DocTerm_abstract' is not defined"
          ]
        }
      ]
    },
    {
      "cell_type": "markdown",
      "metadata": {
        "id": "DDObVwXhYKkA"
      },
      "source": [
        "## **Document - Entité**"
      ]
    },
    {
      "cell_type": "code",
      "metadata": {
        "id": "IbIiQQHKPmej"
      },
      "source": [
        "dictindex = dict(zip(listEntityAllunique,np.arange(len(listEntityAllunique))))\n",
        "entityEmbedding = np.zeros((len(abstract),len(listEntityAllunique)))\n",
        "for a in range(0,len(abstract)):\n",
        "  lista = listEntity[a]\n",
        "  indexEn = np.asanyarray(list(map(dictindex.get,lista)))\n",
        "  if len(indexEn) > 0 : \n",
        "    entityEmbedding[a,indexEn]=1"
      ],
      "execution_count": 67,
      "outputs": []
    },
    {
      "cell_type": "markdown",
      "metadata": {
        "id": "gv2Dwy32h7ut"
      },
      "source": [
        "## **K-means clustering (Document - Entité) :**"
      ]
    },
    {
      "cell_type": "code",
      "metadata": {
        "id": "cVc6-6roxFNW",
        "outputId": "9a2a701c-217c-4ede-c6e1-e2772a334a29",
        "colab": {
          "base_uri": "https://localhost:8080/"
        }
      },
      "source": [
        "kmeans = KMeans(n_clusters=K, random_state=0,n_init=5).fit(entityEmbedding)\n",
        "print('Entity  representation clustering  accuracy : ',accuracy_score(labels_all,kmeans.labels_))"
      ],
      "execution_count": 69,
      "outputs": [
        {
          "output_type": "stream",
          "name": "stdout",
          "text": [
            "Entity  representation clustering  accuracy :  0.02364011934817535\n"
          ]
        }
      ]
    },
    {
      "cell_type": "markdown",
      "metadata": {
        "id": "wQwtKxIzY14O"
      },
      "source": [
        "### **Les entités les plus fréquentes pour chaque cluster :**"
      ]
    },
    {
      "cell_type": "code",
      "metadata": {
        "id": "ukYr-QWIY5Z1",
        "outputId": "d0d1ea66-bfc1-419d-8499-249ce4a78aff",
        "colab": {
          "base_uri": "https://localhost:8080/"
        }
      },
      "source": [
        "entity_plus_frequent_dans_chaque_cluster=[]\n",
        "for i in range(0,27):\n",
        "  indexes = np.where(kmeans.labels_== i)\n",
        "  entity_plus_frequent_dans_chaque_cluster.append(listEntityAllunique[np.argmax(np.sum(entityEmbedding[indexes], axis=0))])\n",
        "\n",
        "cmp=1\n",
        "for i in entity_plus_frequent_dans_chaque_cluster:\n",
        "  print(\"cluster N°  : \" , cmp , \" l'entité la plus fréquente :\" ,dict_entities[i])\n",
        "  cmp=cmp+1\n",
        "\n"
      ],
      "execution_count": 70,
      "outputs": [
        {
          "output_type": "stream",
          "name": "stdout",
          "text": [
            "cluster N°  :  1  l'entité la plus fréquente : technology\n",
            "cluster N°  :  2  l'entité la plus fréquente : process\n",
            "cluster N°  :  3  l'entité la plus fréquente : algorithm\n",
            "cluster N°  :  4  l'entité la plus fréquente : Egypt\n",
            "cluster N°  :  5  l'entité la plus fréquente : data\n",
            "cluster N°  :  6  l'entité la plus fréquente : performance\n",
            "cluster N°  :  7  l'entité la plus fréquente : Planck constant\n",
            "cluster N°  :  8  l'entité la plus fréquente : system\n",
            "cluster N°  :  9  l'entité la plus fréquente : paper\n",
            "cluster N°  :  10  l'entité la plus fréquente : language\n",
            "cluster N°  :  11  l'entité la plus fréquente : design\n",
            "cluster N°  :  12  l'entité la plus fréquente : algorithm\n",
            "cluster N°  :  13  l'entité la plus fréquente : algebra\n",
            "cluster N°  :  14  l'entité la plus fréquente : electrical network\n",
            "cluster N°  :  15  l'entité la plus fréquente : result\n",
            "cluster N°  :  16  l'entité la plus fréquente : mathematical model\n",
            "cluster N°  :  17  l'entité la plus fréquente : paper\n",
            "cluster N°  :  18  l'entité la plus fréquente : time\n",
            "cluster N°  :  19  l'entité la plus fréquente : task\n",
            "cluster N°  :  20  l'entité la plus fréquente : logic\n",
            "cluster N°  :  21  l'entité la plus fréquente : algorithm\n",
            "cluster N°  :  22  l'entité la plus fréquente : result\n",
            "cluster N°  :  23  l'entité la plus fréquente : subroutine\n",
            "cluster N°  :  24  l'entité la plus fréquente : computer program\n",
            "cluster N°  :  25  l'entité la plus fréquente : computer\n",
            "cluster N°  :  26  l'entité la plus fréquente : computer\n",
            "cluster N°  :  27  l'entité la plus fréquente : design\n"
          ]
        }
      ]
    },
    {
      "cell_type": "markdown",
      "metadata": {
        "id": "NSTxBye1x1TZ"
      },
      "source": [
        ""
      ]
    },
    {
      "cell_type": "markdown",
      "metadata": {
        "id": "OTyiZatlyCdB"
      },
      "source": [
        "### **Évolution des clusters selon le temps (les années) :**"
      ]
    },
    {
      "cell_type": "code",
      "metadata": {
        "colab": {
          "base_uri": "https://localhost:8080/"
        },
        "id": "PQADQWiAyCdB",
        "outputId": "b31b2b54-8bcf-405a-ab7d-91a4b5cda42a"
      },
      "source": [
        "df['pred'] = kmeans.labels_\n",
        "labels_all, u  = pd.factorize(df['Revue'])\n",
        "evol_clusters=[]\n",
        "li = list(u)\n",
        "for chaqueU in u:  \n",
        "  z = df[df['pred']== li.index(chaqueU)]\n",
        "  dff = z.groupby(['Année'])['Revue'].count()\n",
        "  evol_clusters.append(dff)\n",
        "  print(\"-----------------------\")\n",
        "  print(\"Cluster : \",chaqueU)\n",
        "  for i in range(len(dff)):\n",
        "    print(dff.index[i], dff[i])\n"
      ],
      "execution_count": 71,
      "outputs": [
        {
          "output_type": "stream",
          "name": "stdout",
          "text": [
            "-----------------------\n",
            "Cluster :  ICCAD\n",
            "2009 1\n",
            "-----------------------\n",
            "Cluster :  IJCAI\n",
            "1973 1\n",
            "1975 3\n",
            "1977 3\n",
            "1981 2\n",
            "1982 1\n",
            "1983 2\n",
            "1985 3\n",
            "1987 7\n",
            "1988 2\n",
            "1989 7\n",
            "1990 2\n",
            "1991 2\n",
            "1992 2\n",
            "1993 4\n",
            "1995 4\n",
            "1996 1\n",
            "1997 4\n",
            "1998 3\n",
            "1999 8\n",
            "2000 4\n",
            "2001 5\n",
            "2002 8\n",
            "2003 19\n",
            "2004 12\n",
            "2005 33\n",
            "2006 18\n",
            "2007 36\n",
            "2008 41\n",
            "2009 44\n",
            "2010 7\n",
            "-----------------------\n",
            "Cluster :  DAC\n",
            "1975 1\n",
            "1983 2\n",
            "1986 1\n",
            "1987 6\n",
            "1988 3\n",
            "1989 4\n",
            "1991 3\n",
            "1992 2\n",
            "1993 4\n",
            "1994 1\n",
            "1995 7\n",
            "1996 3\n",
            "1997 6\n",
            "1998 5\n",
            "1999 13\n",
            "2000 13\n",
            "2001 12\n",
            "2002 9\n",
            "2003 23\n",
            "2004 17\n",
            "2005 28\n",
            "2006 18\n",
            "2007 39\n",
            "2008 29\n",
            "2009 56\n",
            "2010 6\n",
            "-----------------------\n",
            "Cluster :  ICCSA (1)\n",
            "2003 1\n",
            "-----------------------\n",
            "Cluster :  Data Min. Knowl. Discov.\n",
            "1969 1\n",
            "1971 1\n",
            "1973 2\n",
            "1975 8\n",
            "1976 4\n",
            "1977 3\n",
            "1978 2\n",
            "1979 3\n",
            "1981 7\n",
            "1982 3\n",
            "1983 8\n",
            "1984 2\n",
            "1985 2\n",
            "1986 3\n",
            "1987 11\n",
            "1988 5\n",
            "1989 7\n",
            "1990 6\n",
            "1991 5\n",
            "1992 5\n",
            "1993 9\n",
            "1994 5\n",
            "1995 7\n",
            "1996 12\n",
            "1997 17\n",
            "1998 12\n",
            "1999 13\n",
            "2000 18\n",
            "2001 19\n",
            "2002 27\n",
            "2003 37\n",
            "2004 27\n",
            "2005 44\n",
            "2006 34\n",
            "2007 43\n",
            "2008 40\n",
            "2009 103\n",
            "2010 32\n",
            "-----------------------\n",
            "Cluster :  GECCO (Companion)\n",
            "1977 2\n",
            "1979 1\n",
            "1981 1\n",
            "1982 1\n",
            "1983 2\n",
            "1984 1\n",
            "1985 3\n",
            "1986 4\n",
            "1987 4\n",
            "1988 1\n",
            "1989 7\n",
            "1990 2\n",
            "1991 2\n",
            "1992 3\n",
            "1993 6\n",
            "1994 6\n",
            "1995 11\n",
            "1996 4\n",
            "1997 11\n",
            "1998 8\n",
            "1999 7\n",
            "2000 9\n",
            "2001 11\n",
            "2002 13\n",
            "2003 32\n",
            "2004 12\n",
            "2005 36\n",
            "2006 32\n",
            "2007 40\n",
            "2008 44\n",
            "2009 139\n",
            "2010 11\n",
            "-----------------------\n",
            "Cluster :  Electr. Notes Theor. Comput. Sci.\n",
            "2003 1\n",
            "2004 1\n",
            "2009 1\n",
            "-----------------------\n",
            "Cluster :  DATA BASE\n",
            "1969 2\n",
            "1972 1\n",
            "1973 2\n",
            "1975 5\n",
            "1976 1\n",
            "1977 6\n",
            "1978 2\n",
            "1981 6\n",
            "1983 4\n",
            "1984 4\n",
            "1985 7\n",
            "1986 4\n",
            "1987 15\n",
            "1988 8\n",
            "1989 19\n",
            "1990 3\n",
            "1991 13\n",
            "1992 6\n",
            "1993 11\n",
            "1994 5\n",
            "1995 19\n",
            "1996 12\n",
            "1997 16\n",
            "1998 4\n",
            "1999 14\n",
            "2000 10\n",
            "2001 18\n",
            "2002 14\n",
            "2003 51\n",
            "2004 21\n",
            "2005 58\n",
            "2006 48\n",
            "2007 104\n",
            "2008 66\n",
            "2009 140\n",
            "2010 10\n",
            "-----------------------\n",
            "Cluster :  GECCO\n",
            "1969 1\n",
            "1975 3\n",
            "1979 1\n",
            "1980 1\n",
            "1981 2\n",
            "1983 5\n",
            "1985 6\n",
            "1986 2\n",
            "1987 12\n",
            "1988 2\n",
            "1989 13\n",
            "1990 7\n",
            "1991 13\n",
            "1992 5\n",
            "1993 7\n",
            "1994 2\n",
            "1995 18\n",
            "1996 7\n",
            "1997 17\n",
            "1998 10\n",
            "1999 24\n",
            "2000 5\n",
            "2001 14\n",
            "2002 20\n",
            "2003 54\n",
            "2004 39\n",
            "2005 85\n",
            "2006 50\n",
            "2007 92\n",
            "2008 67\n",
            "2009 135\n",
            "2010 22\n",
            "-----------------------\n",
            "Cluster :  Discrete Applied Mathematics\n",
            "1975 1\n",
            "-----------------------\n",
            "Cluster :  Des. Codes Cryptography\n",
            "1997 1\n",
            "1998 1\n",
            "1999 1\n",
            "2003 1\n",
            "2004 1\n",
            "2006 1\n",
            "2007 1\n",
            "2008 1\n",
            "-----------------------\n",
            "Cluster :  ICIP\n",
            "1980 1\n",
            "1982 1\n",
            "1986 1\n",
            "1987 2\n",
            "1988 4\n",
            "1989 2\n",
            "1990 8\n",
            "1992 4\n",
            "1993 1\n",
            "1994 5\n",
            "1995 2\n",
            "1996 4\n",
            "1997 7\n",
            "1998 4\n",
            "1999 5\n",
            "2000 5\n",
            "2001 13\n",
            "2002 8\n",
            "2003 13\n",
            "2004 8\n",
            "2005 11\n",
            "2006 13\n",
            "2007 20\n",
            "2008 14\n",
            "2009 11\n",
            "2010 3\n",
            "-----------------------\n",
            "Cluster :  ICCSA (2)\n",
            "2005 1\n",
            "-----------------------\n",
            "Cluster :  SIGMOD Conference\n",
            "1985 1\n",
            "1986 1\n",
            "1987 2\n",
            "1988 5\n",
            "1989 4\n",
            "1991 1\n",
            "1992 12\n",
            "1993 1\n",
            "1994 10\n",
            "1995 10\n",
            "1996 10\n",
            "1997 17\n",
            "1998 3\n",
            "1999 11\n",
            "2000 8\n",
            "2001 13\n",
            "2002 17\n",
            "2003 23\n",
            "2004 16\n",
            "2005 15\n",
            "2006 16\n",
            "2007 12\n",
            "2008 8\n",
            "2009 5\n",
            "2010 1\n",
            "-----------------------\n",
            "Cluster :  SMC\n",
            "1969 1\n",
            "1975 5\n",
            "1976 1\n",
            "1977 2\n",
            "1978 1\n",
            "1979 1\n",
            "1981 12\n",
            "1982 3\n",
            "1983 8\n",
            "1984 7\n",
            "1985 4\n",
            "1986 3\n",
            "1987 16\n",
            "1988 6\n",
            "1989 20\n",
            "1990 9\n",
            "1991 8\n",
            "1992 14\n",
            "1993 11\n",
            "1994 11\n",
            "1995 35\n",
            "1996 30\n",
            "1997 27\n",
            "1998 26\n",
            "1999 29\n",
            "2000 19\n",
            "2001 57\n",
            "2002 52\n",
            "2003 141\n",
            "2004 72\n",
            "2005 133\n",
            "2006 98\n",
            "2007 178\n",
            "2008 165\n",
            "2009 281\n",
            "2010 26\n",
            "-----------------------\n",
            "Cluster :  ICC\n",
            "1969 1\n",
            "1973 1\n",
            "1975 2\n",
            "1977 1\n",
            "1978 1\n",
            "1980 1\n",
            "1981 2\n",
            "1983 2\n",
            "1985 4\n",
            "1986 2\n",
            "1987 9\n",
            "1988 5\n",
            "1989 5\n",
            "1990 3\n",
            "1991 8\n",
            "1992 8\n",
            "1993 7\n",
            "1994 4\n",
            "1995 8\n",
            "1996 4\n",
            "1997 8\n",
            "1998 5\n",
            "1999 10\n",
            "2000 7\n",
            "2001 8\n",
            "2002 11\n",
            "2003 34\n",
            "2004 22\n",
            "2005 49\n",
            "2006 35\n",
            "2007 47\n",
            "2008 43\n",
            "2009 103\n",
            "2010 7\n",
            "-----------------------\n",
            "Cluster :  Journal of Systems and Software\n",
            "1990 1\n",
            "1994 1\n",
            "1998 1\n",
            "2001 1\n",
            "2005 1\n",
            "2007 1\n",
            "-----------------------\n",
            "Cluster :  SIGMOD Record\n",
            "1981 2\n",
            "1985 2\n",
            "1986 3\n",
            "1987 1\n",
            "1989 6\n",
            "1990 2\n",
            "1991 1\n",
            "1993 3\n",
            "1994 1\n",
            "1995 8\n",
            "1996 5\n",
            "1997 9\n",
            "1998 6\n",
            "1999 7\n",
            "2000 4\n",
            "2001 7\n",
            "2002 6\n",
            "2003 21\n",
            "2004 11\n",
            "2005 18\n",
            "2006 12\n",
            "2007 28\n",
            "2008 28\n",
            "2009 50\n",
            "2010 2\n",
            "-----------------------\n",
            "Cluster :  ICCSA (3)\n",
            "1971 2\n",
            "1975 1\n",
            "1977 2\n",
            "1978 1\n",
            "1980 2\n",
            "1981 2\n",
            "1983 7\n",
            "1985 5\n",
            "1986 1\n",
            "1987 8\n",
            "1988 2\n",
            "1989 12\n",
            "1990 1\n",
            "1991 5\n",
            "1992 5\n",
            "1993 8\n",
            "1994 5\n",
            "1995 16\n",
            "1996 5\n",
            "1997 9\n",
            "1998 4\n",
            "1999 18\n",
            "2000 6\n",
            "2001 13\n",
            "2002 20\n",
            "2003 44\n",
            "2004 27\n",
            "2005 61\n",
            "2006 41\n",
            "2007 67\n",
            "2008 48\n",
            "2009 93\n",
            "2010 8\n",
            "-----------------------\n",
            "Cluster :  Knowl. Inf. Syst.\n",
            "1986 1\n",
            "-----------------------\n",
            "Cluster :  ICCBR\n",
            "1971 2\n",
            "1975 2\n",
            "1980 2\n",
            "1981 4\n",
            "1983 5\n",
            "1984 2\n",
            "1985 5\n",
            "1986 6\n",
            "1987 6\n",
            "1988 6\n",
            "1989 16\n",
            "1990 7\n",
            "1991 8\n",
            "1992 5\n",
            "1993 8\n",
            "1994 8\n",
            "1995 18\n",
            "1996 7\n",
            "1997 12\n",
            "1998 8\n",
            "1999 20\n",
            "2000 9\n",
            "2001 16\n",
            "2002 13\n",
            "2003 59\n",
            "2004 35\n",
            "2005 51\n",
            "2006 42\n",
            "2007 82\n",
            "2008 61\n",
            "2009 131\n",
            "2010 9\n",
            "-----------------------\n",
            "Cluster :  Distributed Computing\n",
            "1983 1\n",
            "1985 1\n",
            "1986 2\n",
            "1987 1\n",
            "1988 1\n",
            "1989 7\n",
            "1990 8\n",
            "1991 2\n",
            "1992 6\n",
            "1993 6\n",
            "1994 5\n",
            "1995 10\n",
            "1996 9\n",
            "1997 6\n",
            "1998 7\n",
            "1999 17\n",
            "2000 6\n",
            "2001 11\n",
            "2002 13\n",
            "2003 36\n",
            "2004 15\n",
            "2005 42\n",
            "2006 27\n",
            "2007 41\n",
            "2008 35\n",
            "2009 100\n",
            "2010 6\n",
            "-----------------------\n",
            "Cluster :  GECCO Workshops\n",
            "1971 1\n",
            "1973 1\n",
            "1975 3\n",
            "1977 5\n",
            "1978 2\n",
            "1981 3\n",
            "1982 2\n",
            "1983 2\n",
            "1984 1\n",
            "1985 4\n",
            "1986 3\n",
            "1987 7\n",
            "1988 1\n",
            "1989 8\n",
            "1990 2\n",
            "1991 11\n",
            "1992 9\n",
            "1993 3\n",
            "1994 5\n",
            "1995 13\n",
            "1996 6\n",
            "1997 12\n",
            "1998 5\n",
            "1999 13\n",
            "2000 10\n",
            "2001 14\n",
            "2002 15\n",
            "2003 26\n",
            "2004 12\n",
            "2005 41\n",
            "2006 35\n",
            "2007 44\n",
            "2008 40\n",
            "2009 152\n",
            "2010 4\n",
            "-----------------------\n",
            "Cluster :  DAGM-Symposium\n",
            "1969 6\n",
            "1971 2\n",
            "1973 4\n",
            "1975 3\n",
            "1977 10\n",
            "1978 2\n",
            "1980 2\n",
            "1981 5\n",
            "1983 5\n",
            "1984 1\n",
            "1985 15\n",
            "1986 2\n",
            "1987 4\n",
            "1988 2\n",
            "1989 6\n",
            "1990 2\n",
            "1991 3\n",
            "1992 2\n",
            "1993 7\n",
            "1995 3\n",
            "1996 1\n",
            "1997 3\n",
            "1998 1\n",
            "1999 7\n",
            "2000 1\n",
            "2001 6\n",
            "2002 5\n",
            "2003 14\n",
            "2004 8\n",
            "2005 31\n",
            "2006 19\n",
            "2007 45\n",
            "2008 36\n",
            "2009 35\n",
            "2010 2\n",
            "-----------------------\n",
            "Cluster :  IJCAI (1)\n",
            "2009 1\n",
            "-----------------------\n",
            "Cluster :  ICCV\n",
            "1993 1\n",
            "-----------------------\n",
            "Cluster :  STOC\n",
            "1971 1\n",
            "1975 2\n",
            "1981 1\n",
            "1982 1\n",
            "1983 1\n",
            "1984 1\n",
            "1985 6\n",
            "1986 10\n",
            "1987 5\n",
            "1988 5\n",
            "1989 12\n",
            "1990 4\n",
            "1991 1\n",
            "1992 4\n",
            "1993 3\n",
            "1994 6\n",
            "1995 2\n",
            "1996 3\n",
            "1997 12\n",
            "1998 6\n",
            "1999 20\n",
            "2000 17\n",
            "2001 18\n",
            "2002 32\n",
            "2003 36\n",
            "2004 33\n",
            "2005 51\n",
            "2006 50\n",
            "2007 54\n",
            "2008 45\n",
            "2009 56\n",
            "2010 5\n",
            "-----------------------\n",
            "Cluster :  ICCE\n",
            "2008 1\n"
          ]
        }
      ]
    },
    {
      "cell_type": "markdown",
      "metadata": {
        "id": "3XdwuC-cyJrq"
      },
      "source": [
        "### **Nombre de citations des articles contenus dans chaque cluster  (Spherical K-means) :**"
      ]
    },
    {
      "cell_type": "code",
      "metadata": {
        "colab": {
          "base_uri": "https://localhost:8080/"
        },
        "id": "vzUHaBmbyJrq",
        "outputId": "d9d0b770-abbc-4727-9520-7ab91851f482"
      },
      "source": [
        "labels_all, u  = pd.factorize(df['Revue'])\n",
        "evol_clusters=[]\n",
        "li = list(u)\n",
        "for chaqueU in u:  \n",
        "  z = df[df['pred']==li.index(chaqueU)]\n",
        "  dff = z['nombre_citation'].sum()\n",
        "  print(\"-----------------------\")\n",
        "  print(\"Nombre des citations dans le cluster : \",chaqueU)\n",
        "  print( dff ,\"Citations\")\n",
        "\n",
        "df.drop(columns=['pred'],inplace= True)"
      ],
      "execution_count": 72,
      "outputs": [
        {
          "output_type": "stream",
          "name": "stdout",
          "text": [
            "-----------------------\n",
            "Nombre des citations dans le cluster :  ICCAD\n",
            "1 Citations\n",
            "-----------------------\n",
            "Nombre des citations dans le cluster :  IJCAI\n",
            "2249 Citations\n",
            "-----------------------\n",
            "Nombre des citations dans le cluster :  DAC\n",
            "3025 Citations\n",
            "-----------------------\n",
            "Nombre des citations dans le cluster :  ICCSA (1)\n",
            "3 Citations\n",
            "-----------------------\n",
            "Nombre des citations dans le cluster :  Data Min. Knowl. Discov.\n",
            "5553 Citations\n",
            "-----------------------\n",
            "Nombre des citations dans le cluster :  GECCO (Companion)\n",
            "3664 Citations\n",
            "-----------------------\n",
            "Nombre des citations dans le cluster :  Electr. Notes Theor. Comput. Sci.\n",
            "7 Citations\n",
            "-----------------------\n",
            "Nombre des citations dans le cluster :  DATA BASE\n",
            "4857 Citations\n",
            "-----------------------\n",
            "Nombre des citations dans le cluster :  GECCO\n",
            "4668 Citations\n",
            "-----------------------\n",
            "Nombre des citations dans le cluster :  Discrete Applied Mathematics\n",
            "2 Citations\n",
            "-----------------------\n",
            "Nombre des citations dans le cluster :  Des. Codes Cryptography\n",
            "57 Citations\n",
            "-----------------------\n",
            "Nombre des citations dans le cluster :  ICIP\n",
            "1201 Citations\n",
            "-----------------------\n",
            "Nombre des citations dans le cluster :  ICCSA (2)\n",
            "17 Citations\n",
            "-----------------------\n",
            "Nombre des citations dans le cluster :  SIGMOD Conference\n",
            "1393 Citations\n",
            "-----------------------\n",
            "Nombre des citations dans le cluster :  SMC\n",
            "9058 Citations\n",
            "-----------------------\n",
            "Nombre des citations dans le cluster :  ICC\n",
            "3529 Citations\n",
            "-----------------------\n",
            "Nombre des citations dans le cluster :  Journal of Systems and Software\n",
            "56 Citations\n",
            "-----------------------\n",
            "Nombre des citations dans le cluster :  SIGMOD Record\n",
            "1965 Citations\n",
            "-----------------------\n",
            "Nombre des citations dans le cluster :  ICCSA (3)\n",
            "3770 Citations\n",
            "-----------------------\n",
            "Nombre des citations dans le cluster :  Knowl. Inf. Syst.\n",
            "12 Citations\n",
            "-----------------------\n",
            "Nombre des citations dans le cluster :  ICCBR\n",
            "4500 Citations\n",
            "-----------------------\n",
            "Nombre des citations dans le cluster :  Distributed Computing\n",
            "3239 Citations\n",
            "-----------------------\n",
            "Nombre des citations dans le cluster :  GECCO Workshops\n",
            "3064 Citations\n",
            "-----------------------\n",
            "Nombre des citations dans le cluster :  DAGM-Symposium\n",
            "2214 Citations\n",
            "-----------------------\n",
            "Nombre des citations dans le cluster :  IJCAI (1)\n",
            "1 Citations\n",
            "-----------------------\n",
            "Nombre des citations dans le cluster :  ICCV\n",
            "7 Citations\n",
            "-----------------------\n",
            "Nombre des citations dans le cluster :  STOC\n",
            "3326 Citations\n",
            "-----------------------\n",
            "Nombre des citations dans le cluster :  ICCE\n",
            "2 Citations\n"
          ]
        }
      ]
    },
    {
      "cell_type": "markdown",
      "metadata": {
        "id": "EHEDGCvwYWq4"
      },
      "source": [
        "# **Clustering**"
      ]
    },
    {
      "cell_type": "code",
      "metadata": {
        "colab": {
          "base_uri": "https://localhost:8080/"
        },
        "id": "q1UsS86lNSzv",
        "outputId": "744ce7c2-6cb3-4681-8f73-3aad25b9076a"
      },
      "source": [
        "from nltk.cluster import KMeansClusterer\n",
        "kclusterer = KMeansClusterer(K, distance=nltk.cluster.util.cosine_distance)\n",
        "ypredspher = kclusterer.cluster(entityEmbedding,True)\n",
        "\n",
        "print('Entity  representation clustering  accuracy : ',accuracy_score(labels_all,ypredspher))"
      ],
      "execution_count": null,
      "outputs": [
        {
          "output_type": "stream",
          "name": "stderr",
          "text": [
            "/usr/local/lib/python3.7/dist-packages/nltk/cluster/util.py:133: RuntimeWarning: invalid value encountered in double_scalars\n",
            "  sqrt(numpy.dot(u, u)) * sqrt(numpy.dot(v, v))))\n"
          ]
        }
      ]
    },
    {
      "cell_type": "code",
      "metadata": {
        "id": "-hooR0JnOJ9D",
        "colab": {
          "base_uri": "https://localhost:8080/"
        },
        "outputId": "147aa85c-4354-4732-cb97-f0e5804521c4"
      },
      "source": [
        "print(ypredspher)\n",
        "print('Entity  representation clustering  accuracy : ',accuracy_score(labels_all,ypredspher))"
      ],
      "execution_count": null,
      "outputs": [
        {
          "output_type": "stream",
          "name": "stdout",
          "text": [
            "[3, 26, 17, 27, 23, 4, 22, 21, 11, 2, 26, 15, 25, 3, 4, 17, 4, 1, 26, 21, 7, 25, 22, 14, 26, 15, 0, 17, 27, 19, 14, 2, 24, 27, 10, 2, 9, 4, 3, 26, 2, 24, 8, 7, 19, 25, 11, 23, 13, 17, 15, 7, 19, 15, 5, 8, 17, 4, 15, 11, 5, 3, 8, 0, 7, 17, 21, 2, 4, 23, 17, 12, 3, 10, 1, 18, 22, 26, 6, 3, 4, 6, 12, 11, 22, 1, 8, 23, 21, 14, 8, 22, 24, 20, 26, 0, 25, 25, 6, 25, 12, 11, 26, 22, 23, 20, 24, 2, 22, 7, 2, 0, 1, 3, 19, 8, 22, 3, 7, 13, 25, 0, 23, 3, 3, 27, 7, 13, 15, 6, 23, 11, 26, 24, 20, 11, 20, 22, 24, 21, 24, 20, 3, 25, 0, 10, 27, 26, 3, 11, 4, 10, 9, 18, 11, 26, 26, 2, 13, 22, 18, 23, 24, 11, 12, 2, 19, 5, 26, 26, 12, 12, 26, 3, 26, 18, 6, 0, 22, 12, 14, 27, 13, 5, 3, 18, 23, 3, 27, 27, 16, 23, 8, 0, 0, 21, 6, 12, 14, 23, 26, 21, 7, 22, 19, 8, 23, 5, 26, 3, 3, 2, 10, 12, 22, 24, 5, 26, 22, 14, 7, 2, 25, 24, 3, 23, 2, 24, 2, 6, 11, 9, 9, 3, 8, 21, 24, 20, 5, 11, 3, 9, 22, 24, 14, 9, 2, 0, 22, 4, 14, 3, 24, 22, 23, 8, 0, 6, 2, 3, 25, 12, 7, 14, 4, 0, 19, 8, 7, 6, 19, 9, 20, 9, 24, 22, 9, 9, 19, 23, 24, 3, 13, 24, 12, 8, 19, 9, 2, 7, 9, 0, 14, 0, 8, 14, 24, 1, 25, 6, 0, 1, 24, 26, 2, 10, 26, 24, 22, 1, 10, 10, 26, 23, 23, 1, 22, 8, 7, 4, 20, 11, 14, 24, 3, 26, 24, 20, 17, 10, 26, 11, 1, 6, 20, 7, 7, 14, 26, 4, 21, 20, 10, 20, 14, 23, 6, 8, 12, 5, 0, 20, 0, 8, 8, 22, 20, 25, 23, 2, 10, 4, 4, 14, 17, 7, 9, 9, 17, 25, 14, 24, 11, 21, 20, 7, 17, 9, 24, 24, 19, 20, 18, 21, 4, 10, 7, 27, 3, 15, 0, 13, 10, 23, 4, 3, 15, 13, 24, 19, 24, 2, 1, 22, 10, 21, 20, 3, 15, 12, 3, 4, 4, 24, 22, 7, 24, 4, 10, 14, 4, 12, 4, 14, 0, 14, 11, 21, 1, 18, 17, 10, 24, 9, 4, 2, 11, 7, 15, 13, 3, 10, 17, 23, 17, 7, 7, 6, 25, 6, 23, 0, 26, 5, 24, 23, 11, 26, 25, 23, 19, 24, 9, 14, 13, 6, 0, 13, 3, 21, 24, 23, 26, 11, 4, 20, 17, 16, 18, 4, 3, 12, 26, 3, 24, 14, 16, 12, 8, 8, 0, 5, 25, 20, 6, 27, 5, 17, 4, 7, 10, 12, 26, 11, 5, 24, 27, 10, 1, 3, 11, 25, 17, 3, 18, 4, 24, 0, 24, 24, 27, 17, 18, 0, 26, 0, 11, 25, 10, 14, 10, 25, 3, 13, 11, 3, 6, 14, 26, 18, 5, 21, 2, 25, 24, 19, 12, 19, 4, 12, 20, 7, 2, 15, 26, 23, 26, 18, 26, 26, 4, 23, 18, 25, 26, 9, 23, 16, 24, 4, 12, 22, 10, 11, 19, 5, 14, 7, 19, 23, 2, 26, 7, 24, 17, 22, 0, 17, 7, 7, 24, 24, 11, 0, 9, 4, 23, 5, 23, 20, 21, 17, 23, 26, 13, 10, 10, 7, 11, 8, 19, 22, 6, 23, 22, 4, 13, 22, 10, 7, 9, 14, 10, 9, 7, 23, 4, 3, 0, 26, 2, 1, 26, 17, 22, 8, 22, 14, 24, 5, 9, 5, 12, 7, 23, 2, 2, 17, 9, 26, 1, 26, 14, 19, 15, 5, 13, 25, 8, 26, 1, 5, 6, 15, 6, 11, 8, 13, 18, 2, 20, 14, 4, 15, 20, 13, 5, 25, 22, 23, 11, 11, 11, 8, 10, 6, 12, 10, 22, 25, 3, 5, 24, 8, 19, 9, 11, 10, 12, 14, 17, 10, 17, 4, 10, 1, 8, 26, 26, 25, 17, 3, 10, 22, 25, 15, 7, 5, 17, 26, 10, 1, 11, 16, 23, 17, 12, 20, 14, 11, 4, 6, 25, 8, 24, 14, 22, 24, 26, 26, 3, 10, 21, 20, 9, 15, 24, 20, 10, 7, 2, 23, 7, 2, 24, 0, 17, 15, 2, 23, 17, 3, 2, 1, 21, 24, 19, 10, 11, 24, 23, 24, 1, 3, 10, 2, 15, 17, 8, 10, 20, 25, 4, 14, 13, 25, 12, 11, 13, 24, 23, 25, 8, 25, 23, 4, 9, 21, 25, 22, 21, 8, 5, 17, 6, 24, 3, 24, 3, 6, 11, 25, 25, 14, 7, 8, 22, 12, 24, 15, 10, 24, 1, 26, 23, 25, 5, 27, 6, 19, 24, 2, 2, 17, 19, 6, 15, 7, 26, 13, 13, 24, 7, 7, 25, 26, 0, 13, 3, 11, 17, 7, 24, 2, 12, 4, 5, 9, 8, 19, 20, 0, 23, 5, 20, 8, 0, 27, 24, 12, 23, 13, 11, 14, 2, 17, 11, 24, 9, 1, 20, 6, 9, 15, 20, 19, 15, 20, 7, 24, 19, 17, 24, 15, 11, 9, 23, 16, 18, 5, 1, 4, 11, 24, 22, 4, 5, 23, 14, 26, 8, 9, 26, 6, 23, 8, 5, 22, 14, 6, 10, 19, 14, 20, 4, 24, 2, 25, 15, 7, 25, 22, 11, 10, 26, 25, 17, 8, 6, 4, 23, 22, 22, 17, 21, 2, 19, 25, 8, 25, 10, 15, 2, 10, 4, 12, 3, 13, 1, 11, 7, 20, 14, 20, 11, 24, 3, 13, 2, 3, 24, 24, 8, 6, 24, 12, 20, 26, 27, 12, 9, 20, 22, 8, 2, 4, 14, 20, 21, 2, 6, 11, 9, 10, 1, 17, 4, 9, 24, 0, 22, 25, 17, 13, 15, 27, 11, 3, 3, 4, 0, 25, 11, 15, 3, 3, 12, 1, 22, 7, 11, 21, 24, 24, 12, 4, 24, 14, 22, 25, 24, 24, 9, 24, 2, 24, 5, 11, 26, 17, 11, 15, 24, 0, 8, 15, 3, 9, 13, 26, 4, 15, 5, 8, 22, 26, 3, 7, 10, 1, 12, 4, 15, 4, 15, 3, 2, 12, 20, 14, 26, 23, 9, 1, 23, 20, 25, 14, 15, 26, 20, 25, 20, 7, 22, 10, 12, 22, 0, 0, 2, 27, 4, 9, 4, 25, 3, 2, 14, 4, 27, 14, 14, 25, 3, 4, 7, 17, 25, 3, 17, 1, 11, 25, 25, 1, 3, 23, 24, 15, 11, 22, 17, 1, 16, 17, 16, 5, 11, 21, 22, 4, 8, 19, 10, 20, 5, 24, 11, 15, 22, 22, 4, 9, 6, 24, 5, 7, 1, 23, 26, 24, 15, 22, 15, 24, 13, 18, 15, 18, 13, 13, 24, 14, 22, 12, 9, 17, 14, 8, 19, 17, 1, 3, 27, 22, 24, 10, 1, 3, 3, 21, 25, 26, 22, 16, 25, 3, 23, 14, 25, 23, 23, 0, 16, 19, 19, 2, 22, 6, 24, 7, 15, 17, 14, 14, 14, 25, 14, 17, 10, 0, 24, 24, 1, 7, 0, 24, 26, 10, 3, 16, 3, 14, 23, 26, 4, 22, 26, 25, 0, 6, 11, 11, 1, 22, 10, 12, 10, 11, 3, 24, 13, 2, 23, 4, 9, 10, 26, 11, 25, 18, 0, 23, 3, 20, 4, 14, 25, 0, 11, 5, 10, 19, 8, 14, 23, 11, 3, 10, 24, 9, 9, 3, 25, 26, 19, 9, 11, 3, 14, 4, 26, 2, 21, 7, 24, 6, 5, 6, 27, 20, 5, 19, 18, 18, 6, 3, 1, 3, 8, 2, 18, 16, 23, 26, 7, 11, 11, 19, 6, 11, 5, 7, 10, 11, 23, 3, 17, 10, 24, 15, 3, 10, 9, 23, 24, 19, 14, 26, 0, 3, 22, 26, 14, 17, 10, 4, 19, 5, 21, 14, 8, 11, 4, 17, 25, 19, 10, 20, 12, 22, 24, 21, 26, 9, 25, 17, 25, 3, 24, 20, 3, 20, 22, 17, 17, 17, 25, 19, 26, 4, 2, 7, 1, 6, 3, 4, 22, 14, 24, 11, 20, 6, 19, 26, 4, 1, 26, 12, 10, 10, 3, 26, 26, 25, 11, 26, 3, 26, 13, 14, 2, 23, 18, 11, 19, 24, 25, 2, 23, 12, 10, 7, 26, 3, 20, 25, 15, 25, 17, 25, 3, 4, 23, 11, 10, 13, 2, 4, 16, 22, 17, 26, 4, 3, 10, 11, 6, 12, 3, 8, 14, 11, 15, 25, 13, 15, 14, 9, 11, 25, 21, 1, 4, 15, 15, 11, 21, 26, 4, 7, 18, 3, 23, 14, 14, 26, 25, 11, 9, 24, 8, 26, 12, 2, 5, 25, 24, 23, 7, 15, 17, 24, 6, 2, 15, 22, 23, 23, 19, 24, 3, 24, 4, 14, 24, 23, 8, 0, 12, 7, 25, 22, 2, 21, 9, 10, 24, 18, 2, 25, 11, 18, 3, 5, 5, 4, 8, 21, 11, 21, 14, 11, 19, 21, 22, 24, 5, 3, 4, 10, 23, 3, 24, 18, 11, 14, 3, 11, 5, 23, 5, 3, 8, 14, 25, 18, 14, 17, 1, 17, 8, 23, 3, 21, 20, 3, 12, 10, 24, 26, 11, 22, 24, 19, 25, 13, 20, 25, 10, 10, 7, 4, 2, 5, 11, 22, 10, 1, 26, 14, 0, 2, 13, 3, 25, 26, 25, 23, 10, 23, 7, 23, 22, 14, 23, 24, 3, 7, 14, 0, 14, 25, 20, 20, 20, 26, 15, 18, 8, 2, 15, 22, 5, 19, 3, 11, 10, 9, 26, 26, 23, 5, 15, 27, 24, 17, 15, 8, 9, 9, 5, 7, 5, 14, 7, 9, 18, 13, 24, 0, 14, 25, 8, 26, 22, 8, 21, 15, 25, 3, 20, 22, 10, 5, 19, 20, 3, 16, 3, 6, 3, 26, 20, 11, 14, 20, 10, 24, 5, 14, 3, 14, 13, 22, 6, 10, 24, 19, 11, 7, 0, 15, 7, 24, 10, 23, 1, 14, 11, 17, 7, 3, 11, 19, 14, 22, 24, 23, 25, 19, 4, 25, 14, 3, 17, 1, 7, 16, 20, 22, 20, 19, 23, 10, 25, 2, 26, 18, 15, 2, 10, 23, 20, 20, 7, 17, 20, 1, 3, 2, 10, 6, 10, 11, 23, 1, 12, 1, 19, 10, 25, 19, 0, 8, 10, 17, 26, 4, 9, 11, 1, 23, 25, 11, 12, 21, 2, 24, 4, 19, 12, 10, 10, 5, 21, 27, 4, 21, 18, 27, 23, 19, 14, 22, 24, 1, 21, 24, 2, 25, 4, 11, 22, 24, 8, 3, 1, 26, 14, 4, 10, 7, 23, 3, 6, 24, 22, 24, 3, 11, 10, 26, 17, 10, 12, 19, 1, 4, 9, 24, 24, 23, 17, 25, 6, 22, 24, 7, 2, 8, 25, 2, 15, 6, 23, 23, 7, 26, 14, 2, 2, 24, 17, 3, 26, 23, 20, 2, 25, 8, 0, 20, 18, 14, 20, 10, 8, 4, 3, 6, 25, 7, 11, 20, 21, 4, 17, 25, 14, 10, 4, 27, 1, 23, 2, 2, 24, 10, 3, 17, 8, 13, 12, 9, 5, 15, 6, 26, 4, 20, 17, 0, 19, 3, 6, 17, 7, 26, 10, 9, 7, 9, 17, 8, 2, 23, 22, 4, 19, 23, 24, 3, 9, 2, 8, 12, 19, 22, 3, 20, 1, 1, 5, 16, 24, 4, 24, 22, 10, 25, 11, 15, 5, 22, 7, 5, 8, 5, 24, 24, 26, 3, 14, 10, 10, 24, 3, 20, 19, 7, 15, 5, 26, 15, 24, 23, 23, 23, 3, 10, 26, 3, 12, 25, 18, 20, 24, 25, 22, 13, 17, 24, 14, 8, 10, 9, 7, 1, 15, 12, 14, 7, 26, 3, 7, 7, 11, 9, 5, 16, 11, 26, 26, 0, 3, 19, 13, 15, 24, 14, 24, 9, 13, 16, 24, 3, 10, 8, 2, 0, 10, 5, 4, 22, 19, 4, 24, 2, 15, 11, 5, 15, 23, 22, 9, 22, 8, 3, 17, 3, 22, 10, 6, 2, 24, 12, 12, 9, 27, 25, 4, 25, 4, 0, 24, 25, 10, 0, 12, 26, 4, 20, 2, 1, 11, 20, 11, 15, 7, 17, 9, 24, 9, 21, 24, 25, 10, 3, 25, 14, 7, 16, 2, 26, 25, 1, 12, 11, 27, 25, 4, 20, 19, 21, 3, 9, 1, 22, 21, 4, 10, 3, 2, 11, 9, 0, 6, 5, 11, 0, 0, 24, 25, 5, 23, 6, 27, 2, 25, 22, 4, 3, 0, 14, 23, 1, 3, 11, 5, 19, 26, 21, 3, 7, 0, 18, 7, 18, 2, 7, 23, 16, 26, 2, 13, 12, 1, 24, 6, 10, 19, 25, 26, 11, 10, 5, 0, 24, 7, 27, 27, 2, 4, 6, 1, 26, 26, 10, 26, 4, 0, 24, 4, 21, 3, 12, 15, 24, 20, 3, 5, 4, 6, 23, 10, 7, 25, 14, 26, 15, 11, 18, 7, 2, 7, 26, 5, 15, 23, 10, 17, 1, 5, 14, 23, 3, 25, 22, 11, 11, 23, 20, 18, 24, 1, 11, 8, 17, 0, 24, 15, 22, 7, 8, 10, 12, 25, 14, 7, 11, 10, 26, 22, 4, 27, 4, 15, 17, 1, 3, 7, 27, 1, 3, 13, 22, 27, 25, 9, 2, 3, 23, 10, 15, 11, 15, 3, 15, 20, 14, 26, 10, 4, 8, 27, 23, 9, 10, 26, 19, 3, 9, 22, 3, 19, 7, 17, 24, 3, 2, 23, 22, 3, 26, 27, 12, 14, 3, 21, 17, 13, 8, 1, 1, 11, 25, 4, 10, 20, 11, 23, 3, 16, 22, 2, 24, 13, 6, 8, 14, 1, 19, 20, 21, 15, 14, 12, 19, 20, 5, 12, 10, 12, 20, 0, 23, 3, 0, 10, 10, 3, 10, 2, 27, 20, 5, 11, 24, 24, 9, 10, 26, 20, 24, 21, 12, 5, 6, 7, 17, 15, 3, 23, 20, 14, 26, 23, 4, 3, 11, 26, 12, 4, 27, 24, 14, 19, 4, 26, 10, 22, 4, 22, 24, 20, 5, 24, 7, 26, 12, 15, 24, 7, 8, 17, 17, 14, 6, 12, 14, 25, 0, 22, 10, 13, 25, 15, 19, 3, 13, 3, 11, 27, 4, 9, 12, 9, 3, 10, 26, 11, 26, 7, 11, 15, 22, 19, 4, 20, 3, 22, 7, 3, 27, 11, 24, 3, 6, 0, 2, 11, 27, 25, 19, 17, 6, 20, 24, 14, 17, 7, 25, 24, 8, 25, 1, 14, 24, 22, 24, 26, 23, 14, 3, 26, 25, 3, 9, 3, 8, 21, 2, 22, 9, 24, 2, 15, 8, 0, 15, 7, 4, 12, 20, 25, 10, 14, 18, 0, 22, 20, 2, 22, 10, 14, 3, 15, 10, 19, 26, 26, 4, 26, 26, 23, 25, 12, 17, 25, 19, 2, 25, 1, 24, 13, 5, 11, 25, 11, 8, 15, 3, 3, 23, 3, 3, 11, 24, 6, 18, 14, 3, 6, 6, 13, 2, 26, 3, 22, 23, 22, 14, 8, 22, 14, 14, 24, 13, 17, 16, 3, 12, 19, 3, 12, 7, 24, 1, 4, 7, 12, 4, 26, 0, 22, 19, 1, 3, 6, 13, 27, 10, 20, 4, 24, 10, 15, 21, 13, 0, 11, 25, 7, 9, 17, 20, 3, 24, 18, 10, 6, 4, 14, 15, 3, 4, 23, 21, 19, 20, 22, 14, 26, 23, 9, 5, 10, 14, 3, 4, 3, 21, 6, 19, 24, 26, 1, 22, 6, 1, 26, 21, 5, 3, 27, 24, 9, 14, 26, 5, 14, 24, 4, 1, 25, 16, 10, 12, 25, 8, 21, 3, 25, 10, 25, 22, 3, 0, 4, 4, 11, 10, 8, 25, 15, 3, 11, 27, 3, 16, 1, 9, 26, 14, 13, 14, 4, 2, 26, 10, 15, 14, 25, 22, 1, 23, 9, 8, 14, 5, 17, 4, 25, 21, 6, 27, 27, 11, 16, 8, 7, 11, 20, 3, 12, 9, 8, 9, 5, 26, 26, 13, 3, 2, 18, 24, 3, 0, 20, 23, 23, 23, 24, 3, 22, 25, 0, 2, 22, 7, 25, 24, 3, 26, 13, 24, 23, 23, 25, 27, 7, 7, 0, 3, 22, 21, 1, 26, 10, 0, 26, 10, 17, 8, 26, 11, 6, 9, 15, 15, 25, 2, 0, 2, 3, 1, 23, 7, 11, 5, 14, 16, 5, 11, 3, 19, 2, 17, 27, 3, 6, 11, 22, 11, 7, 7, 11, 12, 3, 16, 5, 17, 25, 2, 1, 22, 12, 9, 14, 26, 17, 26, 12, 14, 3, 13, 3, 19, 6, 15, 1, 0, 6, 2, 24, 25, 8, 19, 26, 9, 3, 8, 24, 23, 25, 13, 20, 24, 1, 23, 19, 20, 20, 19, 26, 26, 26, 4, 13, 9, 19, 10, 4, 7, 19, 1, 18, 3, 20, 6, 7, 26, 14, 24, 5, 9, 17, 20, 8, 1, 22, 1, 20, 15, 26, 23, 8, 8, 10, 25, 3, 23, 10, 26, 17, 26, 14, 6, 23, 17, 12, 12, 17, 17, 1, 13, 24, 2, 25, 15, 22, 13, 1, 3, 4, 15, 21, 13, 12, 26, 10, 5, 0, 6, 9, 12, 24, 1, 1, 16, 14, 10, 3, 24, 4, 25, 7, 1, 6, 9, 14, 7, 6, 26, 2, 14, 21, 10, 4, 3, 12, 3, 10, 11, 3, 24, 3, 15, 19, 10, 13, 0, 3, 24, 18, 8, 12, 19, 3, 1, 10, 12, 1, 12, 24, 11, 24, 8, 4, 5, 6, 9, 0, 19, 26, 14, 17, 5, 20, 27, 24, 9, 23, 23, 0, 22, 25, 21, 15, 23, 10, 14, 3, 20, 20, 17, 23, 17, 17, 17, 25, 22, 15, 15, 25, 15, 3, 21, 23, 4, 10, 13, 10, 23, 1, 11, 1, 10, 1, 26, 13, 4, 10, 23, 3, 11, 15, 1, 22, 25, 23, 1, 4, 3, 10, 22, 26, 17, 24, 9, 13, 17, 5, 26, 16, 20, 1, 3, 7, 14, 0, 20, 20, 4, 24, 7, 20, 11, 26, 5, 24, 3, 19, 7, 7, 2, 14, 24, 3, 13, 14, 4, 11, 24, 8, 25, 3, 26, 17, 14, 7, 13, 10, 23, 13, 0, 14, 4, 4, 13, 11, 11, 15, 16, 20, 24, 25, 26, 3, 12, 9, 26, 12, 9, 24, 14, 3, 25, 14, 26, 1, 26, 23, 7, 22, 20, 9, 9, 25, 6, 15, 0, 11, 2, 9, 7, 0, 17, 6, 19, 25, 17, 19, 5, 20, 2, 24, 10, 10, 26, 23, 24, 23, 8, 3, 7, 10, 1, 26, 10, 0, 21, 25, 10, 3, 14, 20, 8, 0, 0, 7, 22, 8, 27, 26, 17, 24, 10, 5, 13, 25, 8, 3, 17, 27, 0, 15, 3, 20, 10, 18, 27, 8, 26, 21, 14, 7, 2, 1, 2, 26, 2, 1, 13, 0, 1, 4, 0, 10, 9, 25, 10, 22, 4, 26, 19, 14, 3, 10, 8, 15, 4, 22, 26, 14, 6, 6, 1, 14, 24, 17, 23, 19, 3, 8, 27, 3, 20, 21, 26, 7, 22, 1, 9, 3, 26, 20, 20, 24, 5, 25, 10, 4, 19, 13, 12, 23, 14, 2, 14, 19, 4, 7, 15, 8, 22, 15, 13, 3, 10, 15, 16, 12, 14, 22, 22, 26, 3, 10, 3, 9, 22, 27, 21, 14, 24, 24, 22, 4, 27, 11, 24, 4, 25, 7, 13, 12, 20, 6, 11, 23, 10, 25, 15, 5, 7, 26, 7, 18, 27, 6, 19, 2, 18, 24, 19, 26, 3, 27, 15, 9, 9, 23, 23, 26, 7, 25, 4, 3, 9, 14, 4, 5, 9, 27, 10, 0, 22, 21, 13, 0, 20, 27, 26, 26, 22, 21, 20, 20, 7, 21, 20, 8, 11, 10, 26, 1, 23, 3, 0, 25, 24, 17, 23, 11, 15, 4, 0, 9, 8, 26, 1, 10, 24, 3, 23, 21, 22, 20, 6, 8, 13, 3, 17, 26, 0, 14, 12, 3, 9, 22, 13, 7, 22, 2, 15, 15, 8, 14, 14, 20, 8, 10, 27, 10, 17, 7, 13, 1, 24, 15, 10, 1, 23, 15, 24, 14, 24, 3, 26, 5, 13, 1, 17, 12, 24, 24, 10, 22, 22, 7, 9, 16, 21, 10, 13, 24, 23, 15, 24, 14, 13, 25, 22, 18, 3, 20, 7, 23, 3, 12, 27, 22, 5, 17, 14, 12, 22, 9, 15, 4, 13, 4, 1, 24, 25, 7, 24, 2, 10, 14, 14, 1, 5, 3, 22, 3, 3, 3, 10, 7, 16, 3, 20, 14, 3, 25, 24, 25, 5, 3, 11, 7, 10, 10, 7, 7, 2, 24, 9, 18, 18, 3, 12, 17, 5, 21, 6, 15, 20, 15, 0, 3, 24, 20, 4, 14, 24, 23, 26, 16, 25, 24, 3, 0, 15, 7, 25, 17, 7, 24, 2, 14, 20, 17, 24, 8, 14, 19, 15, 19, 14, 19, 10, 22, 10, 25, 7, 26, 23, 22, 0, 15, 16, 5, 20, 4, 7, 25, 19, 3, 14, 11, 14, 17, 27, 7, 13, 11, 10, 21, 21, 13, 24, 8, 9, 8, 4, 8, 13, 2, 0, 14, 19, 5, 10, 24, 3, 10, 23, 25, 3, 6, 22, 12, 1, 25, 10, 27, 20, 14, 17, 3, 2, 20, 7, 11, 2, 22, 22, 3, 24, 19, 4, 20, 21, 26, 20, 5, 10, 3, 6, 27, 23, 22, 27, 14, 27, 5, 24, 21, 0, 25, 8, 15, 22, 24, 4, 27, 26, 4, 10, 9, 12, 11, 8, 11, 20, 24, 26, 26, 8, 4, 14, 17, 25, 14, 23, 24, 14, 0, 26, 7, 10, 24, 24, 13, 8, 12, 24, 5, 11, 23, 11, 10, 25, 24, 25, 25, 6, 3, 26, 25, 24, 3, 11, 15, 22, 14, 0, 14, 21, 9, 2, 9, 26, 2, 6, 19, 26, 24, 20, 3, 12, 26, 14, 26, 22, 3, 4, 24, 10, 1, 4, 5, 3, 18, 25, 17, 10, 2, 9, 0, 7, 21, 26, 15, 6, 5, 4, 13, 7, 0, 13, 14, 22, 13, 11, 23, 27, 5, 21, 24, 14, 7, 1, 8, 4, 20, 26, 24, 15, 10, 9, 0, 3, 14, 24, 14, 6, 12, 6, 26, 22, 4, 13, 9, 10, 26, 9, 22, 21, 15, 24, 3, 6, 10, 6, 0, 20, 24, 11, 7, 10, 24, 23, 8, 25, 15, 22, 24, 7, 22, 18, 22, 8, 11, 17, 9, 2, 26, 11, 17, 14, 9, 0, 0, 10, 17, 26, 20, 9, 3, 24, 5, 18, 7, 3, 11, 13, 12, 17, 12, 1, 25, 11, 12, 9, 10, 12, 11, 22, 8, 26, 2, 22, 11, 2, 3, 2, 8, 22, 3, 24, 3, 24, 3, 11, 5, 8, 20, 10, 26, 21, 27, 27, 20, 20, 7, 10, 1, 1, 7, 4, 14, 23, 15, 26, 25, 23, 14, 12, 24, 13, 6, 26, 1, 3, 17, 25, 8, 21, 21, 24, 1, 10, 26, 20, 13, 4, 18, 21, 26, 15, 6, 20, 25, 12, 11, 2, 20, 0, 2, 26, 14, 11, 22, 27, 11, 11, 11, 14, 15, 8, 25, 4, 20, 8, 23, 10, 27, 22, 17, 7, 5, 10, 15, 26, 4, 9, 2, 1, 7, 2, 25, 24, 25, 15, 9, 4, 3, 7, 12, 14, 4, 26, 24, 20, 2, 14, 6, 0, 11, 26, 7, 22, 11, 20, 25, 19, 0, 2, 3, 13, 26, 5, 26, 22, 26, 14, 26, 4, 20, 13, 11, 0, 23, 5, 23, 13, 13, 15, 26, 2, 1, 10, 6, 9, 7, 21, 5, 11, 6, 0, 15, 1, 24, 24, 26, 8, 0, 24, 10, 15, 12, 20, 17, 21, 26, 6, 10, 3, 2, 7, 15, 26, 3, 3, 22, 2, 3, 8, 5, 5, 0, 2, 22, 24, 17, 10, 10, 22, 7, 10, 9, 4, 26, 23, 4, 4, 26, 26, 23, 11, 27, 25, 14, 18, 8, 12, 15, 23, 1, 3, 22, 25, 21, 24, 4, 10, 2, 24, 20, 26, 7, 24, 11, 11, 15, 7, 24, 7, 22, 26, 22, 7, 23, 20, 14, 23, 5, 20, 24, 4, 26, 19, 17, 5, 25, 17, 4, 3, 14, 24, 20, 3, 10, 7, 26, 18, 0, 1, 3, 3, 2, 18, 10, 6, 4, 5, 11, 23, 17, 10, 22, 11, 12, 18, 17, 4, 17, 14, 15, 5, 20, 25, 2, 0, 10, 12, 12, 21, 1, 0, 23, 22, 15, 24, 14, 11, 13, 22, 19, 22, 12, 25, 8, 5, 8, 22, 15, 7, 2, 23, 4, 7, 24, 24, 16, 14, 24, 2, 7, 27, 20, 3, 2, 7, 23, 20, 7, 14, 2, 19, 19, 1, 6, 25, 22, 9, 2, 12, 19, 14, 23, 26, 2, 2, 13, 14, 24, 15, 15, 23, 24, 14, 25, 4, 7, 10, 3, 1, 26, 23, 3, 26, 10, 0, 2, 23, 23, 14, 12, 24, 24, 26, 3, 11, 0, 27, 24, 22, 26, 15, 7, 26, 27, 2, 20, 0, 11, 21, 6, 3, 23, 7, 12, 10, 0, 8, 3, 25, 24, 14, 26, 4, 10, 23, 17, 13, 8, 9, 10, 21, 0, 2, 20, 25, 10, 3, 22, 16, 26, 11, 25, 24, 14, 5, 26, 15, 13, 16, 26, 19, 17, 22, 14, 11, 22, 15, 21, 10, 25, 9, 2, 3, 24, 27, 19, 4, 6, 24, 5, 12, 12, 24, 6, 24, 15, 10, 26, 10, 10, 6, 14, 27, 26, 26, 15, 17, 25, 6, 26, 14, 20, 0, 27, 26, 0, 25, 3, 27, 20, 7, 23, 17, 3, 22, 20, 20, 6, 3, 20, 14, 26, 20, 26, 2, 3, 9, 21, 21, 11, 21, 2, 3, 13, 18, 0, 10, 26, 1, 4, 0, 5, 5, 5, 14, 17, 5, 26, 14, 5, 11, 11, 19, 26, 10, 2, 26, 26, 11, 0, 26, 12, 24, 25, 10, 10, 21, 25, 3, 2, 22, 0, 24, 6, 13, 12, 11, 3, 24, 15, 24, 23, 9, 22, 4, 20, 11, 4, 16, 3, 1, 2, 14, 15, 7, 14, 19, 24, 2, 24, 10, 25, 7, 2, 14, 17, 9, 9, 16, 15, 23, 7, 9, 2, 11, 11, 10, 24, 9, 11, 3, 22, 24, 24, 10, 2, 1, 20, 26, 12, 10, 5, 21, 11, 24, 14, 4, 25, 23, 26, 11, 25, 22, 11, 6, 14, 10, 14, 17, 22, 14, 11, 11, 15, 13, 11, 26, 7, 11, 0, 24, 20, 15, 24, 26, 13, 3, 26, 18, 4, 22, 21, 12, 11, 15, 22, 4, 25, 3, 14, 7, 7, 3, 17, 0, 4, 3, 22, 19, 12, 10, 10, 7, 26, 14, 8, 4, 0, 2, 3, 2, 1, 3, 10, 27, 10, 21, 10, 9, 20, 26, 9, 11, 10, 14, 9, 11, 17, 15, 11, 3, 19, 9, 25, 21, 22, 1, 12, 25, 11, 3, 0, 19, 2, 5, 3, 0, 24, 1, 10, 23, 11, 1, 26, 11, 0, 13, 5, 9, 8, 12, 5, 0, 8, 21, 8, 15, 11, 2, 27, 4, 17, 26, 11, 17, 18, 15, 10, 3, 15, 10, 25, 20, 22, 10, 2, 15, 7, 5, 3, 16, 23, 26, 13, 3, 24, 14, 10, 1, 8, 14, 5, 19, 15, 15, 0, 20, 17, 11, 24, 23, 17, 5, 25, 22, 2, 22, 22, 3, 2, 8, 15, 11, 0, 3, 27, 27, 0, 14, 15, 14, 15, 7, 3, 26, 24, 15, 13, 27, 10, 1, 7, 21, 0, 25, 23, 19, 11, 15, 10, 17, 10, 21, 15, 10, 11, 7, 1, 22, 11, 11, 5, 11, 7, 1, 16, 0, 0, 24, 26, 12, 20, 7, 3, 0, 26, 25, 8, 2, 23, 10, 24, 5, 0, 20, 24, 24, 8, 0, 2, 17, 11, 10, 3, 22, 15, 21, 12, 5, 24, 14, 12, 14, 26, 1, 1, 24, 10, 27, 19, 13, 8, 14, 5, 26, 11, 24, 15, 3, 10, 10, 23, 10, 1, 0, 10, 23, 3, 22, 17, 25, 26, 7, 18, 23, 11, 10, 13, 1, 21, 6, 23, 9, 19, 16, 13, 24, 27, 26, 19, 14, 23, 25, 22, 14, 19, 24, 11, 19, 2, 4, 7, 16, 15, 24, 17, 15, 8, 22, 11, 27, 25, 12, 14, 19, 1, 4, 4, 12, 10, 26, 12, 10, 24, 22, 15, 4, 3, 26, 24, 27, 4, 26, 24, 20, 25, 25, 10, 24, 7, 23, 3, 2, 10, 25, 10, 3, 26, 26, 26, 7, 22, 23, 27, 2, 15, 5, 3, 4, 20, 12, 7, 25, 2, 26, 11, 25, 3, 26, 10, 20, 11, 0, 5, 3, 12, 26, 24, 2, 4, 10, 7, 7, 25, 3, 15, 22, 19, 3, 11, 13, 3, 12, 2, 2, 14, 22, 2, 9, 14, 11, 5, 20, 26, 26, 21, 21, 7, 25, 12, 20, 11, 24, 19, 20, 4, 4, 12, 9, 3, 5, 19, 5, 17, 17, 3, 0, 3, 17, 12, 2, 7, 17, 14, 3, 0, 3, 22, 26, 10, 4, 14, 11, 1, 0, 24, 26, 5, 23, 15, 25, 23, 20, 14, 4, 14, 15, 24, 2, 0, 12, 24, 14, 0, 6, 23, 20, 21, 3, 10, 19, 5, 17, 12, 1, 3, 25, 12, 1, 4, 3, 24, 19, 11, 12, 3, 12, 13, 23, 6, 22, 9, 10, 23, 27, 20, 11, 26, 8, 23, 2, 6, 10, 11, 5, 3, 6, 9, 14, 15, 11, 4, 6, 10, 27, 5, 17, 3, 19, 17, 2, 2, 22, 26, 5, 6, 0, 10, 8, 16, 1, 7, 3, 22, 25, 14, 14, 23, 24, 18, 16, 10, 4, 22, 8, 17, 20, 3, 1, 3, 25, 14, 25, 10, 23, 9, 2, 14, 10, 23, 19, 11, 20, 9, 27, 26, 19, 13, 2, 26, 23, 18, 5, 23, 9, 8, 26, 22, 10, 5, 11, 9, 12, 7, 4, 20, 7, 24, 19, 19, 18, 20, 22, 19, 20, 24, 22, 11, 11, 25, 21, 15, 6, 17, 7, 20, 15, 26, 9, 8, 11, 25, 25, 7, 20, 25, 10, 0, 6, 23, 20, 3, 3, 27, 4, 23, 24, 23, 14, 12, 4, 26, 11, 1, 26, 5, 10, 17, 10, 10, 24, 20, 11, 0, 11, 3, 0, 12, 19, 10, 1, 2, 20, 14, 4, 6, 11, 24, 21, 9, 26, 25, 0, 10, 15, 20, 10, 2, 10, 10, 9, 24, 27, 14, 24, 14, 20, 1, 26, 7, 25, 11, 23, 7, 20, 6, 20, 25, 1, 22, 24, 19, 24, 19, 6, 6, 18, 6, 8, 20, 15, 24, 26, 10, 22, 1, 26, 14, 25, 13, 22, 11, 26, 3, 23, 5, 3, 11, 24, 8, 22, 7, 14, 13, 24, 25, 21, 13, 3, 8, 18, 10, 3, 12, 18, 18, 21, 8, 9, 20, 9, 10, 10, 26, 8, 24, 14, 20, 2, 25, 5, 24, 1, 22, 10, 20, 3, 10, 12, 7, 21, 4, 21, 25, 7, 3, 21, 3, 3, 5, 26, 26, 23, 24, 10, 10, 25, 21, 26, 17, 26, 10, 9, 25, 1, 10, 17, 8, 9, 19, 10, 26, 3, 26, 20, 19, 1, 2, 2, 2, 20, 24, 0, 14, 10, 26, 15, 12, 10, 24, 6, 17, 25, 3, 18, 25, 3, 26, 25, 14, 0, 10, 26, 16, 5, 19, 24, 26, 19, 26, 5, 14, 8, 14, 17, 26, 24, 21, 14, 25, 25, 26, 9, 2, 6, 1, 5, 8, 21, 10, 13, 25, 12, 23, 19, 26, 23, 23, 10, 3, 10, 10, 5, 4, 14, 13, 19, 24, 23, 16, 26, 20, 20, 21, 4, 14, 20, 15, 12, 26, 9, 19, 26, 10, 3, 25, 6, 25, 4, 3, 25, 13, 3, 20, 6, 26, 25, 11, 11, 10, 3, 15, 26, 8, 26, 17, 0, 10, 23, 14, 11, 23, 18, 7, 11, 13, 10, 25, 3, 14, 11, 13, 22, 7, 0, 23, 13, 7, 25, 17, 26, 5, 22, 10, 13, 12, 0, 10, 19, 19, 5, 20, 9, 3, 27, 12, 18, 3, 3, 12, 5, 26, 4, 26, 24, 15, 15, 19, 21, 11, 22, 14, 5, 3, 7, 20, 9, 8, 6, 24, 23, 11, 2, 9, 12, 3, 1, 22, 14, 15, 3, 24, 21, 20, 16, 0, 26, 3, 23, 3, 16, 7, 2, 23, 8, 14, 9, 12, 1, 17, 26, 17, 19, 7, 22, 2, 6, 8, 25, 14, 11, 13, 25, 4, 17, 4, 10, 4, 21, 22, 18, 9, 11, 22, 23, 26, 13, 3, 26, 20, 13, 15, 3, 25, 16, 5, 19, 25, 1, 4, 3, 14, 25, 22, 6, 23, 8, 14, 11, 18, 14, 17, 3, 9, 4, 25, 22, 15, 1, 7, 24, 23, 0, 17, 0, 20, 9, 25, 17, 24, 23, 2, 24, 23, 15, 19, 17, 9, 20, 14, 11, 11, 26, 17, 4, 26, 5, 2, 9, 14, 2, 1, 22, 11, 12, 1, 25, 22, 22, 2, 3, 25, 15, 26, 12, 3, 0, 1, 17, 22, 6, 12, 5, 11, 16, 20, 4, 17, 26, 26, 26, 13, 24, 14, 27, 22, 20, 14, 8, 23, 10, 7, 17, 5, 10, 5, 15, 25, 25, 19, 13, 4, 17, 24, 23, 5, 18, 7, 7, 9, 25, 5, 17, 26, 15, 20, 15, 10, 24, 20, 25, 24, 25, 1, 22, 23, 25, 1, 9, 20, 12, 16, 2, 6, 19, 4, 4, 10, 25, 26, 1, 20, 11, 8, 7, 10, 24, 4, 1, 17, 26, 14, 8, 4, 5, 4, 5, 20, 27, 11, 8, 3, 3, 7, 14, 26, 3, 20, 3, 16, 13, 13, 2, 17, 15, 26, 17, 7, 20, 17, 23, 4, 7, 2, 1, 3, 0, 7, 1, 26, 24, 21, 3, 24, 7, 10, 11, 20, 0, 24, 0, 25, 11, 26, 14, 12, 14, 26, 8, 4, 7, 13, 5, 2, 11, 15, 9, 0, 23, 17, 2, 0, 4, 2, 12, 9, 10, 25, 0, 21, 22, 20, 2, 1, 2, 1, 3, 26, 20, 8, 18, 26, 22, 26, 23, 24, 6, 11, 20, 24, 14, 2, 3, 6, 24, 20, 13, 22, 27, 13, 10, 13, 1, 7, 22, 6, 11, 22, 15, 23, 14, 3, 18, 24, 19, 7, 18, 22, 11, 4, 14, 15, 10, 8, 9, 8, 17, 10, 10, 10, 17, 5, 4, 15, 10, 9, 2, 25, 13, 3, 24, 25, 14, 8, 14, 4, 13, 26, 8, 19, 24, 18, 14, 9, 0, 14, 16, 7, 9, 25, 6, 0, 7, 6, 24, 13, 4, 7, 24, 1, 4, 8, 10, 9, 7, 25, 23, 22, 22, 5, 17, 19, 12, 4, 23, 21, 26, 22, 15, 3, 11, 21, 14, 23, 22, 10, 11, 9, 14, 10, 27, 6, 14, 23, 7, 9, 0, 13, 7, 10, 5, 12, 3, 2, 10, 11, 24, 0, 22, 3, 2, 17, 9, 3, 12, 23, 1, 3, 15, 23, 20, 7, 25, 22, 4, 22, 12, 3, 3, 3, 14, 25, 7, 14, 9, 4, 3, 20, 26, 24, 4, 1, 25, 25, 4, 24, 15, 22, 5, 0, 3, 22, 10, 6, 21, 8, 5, 26, 22, 22, 15, 11, 7, 18, 9, 14, 23, 24, 17, 12, 22, 3, 8, 11, 26, 11, 7, 12, 22, 25, 0, 15, 7, 25, 6, 4, 25, 19, 2, 7, 3, 20, 14, 7, 2, 16, 24, 3, 24, 13, 3, 14, 21, 10, 10, 3, 3, 26, 20, 14, 3, 3, 24, 17, 11, 3, 9, 7, 11, 7, 10, 10, 21, 16, 23, 12, 15, 6, 15, 1, 2, 15, 20, 11, 6, 9, 3, 10, 23, 24, 16, 2, 9, 21, 21, 9, 26, 21, 3, 7, 15, 26, 4, 21, 7, 7, 13, 24, 4, 4, 26, 17, 19, 11, 6, 2, 12, 18, 20, 24, 3, 9, 9, 1, 23, 1, 24, 10, 8, 2, 23, 10, 24, 15, 20, 22, 11, 26, 19, 12, 20, 12, 25, 22, 10, 0, 5, 10, 20, 9, 23, 25, 13, 5, 2, 12, 12, 3, 24, 7, 2, 13, 7, 10, 19, 17, 26, 18, 21, 20, 14, 15, 7, 14, 2, 3, 7, 1, 20, 24, 13, 18, 17, 23, 23, 22, 0, 6, 17, 5, 13, 3, 12, 6, 1, 11, 18, 23, 21, 8, 13, 3, 15, 23, 23, 3, 13, 19, 4, 12, 14, 1, 2, 23, 7, 22, 25, 8, 25, 10, 10, 15, 20, 2, 10, 4, 11, 1, 11, 25, 14, 4, 24, 22, 4, 10, 20, 26, 27, 13, 1, 24, 3, 26, 25, 10, 26, 7, 3, 10, 13, 0, 17, 27, 27, 27, 20, 16, 10, 3, 2, 1, 0, 4, 23, 14, 12, 14, 19, 10, 19, 10, 26, 2, 9, 9, 14, 25, 26, 14, 2, 9, 12, 14, 14, 13, 26, 3, 17, 2, 3, 18, 6, 3, 3, 9, 7, 7, 17, 15, 9, 13, 6, 20, 13, 3, 22, 11, 11, 0, 3, 8, 23, 25, 4, 20, 25, 22, 20, 24, 3, 19, 8, 20, 19, 17, 21, 24, 17, 4, 20, 0, 12, 3, 2, 7, 8, 26, 1, 11, 4, 14, 2, 5, 6, 17, 12, 16, 5, 26, 26, 4, 12, 19, 17, 26, 12, 24, 19, 2, 6, 7, 13, 11, 20, 9, 3, 14, 20, 1, 11, 27, 25, 2, 25, 10, 0, 26, 6, 24, 14, 25, 4, 0, 17, 14, 10, 17, 14, 4, 27, 2, 14, 3, 13, 15, 25, 2, 23, 11, 3, 7, 4, 14, 22, 12, 22, 8, 6, 3, 27, 6, 13, 3, 20, 11, 12, 11, 14, 22, 9, 10, 26, 26, 12, 13, 24, 24, 12, 14, 2, 11, 26, 5, 11, 23, 3, 23, 25, 24, 17, 24, 26, 14, 22, 7, 24, 20, 17, 1, 2, 26, 10, 6, 20, 18, 23, 12, 20, 23, 27, 10, 19, 11, 0, 4, 3, 3, 17, 24, 26, 23, 3, 15, 27, 14, 12, 22, 17, 17, 11, 20, 22, 10, 3, 4, 22, 17, 24, 15, 1, 24, 19, 15, 15, 6, 17, 19, 22, 21, 10, 17, 5, 26, 19, 20, 11, 11, 19, 10, 11, 23, 10, 19, 18, 9, 17, 13, 6, 17, 3, 23, 26, 11, 13, 0, 8, 19, 17, 24, 5, 1, 2, 10, 23, 11, 21, 18, 4, 17, 25, 11, 25, 15, 7, 13, 10, 21, 27, 24, 7, 25, 24, 13, 25, 22, 11, 22, 3, 25, 21, 1, 24, 4, 26, 1, 13, 17, 11, 9, 11, 6, 12, 6, 15, 2, 22, 2, 14, 19, 8, 16, 21, 6, 23, 17, 6, 22, 26, 3, 14, 23, 23, 13, 15, 26, 10, 3, 12, 8, 17, 24, 20, 5, 25, 1, 8, 20, 25, 18, 24, 2, 4, 9, 26, 22, 23, 3, 12, 0, 7, 13, 15, 14, 21, 24, 27, 24, 15, 10, 23, 20, 12, 24, 13, 21, 2, 23, 11, 10, 24, 22, 1, 26, 17, 24, 5, 3, 11, 2, 11, 13, 12, 19, 26, 8, 9, 11, 15, 4, 26, 21, 25, 18, 19, 0, 2, 14, 26, 3, 15, 10, 4, 5, 27, 4, 10, 18, 11, 7, 26, 5, 15, 8, 25, 13, 23, 25, 1, 10, 19, 4, 22, 1, 18, 7, 11, 25, 19, 26, 24, 24, 27, 24, 23, 15, 26, 13, 3, 24, 3, 4, 7, 19, 24, 24, 2, 5, 10, 23, 8, 24, 3, 21, 7, 5, 6, 5, 7, 23, 10, 20, 19, 19, 12, 11, 24, 23, 9, 8, 14, 6, 3, 6, 3, 21, 26, 25, 10, 5, 5, 13, 11, 26, 13, 22, 23, 1, 4, 1, 25, 5, 10, 4, 10, 3, 6, 17, 17, 3, 24, 5, 5, 17, 3, 26, 17, 11, 14, 26, 23, 17, 15, 25, 27, 14, 18, 12, 2, 7, 25, 10, 3, 19, 26, 2, 17, 26, 15, 25, 2, 10, 8, 20, 4, 17, 0, 4, 17, 19, 17, 23, 4, 3, 10, 4, 7, 12, 10, 10, 9, 9, 13, 22, 10, 8, 17, 24, 25, 13, 12, 24, 23, 13, 2, 21, 23, 16, 3, 19, 14, 11, 25, 10, 0, 17, 2, 19, 10, 15, 23, 10, 17, 26, 1, 6, 18, 12, 15, 25, 23, 24, 20, 7, 1, 23, 3, 19, 5, 10, 8, 11, 19, 14, 22, 14, 26, 9, 26, 21, 11, 17, 11, 5, 25, 24, 11, 12, 27, 21, 24, 23, 18, 7, 25, 13, 24, 0, 10, 6, 26, 17, 24, 11, 23, 4, 14, 13, 26, 25, 0, 3, 9, 13, 12, 10, 6, 27, 10, 13, 15, 24, 18, 3, 13, 26, 11, 22, 11, 13, 19, 4, 10, 1, 3, 10, 8, 26, 20, 26, 11, 15, 6, 23, 10, 12, 8, 12, 12, 27, 14, 23, 26, 24, 8, 10, 22, 2, 2, 2, 20, 9, 25, 17, 12, 5, 3, 11, 3, 27, 22, 3, 25, 20, 19, 7, 27, 25, 14, 5, 2, 11, 11, 3, 23, 2, 25, 8, 24, 20, 14, 17, 10, 8, 24, 12, 23, 9, 14, 27, 9, 4, 8, 27, 5, 3, 0, 26, 25, 24, 21, 4, 10, 3, 24, 26, 10, 5, 27, 14, 26, 27, 10, 27, 23, 14, 10, 27, 3, 7, 22, 23, 11, 25, 10, 26, 17, 4, 24, 7, 5, 24, 17, 11, 7, 14, 18, 3, 0, 26, 0, 10, 18, 22, 24, 24, 22, 22, 5, 26, 4, 4, 15, 12, 5, 7, 10, 18, 23, 8, 22, 22, 25, 5, 15, 10, 26, 21, 26, 20, 7, 27, 20, 1, 25, 5, 3, 5, 20, 26, 24, 5, 5, 23, 3, 19, 21, 4, 11, 4, 23, 27, 23, 12, 14, 17, 16, 6, 15, 19, 11, 23, 3, 25, 24, 2, 9, 6, 15, 10, 18, 23, 6, 8, 2, 1, 24, 15, 18, 6, 25, 25, 11, 18, 2, 2, 26, 4, 22, 18, 23, 22, 19, 24, 21, 3, 20, 25, 0, 21, 12, 4, 0, 8, 20, 3, 19, 1, 15, 25, 26, 25, 10, 23, 13, 14, 2, 11, 21, 25, 12, 6, 27, 26, 9, 10, 7, 10, 19, 17, 27, 22, 12, 10, 27, 2, 12, 11, 9, 6, 7, 25, 22, 10, 19, 2, 22, 10, 27, 19, 10, 21, 14, 14, 11, 24, 8, 8, 27, 26, 5, 0, 0, 18, 23, 2, 22, 1, 25, 12, 15, 7, 25, 26, 22, 7, 9, 24, 8, 26, 1, 4, 27, 10, 14, 3, 20, 3, 20, 6, 18, 3, 15, 0, 8, 24, 1, 15, 15, 26, 10, 11, 19, 7, 20, 1, 2, 12, 24, 8, 23, 12, 9, 26, 11, 11, 15, 25, 22, 5, 11, 1, 26, 14, 26, 4, 22, 6, 14, 10, 17, 10, 6, 5, 23, 4, 5, 25, 7, 25, 19, 26, 27, 24, 3, 17, 3, 26, 24, 21, 17, 8, 24, 11, 3, 19, 5, 19, 18, 17, 27, 10, 2, 18, 18, 26, 14, 27, 10, 17, 18, 6, 11, 3, 0, 3, 25, 4, 7, 2, 4, 21, 25, 5, 22, 3, 1, 11, 21, 26, 24, 9, 3, 7, 19, 25, 14, 26, 22, 15, 26, 1, 25, 19, 3, 3, 0, 15, 1, 18, 15, 24, 5, 26, 19, 1, 7, 10, 7, 26, 11, 4, 3, 19, 7, 2, 24, 10, 25, 1, 22, 24, 14, 17, 5, 17, 8, 26, 10, 10, 10, 24, 24, 1, 27, 3, 10, 5, 24, 3, 3, 2, 14, 4, 25, 9, 17, 26, 11, 13, 6, 17, 7, 23, 3, 9, 26, 10, 24, 12, 13, 10, 8, 15, 7, 15, 27, 10, 24, 3, 25, 25, 12, 3, 26, 19, 6, 10, 24, 15, 15, 0, 10, 10, 3, 17, 19, 13, 17, 21, 6, 0, 7, 25, 5, 9, 9, 7, 9, 11, 20, 2, 11, 0, 14, 20, 0, 7, 25, 0, 11, 20, 12, 18, 5, 17, 14, 3, 14, 2, 11, 19, 3, 13, 20, 7, 16, 4, 7, 17, 7, 0, 10, 6, 22, 23, 24, 0, 14, 10, 4, 20, 9, 11, 20, 2, 9, 4, 10, 19, 8, 22, 4, 11, 19, 21, 23, 23, 9, 23, 26, 4, 9, 2, 10, 3, 21, 2, 8, 0, 17, 15, 4, 5, 23, 26, 5, 26, 23, 21, 13, 12, 10, 17, 23, 14, 26, 3, 2, 3, 3, 27, 3, 8, 26, 3, 13, 8, 25, 18, 26, 25, 3, 25, 9, 0, 24, 13, 5, 17, 24, 1, 2, 21, 7, 1, 2, 9, 24, 8, 1, 14, 19, 2, 8, 12, 7, 20, 19, 19, 1, 15, 19, 25, 23, 19, 23, 19, 20, 24, 0, 9, 0, 3, 11, 23, 25, 14, 22, 9, 10, 24, 1, 15, 4, 2, 23, 6, 2, 8, 0, 25, 10, 12, 11, 15, 5, 18, 20, 3, 10, 23, 24, 5, 3, 11, 26, 26, 2, 3, 15, 2, 11, 23, 5, 12, 20, 12, 16, 14, 3, 23, 3, 17, 24, 12, 8, 8, 11, 13, 8, 26, 3, 7, 4, 3, 14, 11, 15, 17, 23, 17, 3, 23, 17, 7, 24, 14, 24, 0, 20, 2, 2, 10, 12, 18, 19, 10, 21, 4, 14, 21, 14, 26, 25, 3, 12, 8, 2, 18, 26, 10, 10, 24, 3, 13, 12, 14, 2, 7, 12, 24, 16, 7, 20, 26, 6, 1, 2, 10, 2, 17, 20, 4, 2, 1, 0, 21, 23, 26, 12, 25, 4, 15, 3, 26, 22, 13, 15, 26, 20, 11, 24, 4, 24, 8, 2, 16, 17, 11, 11, 0, 12, 10, 14, 17, 16, 9, 24, 22, 11, 27, 3, 18, 15, 24, 1, 3, 0, 14, 5, 9, 17, 20, 6, 22, 19, 12, 25, 15, 3, 23, 9, 9, 23, 2, 11, 15, 22, 18, 25, 7, 5, 3, 19, 26, 19, 22, 13, 4, 6, 1, 11, 20, 8, 21, 25, 4, 10, 7, 12, 25, 10, 26, 24, 4, 24, 26, 27, 2, 12, 11, 23, 15, 9, 11, 23, 10, 9, 21, 26, 1, 11, 20, 19, 11, 15, 17, 25, 5, 2, 8, 17, 2, 1, 8, 23, 17, 18, 13, 12, 6, 10, 21, 3, 22, 22, 1, 23, 27, 10, 17, 8, 25, 25, 16, 19, 3, 23, 11, 17, 1, 13, 4, 22, 25, 17, 3, 25, 3, 3, 22, 17, 26, 14, 26, 14, 4, 2, 26, 11, 10, 10, 7, 10, 18, 15, 26, 0, 3, 1, 20, 6, 2, 16, 10, 6, 16, 12, 26, 22, 14, 17, 3, 2, 14, 23, 20, 20, 15, 14, 19, 14, 14, 6, 5, 7, 12, 4, 3, 15, 14, 11, 7, 12, 7, 3, 24, 20, 11, 22, 3, 23, 5, 22, 5, 1, 8, 3, 2, 24, 23, 2, 24, 23, 26, 27, 24, 25, 3, 7, 10, 18, 0, 26, 22, 27, 14, 11, 14, 14, 0, 17, 24, 14, 19, 22, 10, 3, 5, 10, 16, 22, 3, 1, 4, 22, 26, 4, 8, 14, 12, 5, 10, 1, 23, 4, 5, 7, 1, 15, 2, 22, 10, 2, 15, 23, 11, 26, 0, 15, 4, 22, 15, 4, 2, 20, 11, 20, 14, 7, 26, 4, 24, 2, 7, 5, 20, 27, 17, 7, 8, 1, 14, 0, 1, 17, 3, 4, 23, 27, 12, 17, 11, 16, 1, 11, 23, 2, 24, 4, 24, 18, 19, 3, 24, 11, 23, 3, 1, 10, 11, 4, 17, 12, 7, 0, 12, 1, 23, 0, 3, 7, 25, 20, 22, 1, 9, 17, 4, 22, 17, 26, 26, 14, 15, 18, 3, 18, 15, 7, 3, 9, 26, 3, 6, 8, 12, 20, 17, 23, 3, 10, 0, 25, 2, 26, 1, 15, 10, 4, 3, 24, 0, 23, 15, 24, 14, 21, 12, 9, 10, 23, 23, 2, 3, 17, 24, 24, 2, 9, 23, 22, 6, 5, 10, 11, 24, 13, 3, 11, 18, 15, 9, 8, 25, 0, 3, 5, 23, 17, 3, 13, 22, 4, 27, 26, 1, 25, 20, 18, 10, 7, 20, 17, 7, 14, 2, 22, 23, 22, 1, 14, 26, 10, 18, 0, 23, 26, 7, 27, 20, 20, 25, 12, 10, 7, 19, 7, 0, 3, 6, 24, 18, 19, 4, 7, 5, 23, 27, 26, 26, 17, 13, 20, 21, 14, 3, 23, 5, 7, 10, 19, 25, 3, 14, 27, 1, 13, 17, 6, 12, 22, 10, 10, 20, 1, 9, 11, 15, 10, 26, 20, 21, 24, 0, 24, 5, 13, 7, 14, 3, 3, 4, 6, 18, 4, 19, 22, 20, 3, 12, 4, 20, 4, 26, 5, 5, 2, 1, 3, 10, 3, 12, 22, 19, 24, 2, 25, 20, 3, 24, 23, 9, 25, 17, 4, 23, 15, 0, 24, 26, 25, 22, 27, 0, 6, 10, 5, 14, 26, 15, 27, 10, 9, 20, 20, 25, 11, 10, 10, 22, 15, 2, 3, 1, 12, 11, 27, 19, 25, 22, 14, 20, 3, 22, 3, 9, 2, 11, 11, 1, 18, 7, 22, 5, 14, 4, 5, 17, 27, 24, 15, 25, 20, 1, 26, 8, 3, 0, 9, 9, 16, 25, 3, 3, 23, 17, 0, 19, 19, 1, 24, 3, 8, 15, 25, 3, 12, 10, 22, 25, 24, 12, 22, 14, 12, 19, 4, 24, 3, 26, 12, 9, 10, 5, 14, 1, 14, 10, 1, 1, 0, 12, 2, 19, 17, 10, 3, 10, 11, 11, 8, 20, 4, 0, 7, 9, 3, 12, 1, 13, 23, 3, 17, 21, 12, 19, 2, 10, 9, 19, 4, 8, 15, 5, 1, 14, 24, 24, 7, 27, 24, 20, 10, 11, 0, 3, 12, 16, 5, 10, 4, 11, 1, 3, 15, 7, 4, 25, 8, 13, 3, 22, 11, 19, 21, 3, 9, 5, 5, 10, 15, 22, 12, 4, 26, 3, 12, 17, 13, 17, 24, 11, 23, 14, 7, 27, 12, 4, 4, 4, 23, 23, 8, 15, 10, 26, 3, 5, 14, 22, 6, 26, 3, 0, 26, 15, 25, 2, 3, 14, 22, 17, 19, 10, 6, 12, 4, 17, 3, 5, 20, 14, 3, 22, 21, 2, 15, 0, 26, 24, 22, 15, 3, 26, 26, 13, 11, 20, 3, 15, 8, 26, 7, 21, 23, 22, 4, 24, 11, 14, 10, 1, 8, 3, 19, 3, 10, 2, 19, 5, 24, 17, 14, 11, 14, 11, 15, 17, 3, 2, 11, 15, 7, 11, 22, 0, 12, 20, 3, 3, 26, 7, 20, 18, 10, 17, 20, 24, 19, 22, 23, 26, 21, 11, 2, 4, 22, 3, 10, 21, 3, 14, 13, 12, 6, 10, 22, 12, 23, 24, 3, 2, 7, 3, 19, 8, 15, 11, 0, 4, 17, 8, 4, 3, 3, 13, 23, 4, 23, 12, 25, 0, 22, 9, 5, 9, 3, 12, 7, 23, 11, 21, 8, 26, 26, 5, 20, 15, 10, 4, 27, 24, 3, 7, 23, 24, 10, 4, 3, 9, 25, 23, 17, 2, 22, 10, 17, 4, 20, 18, 20, 26, 22, 26, 9, 26, 2, 4, 4, 9, 17, 8, 9, 26, 3, 18, 7, 4, 5, 23, 10, 9, 12, 6, 13, 17, 12, 0, 2, 0, 5, 1, 24, 20, 20, 5, 10, 7, 24, 23, 23, 26, 15, 6, 9, 27, 2, 13, 2, 5, 26, 18, 7, 2, 19, 14, 11, 7, 11, 14, 14, 3, 25, 19, 3, 11, 14, 10, 10, 17, 26, 18, 25, 10, 24, 21, 17, 14, 20, 8, 3, 17, 3, 11, 12, 22, 19, 13, 22, 23, 26, 23, 25, 22, 3, 24, 9, 7, 11, 12, 9, 10, 26, 3, 4, 10, 19, 17, 24, 1, 23, 3, 10, 8, 4, 10, 11, 10, 17, 13, 3, 1, 12, 23, 10, 0, 24, 10, 20, 12, 8, 10, 3, 2, 3, 10, 0, 26, 7, 24, 4, 26, 17, 18, 27, 7, 3, 13, 18, 13, 18, 16, 3, 2, 24, 3, 10, 3, 17, 27, 2, 7, 26, 6, 0, 1, 26, 3, 21, 9, 11, 22, 24, 3, 9, 26, 0, 12, 10, 10, 5, 12, 3, 11, 19, 19, 3, 14, 26, 8, 26, 10, 17, 12, 12, 25, 11]\n",
            "Entity  representation clustering  accuracy :  0.03339453752582052\n"
          ]
        }
      ]
    },
    {
      "cell_type": "code",
      "metadata": {
        "id": "lJ73l0Z7Slyr",
        "colab": {
          "base_uri": "https://localhost:8080/"
        },
        "outputId": "926226aa-b556-44a5-8536-da348a06c8a9"
      },
      "source": [
        "ypredspher = np.array(result)\n",
        "ypredspher\n",
        "#kmeans.labels_"
      ],
      "execution_count": null,
      "outputs": [
        {
          "output_type": "execute_result",
          "data": {
            "text/plain": [
              "array([ 3, 26, 17, ..., 12, 25, 11])"
            ]
          },
          "metadata": {},
          "execution_count": 144
        }
      ]
    }
  ]
}
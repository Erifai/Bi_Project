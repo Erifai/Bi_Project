{
  "nbformat": 4,
  "nbformat_minor": 0,
  "metadata": {
    "colab": {
      "name": "Projet_BI_NLP.ipynb",
      "provenance": [],
      "collapsed_sections": [],
      "include_colab_link": true
    },
    "kernelspec": {
      "name": "python3",
      "display_name": "Python 3"
    },
    "language_info": {
      "name": "python"
    },
    "accelerator": "GPU"
  },
  "cells": [
    {
      "cell_type": "markdown",
      "metadata": {
        "id": "view-in-github",
        "colab_type": "text"
      },
      "source": [
        "<a href=\"https://colab.research.google.com/github/Erifai/Bi_Project/blob/main/Projet_BI_NLP.ipynb\" target=\"_parent\"><img src=\"https://colab.research.google.com/assets/colab-badge.svg\" alt=\"Open In Colab\"/></a>"
      ]
    },
    {
      "cell_type": "markdown",
      "metadata": {
        "id": "znoidPugZSBX"
      },
      "source": [
        "# **Préparation de l'environnement :**"
      ]
    },
    {
      "cell_type": "code",
      "metadata": {
        "id": "R7R44CMLl1UH"
      },
      "source": [
        "#!pip install -U spacy \n",
        "#!pip install spacy-transformers\n",
        "#!pip install spacy_entity_linker\n",
        "#!python3 -m spacy_entity_linker \"download_knowledge_base\"\n",
        "#!python -m spacy download en_core_web_sm\n",
        "#!pip install -U sentence-transformers\n",
        "#!sudo apt-get install metis\n",
        "#!pip install Cluster_Ensembles\n",
        "\n",
        "#à executer une seule fois et de redémarrer le runtime avec GPU "
      ],
      "execution_count": null,
      "outputs": []
    },
    {
      "cell_type": "code",
      "metadata": {
        "id": "o8Tb8GkWKrLN",
        "outputId": "fe7f0db5-22af-4545-9cac-cb2e343dd1c5",
        "colab": {
          "base_uri": "https://localhost:8080/"
        }
      },
      "source": [
        "import numpy as np \n",
        "import pandas as pd\n",
        "import matplotlib.pyplot as plt\n",
        "from wordcloud import WordCloud\n",
        "from spacy.lang.en.stop_words import STOP_WORDS\n",
        "import string\n",
        "import re\n",
        "import operator\n",
        "from functools import reduce\n",
        "import nltk\n",
        "nltk.download('wordnet')\n",
        "from nltk.stem import WordNetLemmatizer"
      ],
      "execution_count": 2,
      "outputs": [
        {
          "output_type": "stream",
          "name": "stdout",
          "text": [
            "[nltk_data] Downloading package wordnet to /root/nltk_data...\n",
            "[nltk_data]   Package wordnet is already up-to-date!\n"
          ]
        }
      ]
    },
    {
      "cell_type": "markdown",
      "metadata": {
        "id": "uWqpgk49UyHi"
      },
      "source": [
        "# **Chargement et nettoyage de données :**"
      ]
    },
    {
      "cell_type": "code",
      "metadata": {
        "id": "iQEdKeC6MvmV"
      },
      "source": [
        "#df = pd.read_fwf('/content/DBLP_Subset.txt')\n",
        "#df=pd.read_table('/content/DBLP_Subset.txt',header=None)\n",
        "#df = pd.read_csv(\"/content/DBLP_Subset.txt\",sep=\"\\n\")\n",
        "reading_file = open(\"/content/DBLP_Subset.txt\", \"r\")\n",
        "\n",
        "new_file_content = \"\"\n",
        "count = 0\n",
        "count_auth = 0\n",
        "for line in reading_file:\n",
        "\n",
        "  stripped_line = line.strip()\n",
        "\n",
        "  new_line = stripped_line.replace(';',',')\n",
        "  if \"#t\" in new_line :\n",
        "    count_auth = 0\n",
        "  if \"#!\" in new_line :\n",
        "    count=0\n",
        "  if \"#@\" in new_line :\n",
        "    count_auth = 1\n",
        "  new_line = new_line.replace('#c',';').replace('#*','\\n;').replace('#c',';').replace('#t',';').replace('#index',';').replace('#!',';').replace('#@',';')\n",
        "  if \"#%\" in new_line and count==0 :\n",
        "    #print(new_line)\n",
        "    new_line = new_line.replace('#%',';')\n",
        "    #print(new_line)\n",
        "\n",
        "    count =1\n",
        "  if count_auth == 1 :\n",
        "    new_line = new_line + \",\"   \n",
        "\n",
        "  new_file_content += new_line\n",
        "\n",
        "\n",
        "reading_file.close()\n",
        "df = pd.DataFrame([x.split(';') for x in new_file_content.split('\\n')])\n",
        "# .replace('#c',';').replace('#*',';').replace('#c%',';').replace('#t',';').replace('#index',';').replace('#!',';')\n",
        "#   df = pd.DataFrame([x.split(';') for x in lines.split('\\n')])"
      ],
      "execution_count": 3,
      "outputs": []
    },
    {
      "cell_type": "code",
      "metadata": {
        "id": "aZsPPIKfx2BN",
        "colab": {
          "base_uri": "https://localhost:8080/"
        },
        "outputId": "0c81163c-69ad-4e2c-8834-24c803aa19b3"
      },
      "source": [
        "df.rename(columns={0:\"supprimer\",1:\"Titre\",2:\"Auteurs\",3:\"Année\",4:\"Revue\",5:\"IndexId\",6:\"IdRefrences\",7:\"Abstract\"},inplace= True)\n",
        "df.drop(columns=['supprimer'],inplace= True)\n",
        "df.dropna(inplace= True)\n",
        "df.info()"
      ],
      "execution_count": 4,
      "outputs": [
        {
          "output_type": "stream",
          "name": "stdout",
          "text": [
            "<class 'pandas.core.frame.DataFrame'>\n",
            "Int64Index: 17852 entries, 1 to 37963\n",
            "Data columns (total 7 columns):\n",
            " #   Column       Non-Null Count  Dtype \n",
            "---  ------       --------------  ----- \n",
            " 0   Titre        17852 non-null  object\n",
            " 1   Auteurs      17852 non-null  object\n",
            " 2   Année        17852 non-null  object\n",
            " 3   Revue        17852 non-null  object\n",
            " 4   IndexId      17852 non-null  object\n",
            " 5   IdRefrences  17852 non-null  object\n",
            " 6   Abstract     17852 non-null  object\n",
            "dtypes: object(7)\n",
            "memory usage: 1.1+ MB\n"
          ]
        }
      ]
    },
    {
      "cell_type": "code",
      "metadata": {
        "id": "Zu_yZYZtCS3E"
      },
      "source": [
        "#df.to_csv(\"df.csv\", sep=';', encoding='utf-8')"
      ],
      "execution_count": null,
      "outputs": []
    },
    {
      "cell_type": "code",
      "metadata": {
        "id": "-m6V_10mEJKm"
      },
      "source": [
        "#df = pd.read_csv(\"/content/df.csv\", sep = \";\",header=None, names=[\"Titre\",\"Auteurs\",\"Année\",\"Publication\",\"IndexId\",\"IdRefrences\",\"Abstract\"])"
      ],
      "execution_count": null,
      "outputs": []
    },
    {
      "cell_type": "code",
      "metadata": {
        "id": "TfosjSzWFtiL"
      },
      "source": [
        "#df.info()"
      ],
      "execution_count": null,
      "outputs": []
    },
    {
      "cell_type": "code",
      "metadata": {
        "id": "hJmTtXdUPyHy"
      },
      "source": [
        "li = df['Revue'].value_counts()\n"
      ],
      "execution_count": 5,
      "outputs": []
    },
    {
      "cell_type": "code",
      "metadata": {
        "id": "_JRaS0AbaNdk"
      },
      "source": [
        "list_revue = []\n",
        "for i in range(0,len(li)-1):\n",
        "  if(li[i] >= 50):\n",
        "    list_revue.append(li.index[i])\n",
        "  else:\n",
        "    break\n"
      ],
      "execution_count": 6,
      "outputs": []
    },
    {
      "cell_type": "code",
      "metadata": {
        "id": "MadTVCWcgQ6s",
        "colab": {
          "base_uri": "https://localhost:8080/"
        },
        "outputId": "dec14828-18fb-4065-e723-790130805974"
      },
      "source": [
        "df_revue = pd.DataFrame(list_revue)\n",
        "dff= pd.merge(df,df_revue,how='inner',left_on=['Revue'],right_on=[0])\n",
        "dff.drop(columns=[0],inplace=True)\n",
        "df = dff\n",
        "df.info()"
      ],
      "execution_count": 7,
      "outputs": [
        {
          "output_type": "stream",
          "name": "stdout",
          "text": [
            "<class 'pandas.core.frame.DataFrame'>\n",
            "Int64Index: 17429 entries, 0 to 17428\n",
            "Data columns (total 7 columns):\n",
            " #   Column       Non-Null Count  Dtype \n",
            "---  ------       --------------  ----- \n",
            " 0   Titre        17429 non-null  object\n",
            " 1   Auteurs      17429 non-null  object\n",
            " 2   Année        17429 non-null  object\n",
            " 3   Revue        17429 non-null  object\n",
            " 4   IndexId      17429 non-null  object\n",
            " 5   IdRefrences  17429 non-null  object\n",
            " 6   Abstract     17429 non-null  object\n",
            "dtypes: object(7)\n",
            "memory usage: 1.1+ MB\n"
          ]
        }
      ]
    },
    {
      "cell_type": "code",
      "metadata": {
        "id": "y2Bzf0jVia7w",
        "colab": {
          "base_uri": "https://localhost:8080/"
        },
        "outputId": "3d18733a-cd07-4495-82ee-5e1cfb133c04"
      },
      "source": [
        "df['Revue'].value_counts()"
      ],
      "execution_count": 8,
      "outputs": [
        {
          "output_type": "execute_result",
          "data": {
            "text/plain": [
              "DAC                                  2010\n",
              "Electr. Notes Theor. Comput. Sci.    1891\n",
              "IJCAI                                1891\n",
              "ICCAD                                1666\n",
              "SIGMOD Conference                    1529\n",
              "GECCO                                1472\n",
              "Discrete Applied Mathematics         1328\n",
              "Journal of Systems and Software       899\n",
              "ICIP                                  812\n",
              "Des. Codes Cryptography               648\n",
              "ICC                                   587\n",
              "SIGMOD Record                         510\n",
              "SMC                                   325\n",
              "GECCO (Companion)                     269\n",
              "Distributed Computing                 214\n",
              "DATA BASE                             204\n",
              "Data Min. Knowl. Discov.              175\n",
              "ICCSA (1)                             152\n",
              "ICCSA (2)                             145\n",
              "ICCSA (3)                             144\n",
              "IJCAI (1)                              82\n",
              "ICCV                                   76\n",
              "STOC                                   72\n",
              "ICCBR                                  71\n",
              "Knowl. Inf. Syst.                      69\n",
              "DAGM-Symposium                         67\n",
              "GECCO Workshops                        66\n",
              "ICCE                                   55\n",
              "Name: Revue, dtype: int64"
            ]
          },
          "metadata": {},
          "execution_count": 8
        }
      ]
    },
    {
      "cell_type": "code",
      "metadata": {
        "id": "A08Aq3KsDa2z",
        "outputId": "f83d0831-3a41-4704-fcbd-bbfa91ab309a",
        "colab": {
          "base_uri": "https://localhost:8080/"
        }
      },
      "source": [
        "df['nombre_citation'] = df['IdRefrences'].map(lambda x : len(x.split(\"#\")))\n",
        "df['nombre_citation']"
      ],
      "execution_count": 9,
      "outputs": [
        {
          "output_type": "execute_result",
          "data": {
            "text/plain": [
              "0        3\n",
              "1        8\n",
              "2        3\n",
              "3        7\n",
              "4        2\n",
              "        ..\n",
              "17424    7\n",
              "17425    2\n",
              "17426    2\n",
              "17427    4\n",
              "17428    6\n",
              "Name: nombre_citation, Length: 17429, dtype: int64"
            ]
          },
          "metadata": {},
          "execution_count": 9
        }
      ]
    },
    {
      "cell_type": "code",
      "metadata": {
        "id": "_LsKBM9GNTnG",
        "outputId": "86b20e7b-b8ff-4c97-e7f1-9b92cbb067df",
        "colab": {
          "base_uri": "https://localhost:8080/"
        }
      },
      "source": [
        "lii = df['nombre_citation'].to_list()\n",
        "lii.sort()\n",
        "list_nb_citation = lii[-8:]\n",
        "list_nb_citation"
      ],
      "execution_count": 26,
      "outputs": [
        {
          "output_type": "execute_result",
          "data": {
            "text/plain": [
              "[61, 62, 66, 69, 72, 84, 147, 273]"
            ]
          },
          "metadata": {},
          "execution_count": 26
        }
      ]
    },
    {
      "cell_type": "code",
      "metadata": {
        "id": "mKKQO9WcP-hG",
        "outputId": "430f4358-19b8-4662-99f5-94164424f1f2",
        "colab": {
          "base_uri": "https://localhost:8080/"
        }
      },
      "source": [
        "list_abs = []\n",
        "for i in list_nb_citation:\n",
        "  ind = df[df['nombre_citation'] == i].index\n",
        "  list_abs.append(df.at[ind[0],\"Titre\"])\n",
        "\n",
        "list_abs"
      ],
      "execution_count": 30,
      "outputs": [
        {
          "output_type": "execute_result",
          "data": {
            "text/plain": [
              "['The state of SAT.',\n",
              " 'An Annotated Bibliography on Object-Orientation and Deduction.',\n",
              " 'An evaluation of timed scenario notations.',\n",
              " 'A review of information security issues and respective research contributions.',\n",
              " 'Compact and localized distributed data structures.',\n",
              " 'Automatic Construction of Decision Trees from Data: A Multi-Disciplinary Survey.',\n",
              " 'Strategic IssuesProblems and Challenges in Inductive Theorem Proving.',\n",
              " 'Hundreds of impossibility results for distributed computing.']"
            ]
          },
          "metadata": {},
          "execution_count": 30
        }
      ]
    },
    {
      "cell_type": "code",
      "metadata": {
        "id": "sjfvyoL-URQi",
        "outputId": "2fccba40-9380-45ea-f2ea-397463848905",
        "colab": {
          "base_uri": "https://localhost:8080/",
          "height": 657
        }
      },
      "source": [
        "height = list_abs\n",
        "bars = list_nb_citation\n",
        "y_pos = np.arange(len(bars))\n",
        "# Create bars\n",
        "plt.bar(y_pos, bars)\n",
        "# Create names on the x-axis\n",
        "degrees = 90\n",
        "plt.xticks(y_pos, height,rotation = degrees )\n",
        "# Show graphic\n",
        "plt.show()"
      ],
      "execution_count": 32,
      "outputs": [
        {
          "output_type": "display_data",
          "data": {
            "image/png": "[encoded data removed]",
            "text/plain": [
              "<Figure size 432x288 with 1 Axes>"
            ]
          },
          "metadata": {
            "needs_background": "light"
          }
        }
      ]
    },
    {
      "cell_type": "code",
      "metadata": {
        "id": "7DuyZ34jKUoL"
      },
      "source": [
        "dict_authers = {}\n",
        "def auth(x):\n",
        "  li = x.split(\",\")\n",
        "  for auth in li:\n",
        "    if auth in dict_authers.keys():\n",
        "      dict_authers.update({auth : dict_authers[auth] + 1})\n",
        "    else:\n",
        "      dict_authers[auth] = 1"
      ],
      "execution_count": null,
      "outputs": []
    },
    {
      "cell_type": "code",
      "metadata": {
        "id": "l65uW0pwKsVC"
      },
      "source": [
        "df['Auteurs'].map(lambda x : auth(x))"
      ],
      "execution_count": null,
      "outputs": []
    },
    {
      "cell_type": "code",
      "metadata": {
        "id": "JaYtCF69KtK9"
      },
      "source": [
        "dict_authers.pop('')"
      ],
      "execution_count": null,
      "outputs": []
    },
    {
      "cell_type": "code",
      "metadata": {
        "id": "Lx5S7NKIK-kF"
      },
      "source": [
        "dict_auth_ord = dict(sorted(dict_authers.items(), key=lambda item: item[1]))"
      ],
      "execution_count": null,
      "outputs": []
    },
    {
      "cell_type": "code",
      "metadata": {
        "id": "UtfsWS1MLyPQ"
      },
      "source": [
        "height = list(dict_auth_ord.keys())\n",
        "height = height[-10:]\n",
        "bars = list(dict_auth_ord.values())\n",
        "bars = bars[-10:]\n",
        "y_pos = np.arange(len(bars))\n",
        "# Create bars\n",
        "plt.bar(y_pos, bars)\n",
        "# Create names on the x-axis\n",
        "degrees = 90\n",
        "plt.xticks(y_pos, height,rotation = degrees )\n",
        "# Show graphic\n",
        "plt.show()"
      ],
      "execution_count": null,
      "outputs": []
    },
    {
      "cell_type": "code",
      "metadata": {
        "id": "yXxiYYrmOIcI"
      },
      "source": [
        "#punctuations\n",
        "punctuations = string.punctuation\n",
        "#stopwords\n",
        "stop_words = list(STOP_WORDS)\n",
        "def clean_text(\n",
        "  string : str,\n",
        "  ponctuation = '!\"#$%&\\'()*+,-./:;<=>?@[\\\\]^_`{|}~',\n",
        "  stop_words = stop_words)->str : \n",
        "\n",
        "  #URLs\n",
        "  string = re.sub(r\"https?://\\S+|www\\.\\S+\",'',string)\n",
        "  #html \n",
        "  string = re.sub(r'<.*?>','',string)\n",
        "  #Numbers\n",
        "  string = re.sub(r'[0-9]+','',string) \n",
        "\n",
        "  #Remove punctuations\n",
        "  for x in string.lower():\n",
        "    if x in punctuations:\n",
        "      string = string.replace(x,\"\")\n",
        "  #To lower\n",
        "  string = string.lower()\n",
        "  #Remove stop words\n",
        "  lemmatizer = WordNetLemmatizer()\n",
        "  string = ' '.join([lemmatizer.lemmatize(word) for word in string.split() if word not in stop_words])\n",
        "  #Cleaning the whitespaces\n",
        "  string = re.sub(r'\\s', ' ', string).strip()\n",
        "\n",
        "  return string\n",
        "  \n"
      ],
      "execution_count": 10,
      "outputs": []
    },
    {
      "cell_type": "code",
      "metadata": {
        "id": "0XC58aq60Squ",
        "colab": {
          "base_uri": "https://localhost:8080/"
        },
        "outputId": "6c58621f-c875-4869-c264-58e371c5bfd7"
      },
      "source": [
        "from sklearn.feature_extraction.text import CountVectorizer\n",
        "abstract = df.Abstract.to_list()\n",
        "abstracts_cleaned = [clean_text(x) for x in abstract]\n",
        "len(abstracts_cleaned)"
      ],
      "execution_count": 13,
      "outputs": [
        {
          "output_type": "execute_result",
          "data": {
            "text/plain": [
              "17429"
            ]
          },
          "metadata": {},
          "execution_count": 13
        }
      ]
    },
    {
      "cell_type": "markdown",
      "metadata": {
        "id": "FNu0ItfYWpNP"
      },
      "source": [
        "# **Transformation de données :**"
      ]
    },
    {
      "cell_type": "markdown",
      "metadata": {
        "id": "fuzp73btW2nH"
      },
      "source": [
        "## **Vectorisation (Document - mot )**"
      ]
    },
    {
      "cell_type": "code",
      "metadata": {
        "colab": {
          "base_uri": "https://localhost:8080/"
        },
        "id": "D3bLdwQh1DV1",
        "outputId": "ad468707-6c23-417c-fa5f-0c74dfa6c4dd"
      },
      "source": [
        "vectorizer = CountVectorizer()\n",
        "DocTerm_abstract = vectorizer.fit_transform(abstracts_cleaned)\n",
        "print('type of DocTerm_abstract : ', type(DocTerm_abstract))\n",
        "print(\"Documents / Mots  : \",DocTerm_abstract.shape)\n",
        "print(DocTerm_abstract)\n",
        "\n",
        "DocTerm_abstract = DocTerm_abstract.toarray()\n",
        "print(\"******************************************\")\n",
        "print('DocTerm_abstract', type(DocTerm_abstract))\n"
      ],
      "execution_count": null,
      "outputs": [
        {
          "output_type": "stream",
          "name": "stdout",
          "text": [
            "type of DocTerm_abstract :  <class 'scipy.sparse.csr.csr_matrix'>\n",
            "Documents / Mots  :  (8442, 34013)\n",
            "  (0, 19148)\t2\n",
            "  (0, 17851)\t2\n",
            "  (0, 9155)\t1\n",
            "  (0, 3242)\t1\n",
            "  (0, 25308)\t1\n",
            "  (0, 11976)\t2\n",
            "  (0, 20310)\t1\n",
            "  (0, 7716)\t1\n",
            "  (0, 16395)\t1\n",
            "  (0, 7472)\t1\n",
            "  (0, 16814)\t1\n",
            "  (0, 14946)\t1\n",
            "  (0, 26508)\t1\n",
            "  (0, 6559)\t1\n",
            "  (0, 29005)\t1\n",
            "  (0, 902)\t1\n",
            "  (0, 27075)\t1\n",
            "  (0, 25583)\t1\n",
            "  (0, 11981)\t1\n",
            "  (0, 31131)\t1\n",
            "  (0, 24938)\t1\n",
            "  (0, 23390)\t1\n",
            "  (0, 374)\t1\n",
            "  (0, 32330)\t1\n",
            "  (0, 31125)\t1\n",
            "  :\t:\n",
            "  (8441, 23074)\t2\n",
            "  (8441, 31383)\t2\n",
            "  (8441, 18485)\t1\n",
            "  (8441, 22802)\t1\n",
            "  (8441, 13696)\t2\n",
            "  (8441, 31724)\t1\n",
            "  (8441, 2192)\t3\n",
            "  (8441, 31362)\t3\n",
            "  (8441, 24556)\t1\n",
            "  (8441, 19494)\t1\n",
            "  (8441, 30539)\t1\n",
            "  (8441, 22858)\t1\n",
            "  (8441, 2581)\t1\n",
            "  (8441, 3038)\t1\n",
            "  (8441, 30861)\t5\n",
            "  (8441, 22068)\t1\n",
            "  (8441, 1075)\t1\n",
            "  (8441, 1079)\t1\n",
            "  (8441, 6869)\t1\n",
            "  (8441, 30069)\t1\n",
            "  (8441, 29897)\t1\n",
            "  (8441, 2838)\t1\n",
            "  (8441, 4456)\t1\n",
            "  (8441, 31190)\t9\n",
            "  (8441, 15807)\t1\n",
            "******************************************\n",
            "DocTerm_abstract <class 'numpy.ndarray'>\n"
          ]
        }
      ]
    },
    {
      "cell_type": "code",
      "metadata": {
        "colab": {
          "base_uri": "https://localhost:8080/"
        },
        "id": "7w9CpJ5O2lxP",
        "outputId": "8deeea21-edca-4e33-d1b3-bbeb6ea6dcfa"
      },
      "source": [
        "#Get Words List\n",
        "print(vectorizer.get_feature_names())\n"
      ],
      "execution_count": null,
      "outputs": [
        {
          "output_type": "stream",
          "name": "stdout",
          "text": [
            "['ability', 'able', 'abstract', 'abstraction', 'acceleration', 'acceptable', 'access', 'accesses', 'accommodate', 'accompanying', 'accomplish', 'account', 'accountand', 'accuracy', 'accuracybut', 'accurate', 'accurately', 'accuratelyand', 'achievable', 'achieve', 'achieved', 'achieves', 'achieving', 'achilles', 'act', 'activation', 'activity', 'activitybased', 'acts', 'actual', 'adapting', 'adaption', 'adaptive', 'added', 'adding', 'additional', 'additionour', 'address', 'addressed', 'addresses', 'addressing', 'adequately', 'adhoc', 'adjacenciesshould', 'adjacency', 'adjacencybased', 'adjust', 'adopting', 'advanced', 'advantage', 'advantages', 'advisor', 'affecting', 'affordable', 'againefficiently', 'aggregating', 'aggressor', 'ahb', 'ai', 'aided', 'algebraic', 'algorithm', 'algorithmas', 'algorithmcalled', 'algorithmknown', 'algorithmnamed', 'algorithms', 'algorithmscalled', 'algorithmsdogmam', 'algorithmsnamed', 'alignment', 'allcritical', 'allocate', 'allotted', 'allour', 'allow', 'allowable', 'allowed', 'allowing', 'allows', 'alsoour', 'altera', 'alteras', 'alternative', 'alternatives', 'alusmemories', 'amba', 'amd', 'amethodology', 'amounts', 'analog', 'analogdigital', 'analysis', 'analysisarchaic', 'analysisinterpretation', 'analysissymbolic', 'analysiswhich', 'analytic', 'analytical', 'analyze', 'analyzerwe', 'analyzing', 'andapplicationspecific', 'andor', 'andsoftware', 'andsystemsonachipfocuses', 'annealingbased', 'anotherand', 'anothers', 'antennadifferent', 'apex', 'appear', 'applicable', 'application', 'applicationand', 'applicationor', 'applications', 'applicationspecific', 'applicationsthose', 'applied', 'applies', 'applying', 'approach', 'approacha', 'approachand', 'approachdogmam', 'approaches', 'approachfinegranularity', 'approachsystem', 'appropriate', 'approximate', 'approximations', 'aptitude', 'arbitrary', 'arbitration', 'architectural', 'architecture', 'architecturelets', 'architecturelevel', 'architecturemeeting', 'architectures', 'architectureseventually', 'architectureswith', 'area', 'areadelay', 'areas', 'arefor', 'arena', 'argue', 'arise', 'arises', 'armed', 'arnoldi', 'arrange', 'arrangement', 'array', 'arrays', 'arrival', 'artifactand', 'artificial', 'asic', 'asics', 'aspect', 'aspects', 'assembly', 'assets', 'assigned', 'assigning', 'assignment', 'assignments', 'assigns', 'assistance', 'assisted', 'associated', 'association', 'assume', 'assuming', 'assumptions', 'asynchronous', 'atpg', 'attacks', 'attempts', 'attention', 'attractiveness', 'authors', 'automatable', 'automated', 'automatedsynthesis', 'automatic', 'automatically', 'available', 'average', 'averagewhich', 'avoid', 'avoids', 'aware', 'away', 'ay', 'backward', 'bad', 'balanced', 'bandwidth', 'bank', 'base', 'based', 'baseline', 'basis', 'batree', 'batteries', 'battery', 'batterypowered', 'bdd', 'bdds', 'bear', 'beginning', 'behavior', 'behavioral', 'behaviorand', 'behaviorlevel', 'behaviors', 'believe', 'benchmark', 'benchmarks', 'benchmarkthat', 'beneficial', 'benefit', 'benefits', 'berkeley', 'best', 'bestcase', 'better', 'betweenconcurrent', 'bias', 'bidirectional', 'binary', 'binate', 'binding', 'binning', 'bipsoutperforms', 'blade', 'block', 'blocks', 'bls', 'board', 'boardlevel', 'boolean', 'bottlenecks', 'bound', 'boundary', 'bounded', 'bounds', 'box', 'boxrouter', 'branches', 'brings', 'broadband', 'broader', 'budget', 'budgets', 'budgetscalled', 'buffer', 'buffers', 'bugs', 'build', 'building', 'builds', 'built', 'burst', 'bus', 'busses', 'cache', 'cachecolumn', 'caching', 'cad', 'cadcamaiand', 'cadgraph', 'calculating', 'calculation', 'calculator', 'called', 'calls', 'capability', 'capable', 'capacities', 'capacitors', 'capitalizing', 'capture', 'captured', 'captures', 'careful', 'careswhere', 'carried', 'case', 'cases', 'casesa', 'causality', 'cause', 'caused', 'causing', 'ceff', 'cell', 'cells', 'cellýs', 'central', 'certain', 'challenge', 'challenges', 'challenging', 'change', 'changed', 'changeregardless', 'changes', 'channel', 'channels', 'characteristicequation', 'characteristics', 'characterization', 'characterizationsuch', 'characterizationtables', 'characterizing', 'chargedifferent', 'checked', 'checker', 'checking', 'chip', 'chipcan', 'chiplevel', 'chips', 'choice', 'choose', 'chord', 'chortled', 'chou', 'circuit', 'circuitand', 'circuitlevel', 'circuits', 'circuitsfor', 'circuitsfrequency', 'circuitsthis', 'circuitswith', 'circuitthe', 'claim', 'class', 'classical', 'clauses', 'client', 'clientand', 'clientserver', 'clip', 'clock', 'clockperiodsince', 'clocks', 'clocksand', 'clocksgated', 'clocksunsynchronized', 'closed', 'closure', 'cluster', 'clustering', 'clusters', 'cmos', 'cnf', 'coarse', 'code', 'codes', 'codesign', 'collecting', 'coloring', 'column', 'combination', 'combinational', 'combinationalfunctional', 'combinations', 'combine', 'combined', 'combines', 'combining', 'come', 'comes', 'coming', 'commercial', 'common', 'commonly', 'commonlyfound', 'communicate', 'communication', 'communicationand', 'communications', 'community', 'communityis', 'compaction', 'compactionand', 'comparative', 'compare', 'compared', 'compares', 'comparing', 'comparison', 'compatible', 'compensate', 'compensation', 'compensationis', 'compilationit', 'compile', 'compilerdirected', 'compiles', 'complete', 'completesdecomposition', 'completing', 'complex', 'complexity', 'complicated', 'complicates', 'component', 'components', 'componentsand', 'componentsevaluating', 'componentsregulating', 'compose', 'composed', 'composition', 'compositionof', 'comprehensive', 'comprised', 'computabilityand', 'computation', 'computational', 'computationmodal', 'computationsand', 'compute', 'computed', 'computer', 'computes', 'computing', 'concentrate', 'concept', 'conceptwhich', 'concurrent', 'condition', 'conditions', 'conduct', 'conduction', 'conductors', 'confidence', 'configuration', 'configurations', 'configured', 'confirm', 'confirming', 'conflicting', 'conflicts', 'congested', 'congestion', 'conjunction', 'conjunctive', 'connected', 'connecting', 'connection', 'consequencethe', 'consider', 'considerable', 'consideration', 'considered', 'considering', 'considers', 'consistency', 'consisting', 'consists', 'constant', 'constituent', 'constitute', 'constraint', 'constrainta', 'constraints', 'constraintsand', 'constraintscalled', 'constraintsfrequency', 'constraintsin', 'constraintslatency', 'constraintson', 'constraintsor', 'constraintsour', 'construct', 'constructed', 'construction', 'consume', 'consuming', 'consumption', 'consumptionmean', 'contacts', 'contain', 'containing', 'containment', 'contention', 'context', 'continuously', 'contour', 'contrast', 'contributed', 'contribution', 'contributions', 'control', 'controlflow', 'controllability', 'controller', 'controllers', 'controlling', 'controls', 'conventional', 'conventionallymicroarchitecture', 'conventions', 'convergence', 'converges', 'converselywe', 'converter', 'converteraware', 'converters', 'convertersfinding', 'converts', 'convex', 'cooptimization', 'coordinates', 'coordinating', 'coordination', 'coping', 'coprocessor', 'core', 'cores', 'correct', 'correction', 'correctness', 'correlated', 'correlationsresource', 'corresponding', 'cosmos', 'cost', 'cosynthesis', 'cosynthesisalgorithm', 'counterexample', 'counterexamples', 'coupled', 'couples', 'coupling', 'covering', 'coware', 'cpu', 'crafted', 'create', 'critical', 'critically', 'criticalpathand', 'cross', 'crosssectional', 'cryptography', 'current', 'currently', 'currentmost', 'custom', 'customer', 'customizing', 'cut', 'cutsize', 'cutsizeand', 'cycle', 'cycleaccurate', 'cycles', 'cyclic', 'dalgorithm', 'data', 'database', 'databases', 'dataintensive', 'datapath', 'dcconfof', 'dcconfthat', 'dcdc', 'dcdvs', 'dcdvsof', 'dclp', 'dclpwhich', 'deadline', 'deadlineand', 'deadlinebased', 'debugging', 'decision', 'decisions', 'decode', 'decoding', 'decomposes', 'decomposing', 'decomposition', 'decompositionand', 'decompositionscanline', 'decompostion', 'decouple', 'decrease', 'dedicated', 'deep', 'define', 'defined', 'degree', 'delay', 'delayand', 'delayrespectivelywhen', 'delays', 'delaysie', 'deletion', 'deliver', 'demand', 'demicheli', 'demonstrate', 'demonstrated', 'denoted', 'dense', 'density', 'depend', 'dependence', 'dependency', 'dependent', 'depending', 'depends', 'depth', 'depthoptimal', 'depthoptimality', 'derivationrdquousing', 'derive', 'derived', 'derives', 'deriving', 'describe', 'described', 'describedas', 'describes', 'describing', 'description', 'descriptionsand', 'descriptors', 'design', 'designand', 'designed', 'designer', 'designerproviding', 'designers', 'designfrom', 'designie', 'designin', 'designing', 'designs', 'designsresulting', 'designsthis', 'designtimea', 'designwe', 'designwhich', 'designwhile', 'desired', 'desiredit', 'desynchronization', 'desynchronized', 'detailed', 'details', 'detect', 'detection', 'detectionwhich', 'detects', 'determine', 'determined', 'determines', 'determinethe', 'determining', 'deterministic', 'deutschs', 'develop', 'developed', 'developing', 'development', 'developmentearly', 'deviation', 'device', 'devices', 'diagnosis', 'diagrams', 'difference', 'differences', 'different', 'differential', 'difficult', 'difficulties', 'diffused', 'digital', 'digraph', 'dimensions', 'direct', 'directed', 'directfitting', 'directly', 'directs', 'discarded', 'discovered', 'discretization', 'discuss', 'discussed', 'discusses', 'disruptive', 'dissect', 'dissipated', 'dissipation', 'distinct', 'distributed', 'distributedarchitecture', 'distribution', 'distributions', 'division', 'documentation', 'dogma', 'dogmamwhich', 'domain', 'domains', 'domainspecific', 'dominant', 'dominating', 'dont', 'dram', 'dramatic', 'dramatically', 'drastic', 'drastically', 'drive', 'driven', 'driver', 'drivers', 'drop', 'dsim', 'dsp', 'dsps', 'dstn', 'dual', 'duplication', 'dvfs', 'dvs', 'dynamic', 'dynamically', 'earlier', 'early', 'ease', 'easily', 'easy', 'ed', 'eda', 'edges', 'effect', 'effective', 'effectively', 'effectiveness', 'effects', 'effectsproximity', 'efficacy', 'efficiency', 'efficiencyto', 'efficient', 'efficiently', 'efficientlyand', 'efficienttakes', 'effort', 'eg', 'egto', 'eigendecomposition', 'el', 'elastic', 'elasticity', 'electrical', 'electromagnetic', 'electromigrationand', 'electronbeam', 'elements', 'eliminate', 'eliminated', 'eliminates', 'elmore', 'embedded', 'embeddedsystemit', 'embeddedsystems', 'emphasizes', 'employed', 'employs', 'emulation', 'emulationwhich', 'enable', 'enables', 'enabling', 'encapsulate', 'encouraging', 'end', 'energy', 'energyaware', 'energydelay', 'energyefficiency', 'energyminimal', 'energyoptimal', 'energyscalable', 'engine', 'engines', 'english', 'enhanced', 'enhancement', 'ensure', 'ensures', 'entirely', 'entitiesdesign', 'entry', 'enumeration', 'environment', 'environments', 'environmentsde', 'equal', 'equation', 'equations', 'equationwhich', 'equipped', 'equivalence', 'equivalent', 'erformance', 'err', 'error', 'errors', 'essential', 'estimate', 'estimated', 'estimates', 'estimating', 'estimation', 'etch', 'evaluate', 'evaluation', 'evaluationaggregation', 'event', 'eventdriven', 'eventsoperations', 'evidence', 'evolutionand', 'evolvea', 'exact', 'exactly', 'example', 'examples', 'examplethe', 'examplewe', 'exceeds', 'excellent', 'exchange', 'exciting', 'exclusive', 'exclusively', 'executing', 'execution', 'exhibit', 'exist', 'existence', 'existing', 'exists', 'existsin', 'exit', 'exor', 'expansion', 'expense', 'expensive', 'experience', 'experimen', 'experimental', 'experiments', 'expert', 'explicitly', 'exploit', 'exploiting', 'exploits', 'exploitwith', 'exploration', 'explore', 'exponential', 'exponentially', 'exponents', 'exposed', 'expressions', 'ext', 'extend', 'extended', 'extension', 'extent', 'external', 'extra', 'extracted', 'extraction', 'extremely', 'fabricated', 'fabrication', 'facilitate', 'facilitates', 'facing', 'fact', 'factor', 'factorization', 'factors', 'factorsand', 'fail', 'fails', 'failure', 'fanin', 'far', 'fast', 'fastand', 'faster', 'fastest', 'fastinteractive', 'fastmultipole', 'fault', 'faulteven', 'faults', 'faulty', 'favorable', 'favorably', 'feasible', 'feature', 'features', 'feedback', 'fgs', 'fidelity', 'field', 'filesystem', 'filesystemestimate', 'filesystems', 'filter', 'filters', 'final', 'finallywe', 'find', 'finding', 'finer', 'finite', 'firstat', 'firstbefore', 'firstkind', 'firstwe', 'fit', 'fitting', 'fixed', 'flash', 'flexibility', 'flexible', 'flipflops', 'floorplanning', 'flow', 'flowbased', 'flowcalled', 'flowmap', 'flows', 'flowsand', 'flowthat', 'fluctuations', 'fluctuationsthe', 'focused', 'focuses', 'followed', 'following', 'fordata', 'form', 'formal', 'formalisms', 'formally', 'format', 'formfactorsecondary', 'forms', 'formulas', 'formulate', 'formulated', 'formulates', 'formulation', 'formulationssince', 'forpower', 'forward', 'found', 'foundation', 'fourthgeneration', 'fpga', 'fpgas', 'fpgaswhich', 'frame', 'framebased', 'frames', 'framework', 'frameworks', 'free', 'frequency', 'frequencydependentwhereas', 'frequencyresulting', 'fromthe', 'frontend', 'fsms', 'fullfledged', 'fullwave', 'fully', 'function', 'functional', 'functionality', 'functionaltiming', 'functions', 'fundamental', 'furthermoreconsidering', 'furthermoreowing', 'furthermorethe', 'future', 'gap', 'gate', 'gated', 'gatein', 'gatelevel', 'gates', 'gatesclusters', 'gating', 'gbpswith', 'general', 'generaleasier', 'generality', 'generalitywe', 'generalize', 'generalsimple', 'generate', 'generated', 'generates', 'generating', 'generation', 'generationand', 'generationthe', 'generators', 'generic', 'geometric', 'geometrical', 'geometries', 'ghz', 'gigabit', 'given', 'gives', 'global', 'glue', 'goal', 'goalie', 'goals', 'good', 'goodnessoffit', 'gradually', 'granularity', 'graph', 'graphinto', 'graphs', 'great', 'greater', 'greatest', 'greatly', 'ground', 'guarantee', 'guaranteed', 'guarantees', 'guided', 'gwautomata', 'handcrafted', 'handle', 'handled', 'handles', 'handling', 'hardware', 'hardwareand', 'hardwarebased', 'hardwaresoftware', 'hardwire', 'harmful', 'having', 'help', 'helps', 'heretofore', 'heterogeneous', 'heteromap', 'heteromapfor', 'heuristic', 'heuristics', 'heurists', 'hicalp', 'hierarc', 'hierarchical', 'hierarchicalfsmbased', 'hierarchies', 'hierarchy', 'hierarchywe', 'high', 'highend', 'higher', 'highlevel', 'highlights', 'highly', 'highperformance', 'history', 'hitmiss', 'hmetis', 'homogeneous', 'hours', 'howards', 'howevermost', 'howeverspeedup', 'howeverthe', 'howeverto', 'howeverwithout', 'hpm', 'humandesigned', 'hundreds', 'hw', 'hy', 'hybrid', 'hypergraph', 'ic', 'identify', 'identifying', 'ieee', 'ieits', 'igmatch', 'igmatchis', 'ignore', 'ii', 'illustrate', 'illustrated', 'ilp', 'impact', 'implement', 'implementation', 'implementations', 'implemented', 'implementing', 'implicants', 'implication', 'implications', 'implicit', 'implicitly', 'implies', 'importance', 'important', 'importantif', 'importantthere', 'imposed', 'imposes', 'impossible', 'improve', 'improved', 'improvement', 'improvementover', 'improvements', 'improves', 'improving', 'inaccuracies', 'incflowthat', 'include', 'including', 'inclusion', 'incoming', 'incompletely', 'incorporate', 'incorporated', 'incorporating', 'increase', 'increased', 'increases', 'incremental', 'incur', 'independent', 'indepth', 'indeterminate', 'individual', 'induce', 'induced', 'industrial', 'industry', 'infinite', 'information', 'inherent', 'inherently', 'initial', 'initiated', 'innovative', 'input', 'inputs', 'inputsthe', 'inserted', 'insertion', 'insight', 'inspection', 'instancealgorithms', 'instances', 'instantaneous', 'instead', 'insteadwe', 'instructions', 'insure', 'integer', 'integervalued', 'integral', 'integrate', 'integrated', 'integrating', 'integration', 'integrity', 'intel', 'intellectual', 'intelligence', 'intelligent', 'intended', 'inter', 'interaction', 'interactive', 'interacts', 'intercell', 'intercomponent', 'interconnect', 'interconnectcentric', 'interconnectcoupling', 'interconnection', 'interconnects', 'interconnectsthus', 'interests', 'interface', 'interframe', 'interior', 'internal', 'internetbased', 'interpe', 'interpolated', 'interpreting', 'interprocessor', 'interrelationshipsrather', 'intersection', 'intervention', 'inthis', 'intradie', 'introduced', 'introduces', 'introduction', 'intrusion', 'investigate', 'investigated', 'invlsi', 'involv', 'involve', 'involved', 'involves', 'io', 'ip', 'ipc', 'ipsand', 'isfixed', 'issue', 'issues', 'issuesallows', 'itand', 'iterations', 'iterative', 'itin', 'itrs', 'itsupports', 'ivc', 'ivcand', 'javacad', 'javacadan', 'jffs', 'joins', 'journaling', 'justification', 'kbounded', 'kboundeds', 'kclutsheteromap', 'keeper', 'keepers', 'keeping', 'kernel', 'key', 'kge', 'kimiddotnmiddotmmiddotlog', 'kinput', 'kiss', 'kluts', 'klutsklutshellipand', 'know', 'knowing', 'knowledge', 'knowledgebased', 'knowledgethis', 'known', 'knownthe', 'krylovsubspace', 'kunbounded', 'label', 'labeling', 'lack', 'lanetc', 'language', 'large', 'larger', 'largescale', 'largest', 'largestructured', 'latency', 'latencyand', 'latencyautomatically', 'latencyexpected', 'latencyinsensitive', 'later', 'latest', 'layer', 'layerpreexisting', 'layers', 'layersdiffering', 'layout', 'layoutefficient', 'layouts', 'ldquocolumnsrdquo', 'ldquocomplexrdquo', 'ldquocrdquo', 'ldquonet', 'ldquorate', 'ldquowaysrdquo', 'lead', 'leading', 'leads', 'leaf', 'leakage', 'leakageaware', 'leakagewe', 'led', 'left', 'legal', 'lend', 'lends', 'length', 'lengthsand', 'level', 'leveldriven', 'levels', 'leverage', 'libraries', 'libraryis', 'like', 'likely', 'limit', 'limitations', 'limited', 'line', 'linear', 'lines', 'links', 'linkswhere', 'linux', 'literature', 'little', 'load', 'loadand', 'loading', 'loadsare', 'local', 'location', 'locations', 'locationsour', 'logic', 'logics', 'longer', 'longest', 'lookup', 'lookuptable', 'lookuptables', 'loop', 'loopsthe', 'loopswe', 'loss', 'low', 'lowcostheterogeneous', 'lowering', 'lowlevel', 'lowpower', 'lp', 'lucent', 'lumped', 'lumpedcapacitance', 'lut', 'luts', 'machine', 'machinefsm', 'machines', 'machinethe', 'macromodel', 'macromodela', 'magnitude', 'main', 'mainly', 'maintain', 'maintained', 'maintaining', 'maintains', 'major', 'majority', 'makes', 'making', 'management', 'managementand', 'managerswhich', 'manipulate', 'manipulation', 'mannerdsim', 'manufacturing', 'map', 'mapped', 'mapper', 'mapping', 'margin', 'match', 'matchers', 'matches', 'matching', 'mathematical', 'matrices', 'matrix', 'matrixvector', 'maximize', 'maximized', 'maximizes', 'maximizing', 'maximum', 'maze', 'mazerouting', 'mcc', 'mcm', 'mcmp', 'mcnc', 'mdash', 'mean', 'means', 'measure', 'measured', 'measurement', 'measurements', 'mechanism', 'mechanismwhich', 'media', 'meet', 'meeting', 'meets', 'memories', 'memory', 'memoryproviding', 'metaproducts', 'metaprogramming', 'method', 'methodcalled', 'methodologies', 'methodology', 'methods', 'methodswe', 'methodwhich', 'meva', 'mevaa', 'mhz', 'mic', 'micon', 'microarchitectural', 'microarchitecture', 'microprocessor', 'microprocessors', 'microwave', 'mimo', 'minimal', 'minimization', 'minimize', 'minimized', 'minimizes', 'minimizethe', 'minimizing', 'minimum', 'miss', 'mistakenly', 'mixed', 'mixedsignal', 'mls', 'mobile', 'modal', 'mode', 'model', 'modeland', 'modeled', 'modeling', 'modelingand', 'modelingemulationhard', 'modelingexploiting', 'modelling', 'modelreduction', 'models', 'modelswe', 'modelwhile', 'modern', 'modes', 'modestwe', 'modifications', 'modified', 'modifiedand', 'modifying', 'modular', 'modulation', 'module', 'modules', 'momentmatching', 'monitor', 'moreoverit', 'moreoverwe', 'mos', 'mpeg', 'mpie', 'multichip', 'multigigahertz', 'multigrid', 'multilev', 'multilevel', 'multimedia', 'multimode', 'multioutput', 'multiple', 'multiplelevel', 'multipleoutput', 'multiplepin', 'multiplesimple', 'multiplexing', 'multiplication', 'multiprocessor', 'multiprocessorbased', 'multiprogrammed', 'multirate', 'multiw', 'nanometer', 'natural', 'nature', 'nauty', 'nctm', 'nearly', 'nearspice', 'necessary', 'necessarywhich', 'need', 'needed', 'neededat', 'needs', 'negative', 'net', 'netlist', 'netlists', 'nets', 'netthe', 'network', 'networkand', 'networkregardless', 'networks', 'networksa', 'networkscombined', 'networkssketches', 'networkwe', 'new', 'newfast', 'nextwe', 'nm', 'nmos', 'node', 'nodepacking', 'nodes', 'noise', 'noiseas', 'nominal', 'nonarray', 'nonlinear', 'nonpreemptivescheduling', 'nonscalable', 'normal', 'normalized', 'notification', 'notificationcomposite', 'notion', 'novel', 'novelmultigrid', 'npcompleteheuristics', 'nphard', 'nport', 'number', 'numbers', 'numerical', 'numerous', 'object', 'objective', 'objectoriented', 'objects', 'objectsdynamic', 'observability', 'observation', 'obstacles', 'obstaclesand', 'obtain', 'obtained', 'obtains', 'occurs', 'ofdm', 'offand', 'offchip', 'offline', 'offset', 'offthe', 'offtheshelf', 'ofinformation', 'ofover', 'ofpartitioning', 'oftransition', 'ofu', 'ois', 'omap', 'onchip', 'ondifferent', 'ondynamic', 'ones', 'online', 'opens', 'operating', 'operation', 'operations', 'operationsand', 'operationsdsim', 'operatorsand', 'opportunities', 'optimal', 'optimality', 'optimally', 'optimization', 'optimizationarchitecture', 'optimizationbased', 'optimizations', 'optimizationswe', 'optimizationwe', 'optimize', 'optimized', 'optimizes', 'optimizing', 'optimum', 'orcac', 'order', 'orderdifferent', 'ordering', 'orders', 'organized', 'oriented', 'original', 'orion', 'orthogonal', 'os', 'outlined', 'outperform', 'outperforms', 'output', 'outputs', 'overall', 'overcome', 'overhead', 'overheadthe', 'overspecification', 'overspecify', 'overthecell', 'ownership', 'oxide', 'package', 'packagemerging', 'packageparticularly', 'packages', 'packet', 'packets', 'page', 'paid', 'paper', 'papera', 'paperwe', 'paradigm', 'parallel', 'parallelism', 'parallelismwhere', 'parameter', 'parameters', 'paramount', 'parasitic', 'parf', 'partial', 'particular', 'particularfor', 'particularly', 'particularthe', 'particularthey', 'particularwe', 'partition', 'partitioning', 'partitionings', 'parts', 'passive', 'passivity', 'path', 'paths', 'pathsbut', 'pathsthe', 'pattern', 'patterns', 'patternscache', 'patternswhich', 'payload', 'pcb', 'pearl', 'penalty', 'perfectone', 'perform', 'performance', 'performancedriven', 'performanceestimation', 'performancemonitoring', 'performancepower', 'performances', 'performancewith', 'performed', 'performs', 'performthe', 'period', 'periodmoreoverwe', 'peripheral', 'permit', 'perturbations', 'pesand', 'petri', 'pg', 'phase', 'physical', 'physically', 'pipelined', 'pipelining', 'plabased', 'place', 'placed', 'placement', 'placementour', 'placementroutingextraction', 'placeour', 'placer', 'places', 'placing', 'planar', 'planned', 'planning', 'plas', 'platform', 'platformbased', 'platforms', 'plays', 'plbseach', 'pmos', 'pmu', 'podem', 'points', 'pointtopointbuslocal', 'polygontotrapezoid', 'polynomial', 'polynomialtime', 'popular', 'population', 'port', 'positive', 'possess', 'possible', 'postprocessing', 'postrouting', 'posynomial', 'potential', 'potentially', 'power', 'poweraware', 'powerful', 'powergating', 'powerground', 'powermode', 'powersmall', 'powersupply', 'practical', 'practice', 'practicebuffers', 'precision', 'precomputed', 'predict', 'predictability', 'predicted', 'prediction', 'predicts', 'preempted', 'preemptive', 'preprocessing', 'prerouting', 'presence', 'present', 'presented', 'presentedrelative', 'presently', 'presents', 'prevent', 'previous', 'previously', 'previouslya', 'primapvland', 'primarily', 'primary', 'prime', 'printed', 'prior', 'priority', 'probing', 'problem', 'problemleading', 'problemrdquo', 'problems', 'problemshave', 'procedure', 'procedures', 'proceduresand', 'process', 'processbasedand', 'processes', 'processing', 'processor', 'processors', 'processorsmemoriesperipheralsetc', 'processwhich', 'produce', 'produced', 'produces', 'product', 'productive', 'productivity', 'products', 'program', 'programbased', 'programmable', 'programmed', 'programming', 'programs', 'programssuch', 'programswe', 'progressive', 'project', 'projection', 'projectionbased', 'promising', 'propagation', 'proper', 'properly', 'properties', 'property', 'proportional', 'propose', 'proposed', 'proposedalgorithm', 'proposes', 'protect', 'protected', 'protecting', 'protection', 'protocol', 'protocols', 'prototype', 'prototyping', 'prototypingenables', 'provably', 'prove', 'proven', 'provide', 'provided', 'provides', 'providing', 'pruning', 'pseudo', 'pseudoproduct', 'pseudoproducts', 'publickey', 'published', 'pull', 'purchase', 'purpose', 'puts', 'pwb', 'pwbs', 'qos', 'quality', 'qualityparticularly', 'quantify', 'quantitative', 'quantitatively', 'quartus', 'quasistatic', 'quickly', 'radio', 'random', 'range', 'ranges', 'ranging', 'rapidly', 'rate', 'rates', 'ratesetc', 'ratio', 'ratiocut', 'rational', 'razor', 'rc', 'rcinterconnect', 'rcl', 'rdr', 'rdrbased', 'readily', 'reading', 'real', 'realistic', 'realization', 'reallife', 'realtime', 'realworld', 'reasonable', 'recent', 'recently', 'recognize', 'recognizing', 'reconfigurabilityleading', 'reconfigurable', 'reconfiguration', 'reconfigure', 'recurring', 'redesign', 'reduce', 'reduced', 'reducedis', 'reduces', 'reducing', 'reduction', 'redundant', 'reference', 'referenced', 'references', 'refinement', 'regardless', 'regards', 'region', 'regionboxrouting', 'regions', 'register', 'registers', 'registertransfer', 'regression', 'regular', 'regularity', 'related', 'relations', 'relationships', 'relative', 'relevant', 'remains', 'renewed', 'repeater', 'repeaters', 'repeaterswhile', 'replaced', 'replacement', 'replication', 'reported', 'reports', 'represent', 'representation', 'representationsand', 'represented', 'representing', 'require', 'required', 'requirement', 'requirements', 'requires', 'reroute', 'reroutes', 'research', 'reside', 'resistances', 'resizes', 'resonances', 'resource', 'respect', 'respectively', 'respectivelywith', 'response', 'responsible', 'rest', 'restore', 'result', 'resulted', 'resulting', 'resultingsystem', 'results', 'resultswe', 'resultturbosyn', 'resynthesis', 'retained', 'retargetability', 'retargetable', 'retiming', 'retimingwhich', 'reusable', 'reuse', 'reusequality', 'reusing', 'revealed', 'reward', 'rewards', 'rf', 'rich', 'ripup', 'robust', 'role', 'rollback', 'rom', 'routability', 'route', 'routed', 'router', 'routerboxrouterpowered', 'routerminotaursupports', 'routers', 'routerseg', 'routervr', 'routerwe', 'routes', 'routines', 'routing', 'routingoverthecell', 'routingsuch', 'rtl', 'rule', 'rulebased', 'run', 'runmuch', 'running', 'runs', 'runtime', 'sample', 'samples', 'sat', 'satisfaction', 'satisfiability', 'satisfied', 'satisfiedour', 'satisfies', 'satisfy', 'save', 'saving', 'savings', 'scalability', 'scale', 'scaled', 'scaling', 'scanline', 'scanningsemantic', 'schedule', 'scheduler', 'schedulesfinds', 'scheduling', 'schema', 'schematic', 'schematics', 'schemawhich', 'scheme', 'schemeand', 'schemes', 'scm', 'scmdetect', 'scms', 'scoopsuccessfully', 'scratchpad', 'scx', 'sdc', 'sdcbased', 'sde', 'seamless', 'search', 'secondary', 'secondby', 'secondmore', 'secondone', 'seconds', 'secondwe', 'secure', 'security', 'seen', 'selected', 'selection', 'semantics', 'sending', 'sends', 'sensitivitybased', 'separate', 'separately', 'separating', 'seqta', 'sequence', 'sequential', 'sequentializes', 'sequentially', 'series', 'server', 'service', 'set', 'sets', 'setting', 'setup', 'severe', 'shall', 'sharing', 'shifting', 'short', 'shortcomings', 'shorter', 'showing', 'shown', 'shows', 'sidea', 'signal', 'signals', 'signature', 'signatures', 'significant', 'significantly', 'signoff', 'similar', 'simo', 'simple', 'simplifies', 'simplifying', 'simply', 'simulated', 'simulates', 'simulating', 'simulation', 'simulationand', 'simulationautomatic', 'simulationdsim', 'simulationfault', 'simulations', 'simulationssuperior', 'simulator', 'simulatordsimfor', 'simultaneous', 'simultaneously', 'single', 'singlegate', 'singlelevel', 'singlemonolithic', 'sinkand', 'sinks', 'sis', 'size', 'sized', 'sizes', 'sizesor', 'sizing', 'sizingbased', 'skin', 'slack', 'sleep', 'slower', 'small', 'smallassemblylanguage', 'smaller', 'smallest', 'smooth', 'smoothly', 'smv', 'snort', 'soc', 'socalled', 'socwhere', 'soft', 'software', 'softwareby', 'softwaredefined', 'sold', 'solution', 'solutions', 'solutionswe', 'solvable', 'solve', 'solved', 'solvedhoweverfor', 'solvemlb', 'solvemlp', 'solver', 'solves', 'solvesoagoa', 'solving', 'someof', 'sophisticated', 'sorting', 'source', 'sources', 'sp', 'space', 'spacebut', 'sparameter', 'sparkle', 'sparser', 'sparsification', 'sparsificationand', 'sparsity', 'special', 'specific', 'specificallythe', 'specificallywe', 'specification', 'specificationmodel', 'specificationmodels', 'specifications', 'specified', 'spectrum', 'speed', 'speedpowerand', 'speeds', 'speedto', 'speedup', 'speedupan', 'speedups', 'spf', 'spice', 'spp', 'spread', 'squares', 'sta', 'stage', 'stages', 'stalldue', 'standard', 'standby', 'starting', 'starts', 'state', 'stateand', 'stateassignment', 'statements', 'stateoftheart', 'states', 'statesnew', 'statespace', 'statewe', 'static', 'staticallyscheduledvliw', 'statistical', 'statisticalprobabilistic', 'statistics', 'status', 'stawithout', 'step', 'steps', 'stimuli', 'stochastic', 'storage', 'store', 'stored', 'storing', 'storingretrieving', 'straight', 'straightening', 'straightforward', 'strategy', 'strategyletting', 'streamer', 'streamerthe', 'streaming', 'strengthsand', 'strict', 'stringent', 'strongarm', 'stronger', 'strongly', 'structural', 'structurally', 'structure', 'structured', 'structures', 'structuretechniques', 'studied', 'studies', 'study', 'style', 'styles', 'sub', 'subject', 'subnetworks', 'subsequent', 'subsequenttimingdriven', 'subset', 'subsets', 'substantial', 'substrate', 'subsystem', 'subsystems', 'subthreshold', 'success', 'successfully', 'successive', 'sufficient', 'suggest', 'suggested', 'suggestions', 'suitable', 'suite', 'suitedin', 'sum', 'sumci', 'summaryit', 'supply', 'support', 'supported', 'supporting', 'supports', 'surface', 'surprising', 'switch', 'switches', 'switchesour', 'switching', 'switchlevel', 'symbolic', 'symmetries', 'symmetry', 'symmetrydetection', 'synchronization', 'synchronous', 'synchronousasynchronousdataflowand', 'synopsys', 'syntactic', 'synthesis', 'synthesisare', 'synthesismethod', 'synthesizable', 'synthesized', 'system', 'systematic', 'systematically', 'systembased', 'systemc', 'systemcalled', 'systemdesign', 'systemhence', 'systemincluding', 'systemlevel', 'systemlevelcapitalizing', 'systemonchip', 'systems', 'systemstg', 'systemsthe', 'systemswe', 'systemswhere', 'systemthe', 'systemtheoretic', 'table', 'tables', 'tablescan', 'tablescontain', 'tablesin', 'tabular', 'tabulated', 'tailoring', 'taken', 'takes', 'target', 'targeted', 'targeting', 'task', 'taskclustering', 'tasks', 'taskwe', 'taskwhile', 'technique', 'techniquecalled', 'techniques', 'techniquesa', 'techniquesand', 'techniquesenvironment', 'techniquesincluding', 'technologies', 'technologieslarge', 'technologiesmultiple', 'technologiessuch', 'technology', 'technologyspecific', 'telecomtransport', 'templates', 'temporal', 'tens', 'term', 'terms', 'test', 'testability', 'testable', 'testbed', 'testbedwe', 'tested', 'tests', 'teststhis', 'teta', 'thatin', 'thatsince', 'theapplication', 'themour', 'thenwe', 'theorems', 'theoretical', 'theory', 'theoryand', 'theorydiscrete', 'therebyset', 'thereforedsim', 'thisis', 'thought', 'thousands', 'threat', 'threshold', 'throughput', 'thusany', 'thussoftware', 'thusthe', 'ti', 'tight', 'tightly', 'tiling', 'time', 'timeand', 'timeconsuming', 'timecritical', 'timeliness', 'timemany', 'timemust', 'timeoptimized', 'timer', 'times', 'timesoften', 'timetomarket', 'timewarp', 'timewithout', 'timing', 'timingconstraints', 'timingoptimized', 'timingrequirements', 'tlms', 'tlmswhich', 'tns', 'today', 'todays', 'toeliminate', 'tofrom', 'tool', 'toolon', 'tools', 'toolsaucywhich', 'topological', 'topologies', 'tos', 'totackle', 'total', 'totally', 'trace', 'tracebased', 'traces', 'track', 'trade', 'tradeoff', 'traditional', 'traditionallya', 'traffic', 'transaction', 'transform', 'transformation', 'transistor', 'transistorlevel', 'transistors', 'transistorsstored', 'transition', 'transitions', 'transitionscompilerdirected', 'translate', 'translates', 'translation', 'transmission', 'transmitter', 'transmitterthe', 'trapezoidsare', 'treatment', 'treats', 'tree', 'trees', 'true', 'truevalue', 'ts', 'tuning', 'turbomap', 'turbosynfor', 'twodimensional', 'twofold', 'twolevel', 'twophase', 'twostep', 'types', 'typical', 'typically', 'um', 'unate', 'unbounded', 'uncover', 'underlying', 'unfortunately', 'unfortunatelyit', 'unidirectional', 'unified', 'uniformly', 'unique', 'unit', 'units', 'unity', 'unknown', 'unlike', 'untestable', 'unused', 'update', 'updated', 'upper', 'usage', 'use', 'useand', 'useful', 'user', 'usersand', 'userwhich', 'uses', 'usual', 'usually', 'utilization', 'utilize', 'utilizes', 'utilizing', 'utmost', 'valid', 'validate', 'validating', 'validation', 'valuable', 'value', 'values', 'variability', 'variabilityand', 'variable', 'variables', 'variation', 'variations', 'variationsa', 'varied', 'variety', 'variousforms', 'vary', 'vastly', 'vdd', 'vector', 'vectors', 'vendors', 'venerable', 'verification', 'verificationtools', 'verifies', 'verify', 'verifying', 'versatile', 'version', 'versions', 'versionschange', 'versus', 'vhdl', 'vhdlan', 'victim', 'video', 'view', 'viewed', 'violation', 'virtual', 'virtually', 'virus', 'visibility', 'vlsi', 'voltage', 'voltages', 'vt', 'vth', 'vtwe', 'waste', 'waveform', 'waveforms', 'way', 'ways', 'weighting', 'weights', 'wellcontrolled', 'wellknown', 'wellposedness', 'whichaccuracy', 'whichfor', 'wide', 'widely', 'widespread', 'width', 'widths', 'windows', 'wire', 'wirelength', 'wireless', 'wirelessly', 'wires', 'wiring', 'withperiodic', 'witnesses', 'wns', 'work', 'workload', 'workloads', 'works', 'workwe', 'worlds', 'worms', 'worst', 'worstcase', 'wrapper', 'writing', 'written', 'xc', 'xilinx', 'xilinxand', 'xscalebased', 'xscaleprocessorwhich', 'xy', 'yield', 'yielded', 'yieldloss', 'yields', 'zerodelay']\n"
          ]
        }
      ]
    },
    {
      "cell_type": "markdown",
      "metadata": {
        "id": "IjgbcYQuXuyw"
      },
      "source": [
        "## **Exctraction de \"Linked entities\"**"
      ]
    },
    {
      "cell_type": "code",
      "metadata": {
        "colab": {
          "base_uri": "https://localhost:8080/"
        },
        "id": "qqFwiFVM3OH-",
        "outputId": "35417a15-5738-4f8c-cb60-b2c519d7f514"
      },
      "source": [
        "import spacy\n",
        "import en_core_web_sm\n",
        "from functools import reduce\n",
        "nlp = spacy.load('en_core_web_sm')\n",
        "# add pipeline (declared through entry_points in setup.py)\n",
        "nlp.add_pipe(\"entityLinker\",last=True)"
      ],
      "execution_count": null,
      "outputs": [
        {
          "output_type": "execute_result",
          "data": {
            "text/plain": [
              "<spacy_entity_linker.EntityLinker.EntityLinker at 0x7f6b35147090>"
            ]
          },
          "metadata": {},
          "execution_count": 15
        }
      ]
    },
    {
      "cell_type": "code",
      "metadata": {
        "id": "5TrSDU_0LHoE"
      },
      "source": [
        "listEntity =[]\n",
        "for a,abs in enumerate(abstracts_cleaned):\n",
        "  doc = nlp(str(abs))\n",
        "  listInter=[]\n",
        "  #return all the entities in the whole document\n",
        "  all_linked_entities = doc._.linkedEntities\n",
        "  #itereate over sentences and print linked entities\n",
        "  for sent in doc.sents:\n",
        "    #print(sent._.linkedEntities)\n",
        "    for i in range(len(sent._.linkedEntities)):\n",
        "      entity = sent._.linkedEntities[i].get_id()\n",
        "      listInter.append(entity)\n",
        "  listEntity.append(listInter)\n"
      ],
      "execution_count": null,
      "outputs": []
    },
    {
      "cell_type": "code",
      "metadata": {
        "colab": {
          "base_uri": "https://localhost:8080/"
        },
        "id": "3o-IVAH7PZZR",
        "outputId": "fb220e67-16d0-439e-dfa8-7440d7dfb408"
      },
      "source": [
        "listEntityAll = reduce(operator.concat,listEntity)\n",
        "print(\"listEntityAll\" , len(listEntityAll))\n",
        "listEntityAllunique = np.unique(np.asarray(listEntityAll))\n",
        "print(\"listEntityAllunique\" , len(listEntityAllunique))\n"
      ],
      "execution_count": null,
      "outputs": [
        {
          "output_type": "stream",
          "name": "stdout",
          "text": [
            "listEntityAll 1682\n",
            "listEntityAllunique 566\n"
          ]
        }
      ]
    },
    {
      "cell_type": "markdown",
      "metadata": {
        "id": "DDObVwXhYKkA"
      },
      "source": [
        "## **Document - Entité**"
      ]
    },
    {
      "cell_type": "code",
      "metadata": {
        "id": "IbIiQQHKPmej"
      },
      "source": [
        "dictindex = dict(zip(listEntityAllunique,np.arange(len(listEntityAllunique))))\n",
        "entityEmbedding = np.zeros((len(abstract),len(listEntityAllunique)))\n",
        "for a in range(len(abstract)):\n",
        "  lista = listEntity[a]\n",
        "  indexEn = values = np.asanyarray(list(map(dictindex.get,lista)))\n",
        "  entityEmbedding[a,indexEn]=1"
      ],
      "execution_count": null,
      "outputs": []
    },
    {
      "cell_type": "code",
      "metadata": {
        "id": "NnD6nAXZGqTf"
      },
      "source": [
        ""
      ],
      "execution_count": null,
      "outputs": []
    },
    {
      "cell_type": "markdown",
      "metadata": {
        "id": "O1_-EG4uYQcX"
      },
      "source": [
        "## **BERT**"
      ]
    },
    {
      "cell_type": "code",
      "metadata": {
        "id": "K8AOFnbfFqgO"
      },
      "source": [
        "from sentence_transformers import SentenceTransformer\n",
        "model = SentenceTransformer('bert-base-nli-mean-tokens')\n",
        "sentence_embedding = model.encode(abstract)"
      ],
      "execution_count": null,
      "outputs": []
    },
    {
      "cell_type": "code",
      "metadata": {
        "colab": {
          "base_uri": "https://localhost:8080/"
        },
        "id": "L3ZDCQg-Jju6",
        "outputId": "904d98b8-1340-4bb8-dc0f-8d12d70404e5"
      },
      "source": [
        "sentence_embedding"
      ],
      "execution_count": null,
      "outputs": [
        {
          "output_type": "execute_result",
          "data": {
            "text/plain": [
              "array([[-0.90498275,  0.20419133,  0.54003567, ...,  0.1595102 ,\n",
              "        -0.02890011,  0.21780182],\n",
              "       [-0.84162533,  0.37580818,  0.31556702, ..., -0.15957555,\n",
              "        -0.1251584 ,  0.36724833],\n",
              "       [-0.0920645 ,  0.60817575,  0.5032281 , ..., -0.46368083,\n",
              "        -1.1678922 ,  0.628837  ],\n",
              "       ...,\n",
              "       [-0.8522707 ,  0.6357087 ,  0.32293302, ..., -0.90342045,\n",
              "        -0.16440001,  0.16181709],\n",
              "       [-0.15328439,  0.30836326,  1.0114954 , ..., -0.23881237,\n",
              "        -0.5476271 ,  0.27469596],\n",
              "       [-0.00146912,  0.23846017,  0.8166513 , ..., -0.25199023,\n",
              "        -1.2100103 ,  0.4056557 ]], dtype=float32)"
            ]
          },
          "metadata": {},
          "execution_count": 21
        }
      ]
    },
    {
      "cell_type": "markdown",
      "metadata": {
        "id": "EHEDGCvwYWq4"
      },
      "source": [
        "# **Clustering**"
      ]
    },
    {
      "cell_type": "code",
      "metadata": {
        "id": "qyR4enTWJjzU",
        "colab": {
          "base_uri": "https://localhost:8080/"
        },
        "outputId": "0b8f9c89-a7e1-448e-b492-8e3f48b44805"
      },
      "source": [
        "from sklearn.cluster import KMeans\n",
        "from sklearn.metrics import accuracy_score\n",
        "\n",
        "K=28\n",
        "labels_all, u  = pd.factorize(df['Revue'])\n",
        "\n",
        "kmeans = KMeans(n_clusters=K, random_state=0,n_init=5).fit(DocTerm_abstract)\n",
        "y_pred1 = kmeans.labels_\n",
        "print(y_pred1)\n",
        "print('Bow representation clustering  accuracy : ',accuracy_score(labels_all,y_pred1))"
      ],
      "execution_count": null,
      "outputs": [
        {
          "output_type": "stream",
          "name": "stdout",
          "text": [
            "[ 1 20 23 ...  5  2  1]\n",
            "Bow representation clustering  accuracy :  0.045249940772328835\n"
          ]
        }
      ]
    },
    {
      "cell_type": "code",
      "metadata": {
        "id": "O3PgWwnn33aH",
        "colab": {
          "base_uri": "https://localhost:8080/"
        },
        "outputId": "10386a87-c7ca-437f-9efd-6bf61b990cc5"
      },
      "source": [
        "labels_all, xnxx = pd.factorize(df['Revue'])\n",
        "print(labels_all)\n",
        "print(xnxx)"
      ],
      "execution_count": null,
      "outputs": [
        {
          "output_type": "stream",
          "name": "stdout",
          "text": [
            "[ 0  0  0 ... 27 27 27]\n",
            "Index(['DAC', 'DAGM-Symposium', 'DATA BASE', 'Data Min. Knowl. Discov.',\n",
            "       'Des. Codes Cryptography', 'Discrete Applied Mathematics',\n",
            "       'Distributed Computing', 'Electr. Notes Theor. Comput. Sci.', 'GECCO',\n",
            "       'GECCO (Companion)', 'GECCO Workshops', 'ICC', 'ICCAD', 'ICCBR', 'ICCE',\n",
            "       'ICCSA (1)', 'ICCSA (2)', 'ICCSA (3)', 'ICCV', 'ICIP', 'IJCAI',\n",
            "       'IJCAI (1)', 'Journal of Systems and Software', 'Knowl. Inf. Syst.',\n",
            "       'SIGMOD Conference', 'SIGMOD Record', 'SMC', 'STOC'],\n",
            "      dtype='object')\n"
          ]
        }
      ]
    },
    {
      "cell_type": "code",
      "metadata": {
        "id": "hyEKGYen6UY9",
        "colab": {
          "base_uri": "https://localhost:8080/"
        },
        "outputId": "9c2f9847-7ef3-4992-fce5-2a0a8621ccee"
      },
      "source": [
        "np.unique(labels_all)"
      ],
      "execution_count": null,
      "outputs": [
        {
          "output_type": "execute_result",
          "data": {
            "text/plain": [
              "array([ 0,  1,  2,  3,  4,  5,  6,  7,  8,  9, 10, 11, 12, 13, 14, 15, 16,\n",
              "       17, 18, 19, 20, 21, 22, 23, 24, 25, 26, 27])"
            ]
          },
          "metadata": {},
          "execution_count": 62
        }
      ]
    },
    {
      "cell_type": "code",
      "metadata": {
        "id": "xMD74EwQN0HF"
      },
      "source": [
        "kmeans = KMeans(n_clusters=K, random_state=0,n_init=5).fit(entityEmbedding)\n",
        "#kmeans = KMeans(n_clusters=K, random_state=0,n_init=5).fit(mat)\n",
        "\n",
        "y_pred2 = kmeans.labels_\n",
        "print(y_pred2)\n",
        "#print('Entity  representation clustering  accuracy : ',accuracy_score(labels_all,y_pred2))"
      ],
      "execution_count": null,
      "outputs": []
    },
    {
      "cell_type": "code",
      "metadata": {
        "id": "-hooR0JnOJ9D"
      },
      "source": [
        "kmeans = KMeans(n_clusters=K, random_state=0,n_init=5).fit(sentence_embedding)\n",
        "y_pred3 = kmeans.labels_\n",
        "print(y_pred3)\n",
        "#print('Sentence  representation clustering  accuracy : ',accuracy_score(labels_all,y_pred3))"
      ],
      "execution_count": null,
      "outputs": []
    },
    {
      "cell_type": "code",
      "metadata": {
        "colab": {
          "base_uri": "https://localhost:8080/",
          "height": 505
        },
        "id": "qYFdlTo18Hla",
        "outputId": "63447c3e-f7f5-4f88-d88d-7d8a9ea77c4a"
      },
      "source": [
        "import numpy as np\n",
        "import Cluster_Ensembles as CE\n",
        "import functools\n",
        "from functools import reduce\n",
        "clustering_1 = y_pred1\n",
        "clustering_2 = y_pred2\n",
        "clustering_3 = y_pred3\n",
        "cluster_runs = np.array([clustering_1,clustering_2,clustering_3])\n",
        "print(\"cluster_runs\" , cluster_runs)\n",
        "#consensus_clustering_labels = CE.cluster_ensembles(cluster_runs,verbose = True,N_clusters_max = 3)\n",
        "#print(\"consensus_clustering_labels\",consensus_clustering_labels)"
      ],
      "execution_count": null,
      "outputs": [
        {
          "output_type": "stream",
          "name": "stdout",
          "text": [
            "cluster_runs [[2 0 1 1 1 2 2 2 2 2 0 2 2 2 0 2 1 2 0 1 2 1 1 2 2 2 1 2 1 1 0 2 2 2 2 2\n",
            "  2 1 2 2 2 2 2 0 0 2 1 2 1 2 2 2 2 2 2 2 2 2 2 2 2 2 2 2 2 2 2 2 2 2 2 0\n",
            "  1 2 2 2 2 2 2 2 2 2 2 2 2 2 2 2 2 2 2 1 1 2 1 2 2 2 1 1]\n",
            " [2 2 0 0 1 1 1 2 1 1 1 1 1 2 1 0 1 1 0 2 0 1 2 1 2 1 0 2 1 1 2 2 1 1 1 0\n",
            "  1 1 1 0 1 1 2 2 1 0 2 2 2 2 2 2 1 1 1 2 2 1 1 1 2 0 1 1 0 1 1 1 1 1 1 1\n",
            "  1 0 1 1 1 0 2 1 1 1 1 0 0 1 0 1 1 1 0 1 1 0 1 2 1 1 1 1]\n",
            " [1 1 1 1 1 1 1 1 2 1 1 0 1 0 1 0 2 2 2 1 1 1 1 0 0 0 1 0 1 0 1 0 2 1 2 1\n",
            "  1 2 1 0 2 0 0 0 1 0 1 0 0 1 1 1 1 1 1 0 0 0 2 2 0 0 0 1 1 1 1 1 1 2 2 1\n",
            "  1 0 2 0 2 0 1 1 2 2 2 0 1 1 0 2 1 0 1 0 0 1 0 1 2 1 1 1]]\n"
          ]
        },
        {
          "output_type": "error",
          "ename": "NameError",
          "evalue": "ignored",
          "traceback": [
            "\u001b[0;31m---------------------------------------------------------------------------\u001b[0m",
            "\u001b[0;31mNameError\u001b[0m                                 Traceback (most recent call last)",
            "\u001b[0;32m<ipython-input-25-820cc06033a5>\u001b[0m in \u001b[0;36m<module>\u001b[0;34m()\u001b[0m\n\u001b[1;32m      8\u001b[0m \u001b[0mcluster_runs\u001b[0m \u001b[0;34m=\u001b[0m \u001b[0mnp\u001b[0m\u001b[0;34m.\u001b[0m\u001b[0marray\u001b[0m\u001b[0;34m(\u001b[0m\u001b[0;34m[\u001b[0m\u001b[0mclustering_1\u001b[0m\u001b[0;34m,\u001b[0m\u001b[0mclustering_2\u001b[0m\u001b[0;34m,\u001b[0m\u001b[0mclustering_3\u001b[0m\u001b[0;34m]\u001b[0m\u001b[0;34m)\u001b[0m\u001b[0;34m\u001b[0m\u001b[0;34m\u001b[0m\u001b[0m\n\u001b[1;32m      9\u001b[0m \u001b[0mprint\u001b[0m\u001b[0;34m(\u001b[0m\u001b[0;34m\"cluster_runs\"\u001b[0m \u001b[0;34m,\u001b[0m \u001b[0mcluster_runs\u001b[0m\u001b[0;34m)\u001b[0m\u001b[0;34m\u001b[0m\u001b[0;34m\u001b[0m\u001b[0m\n\u001b[0;32m---> 10\u001b[0;31m \u001b[0mconsensus_clustering_labels\u001b[0m \u001b[0;34m=\u001b[0m \u001b[0mCE\u001b[0m\u001b[0;34m.\u001b[0m\u001b[0mcluster_ensembles\u001b[0m\u001b[0;34m(\u001b[0m\u001b[0mcluster_runs\u001b[0m\u001b[0;34m,\u001b[0m\u001b[0mverbose\u001b[0m \u001b[0;34m=\u001b[0m \u001b[0;32mTrue\u001b[0m\u001b[0;34m,\u001b[0m\u001b[0mN_clusters_max\u001b[0m \u001b[0;34m=\u001b[0m \u001b[0;36m3\u001b[0m\u001b[0;34m)\u001b[0m\u001b[0;34m\u001b[0m\u001b[0;34m\u001b[0m\u001b[0m\n\u001b[0m\u001b[1;32m     11\u001b[0m \u001b[0mprint\u001b[0m\u001b[0;34m(\u001b[0m\u001b[0;34m\"consensus_clustering_labels\"\u001b[0m\u001b[0;34m,\u001b[0m\u001b[0mconsensus_clustering_labels\u001b[0m\u001b[0;34m)\u001b[0m\u001b[0;34m\u001b[0m\u001b[0;34m\u001b[0m\u001b[0m\n",
            "\u001b[0;32m/usr/local/lib/python3.7/dist-packages/Cluster_Ensembles/Cluster_Ensembles.py\u001b[0m in \u001b[0;36mcluster_ensembles\u001b[0;34m(cluster_runs, hdf5_file_name, verbose, N_clusters_max)\u001b[0m\n\u001b[1;32m    294\u001b[0m         \u001b[0mfunction_names\u001b[0m \u001b[0;34m=\u001b[0m \u001b[0;34m[\u001b[0m\u001b[0;34m'CSPA'\u001b[0m\u001b[0;34m,\u001b[0m \u001b[0;34m'HGPA'\u001b[0m\u001b[0;34m,\u001b[0m \u001b[0;34m'MCLA'\u001b[0m\u001b[0;34m]\u001b[0m\u001b[0;34m\u001b[0m\u001b[0;34m\u001b[0m\u001b[0m\n\u001b[1;32m    295\u001b[0m \u001b[0;34m\u001b[0m\u001b[0m\n\u001b[0;32m--> 296\u001b[0;31m     \u001b[0mhypergraph_adjacency\u001b[0m \u001b[0;34m=\u001b[0m \u001b[0mbuild_hypergraph_adjacency\u001b[0m\u001b[0;34m(\u001b[0m\u001b[0mcluster_runs\u001b[0m\u001b[0;34m)\u001b[0m\u001b[0;34m\u001b[0m\u001b[0;34m\u001b[0m\u001b[0m\n\u001b[0m\u001b[1;32m    297\u001b[0m     \u001b[0mstore_hypergraph_adjacency\u001b[0m\u001b[0;34m(\u001b[0m\u001b[0mhypergraph_adjacency\u001b[0m\u001b[0;34m,\u001b[0m \u001b[0mhdf5_file_name\u001b[0m\u001b[0;34m)\u001b[0m\u001b[0;34m\u001b[0m\u001b[0;34m\u001b[0m\u001b[0m\n\u001b[1;32m    298\u001b[0m \u001b[0;34m\u001b[0m\u001b[0m\n",
            "\u001b[0;32m/usr/local/lib/python3.7/dist-packages/Cluster_Ensembles/Cluster_Ensembles.py\u001b[0m in \u001b[0;36mbuild_hypergraph_adjacency\u001b[0;34m(cluster_runs)\u001b[0m\n\u001b[1;32m    166\u001b[0m     \u001b[0mN_runs\u001b[0m \u001b[0;34m=\u001b[0m \u001b[0mcluster_runs\u001b[0m\u001b[0;34m.\u001b[0m\u001b[0mshape\u001b[0m\u001b[0;34m[\u001b[0m\u001b[0;36m0\u001b[0m\u001b[0;34m]\u001b[0m\u001b[0;34m\u001b[0m\u001b[0;34m\u001b[0m\u001b[0m\n\u001b[1;32m    167\u001b[0m \u001b[0;34m\u001b[0m\u001b[0m\n\u001b[0;32m--> 168\u001b[0;31m     \u001b[0mhypergraph_adjacency\u001b[0m \u001b[0;34m=\u001b[0m \u001b[0mcreate_membership_matrix\u001b[0m\u001b[0;34m(\u001b[0m\u001b[0mcluster_runs\u001b[0m\u001b[0;34m[\u001b[0m\u001b[0;36m0\u001b[0m\u001b[0;34m]\u001b[0m\u001b[0;34m)\u001b[0m\u001b[0;34m\u001b[0m\u001b[0;34m\u001b[0m\u001b[0m\n\u001b[0m\u001b[1;32m    169\u001b[0m     \u001b[0;32mfor\u001b[0m \u001b[0mi\u001b[0m \u001b[0;32min\u001b[0m \u001b[0mxrange\u001b[0m\u001b[0;34m(\u001b[0m\u001b[0;36m1\u001b[0m\u001b[0;34m,\u001b[0m \u001b[0mN_runs\u001b[0m\u001b[0;34m)\u001b[0m\u001b[0;34m:\u001b[0m\u001b[0;34m\u001b[0m\u001b[0;34m\u001b[0m\u001b[0m\n\u001b[1;32m    170\u001b[0m         hypergraph_adjacency = scipy.sparse.vstack([hypergraph_adjacency,\n",
            "\u001b[0;32m/usr/local/lib/python3.7/dist-packages/Cluster_Ensembles/Cluster_Ensembles.py\u001b[0m in \u001b[0;36mcreate_membership_matrix\u001b[0;34m(cluster_run)\u001b[0m\n\u001b[1;32m    890\u001b[0m     \u001b[0mcluster_run\u001b[0m \u001b[0;34m=\u001b[0m \u001b[0mnp\u001b[0m\u001b[0;34m.\u001b[0m\u001b[0masanyarray\u001b[0m\u001b[0;34m(\u001b[0m\u001b[0mcluster_run\u001b[0m\u001b[0;34m)\u001b[0m\u001b[0;34m\u001b[0m\u001b[0;34m\u001b[0m\u001b[0m\n\u001b[1;32m    891\u001b[0m \u001b[0;34m\u001b[0m\u001b[0m\n\u001b[0;32m--> 892\u001b[0;31m     \u001b[0;32mif\u001b[0m \u001b[0mreduce\u001b[0m\u001b[0;34m(\u001b[0m\u001b[0moperator\u001b[0m\u001b[0;34m.\u001b[0m\u001b[0mmul\u001b[0m\u001b[0;34m,\u001b[0m \u001b[0mcluster_run\u001b[0m\u001b[0;34m.\u001b[0m\u001b[0mshape\u001b[0m\u001b[0;34m,\u001b[0m \u001b[0;36m1\u001b[0m\u001b[0;34m)\u001b[0m \u001b[0;34m!=\u001b[0m \u001b[0mmax\u001b[0m\u001b[0;34m(\u001b[0m\u001b[0mcluster_run\u001b[0m\u001b[0;34m.\u001b[0m\u001b[0mshape\u001b[0m\u001b[0;34m)\u001b[0m\u001b[0;34m:\u001b[0m\u001b[0;34m\u001b[0m\u001b[0;34m\u001b[0m\u001b[0m\n\u001b[0m\u001b[1;32m    893\u001b[0m         raise ValueError(\"\\nERROR: Cluster_Ensembles: create_membership_matrix: \"\n\u001b[1;32m    894\u001b[0m                          \u001b[0;34m\"problem in dimensions of the cluster label vector \"\u001b[0m\u001b[0;34m\u001b[0m\u001b[0;34m\u001b[0m\u001b[0m\n",
            "\u001b[0;31mNameError\u001b[0m: name 'reduce' is not defined"
          ]
        }
      ]
    },
    {
      "cell_type": "code",
      "metadata": {
        "colab": {
          "base_uri": "https://localhost:8080/"
        },
        "id": "BFTjG0SXBDHV",
        "outputId": "94d28beb-33aa-4b10-bdfa-cdbc51b3ac69"
      },
      "source": [
        "#from sklearn.metrics import accuracy_score\n",
        "#print('Sentence  representation clustering  accuracy : ',accuracy_score(labels_all  ,consensus_clustering_labels ))"
      ],
      "execution_count": null,
      "outputs": [
        {
          "output_type": "stream",
          "name": "stdout",
          "text": [
            "Sentence  representation clustering  accuracy :  0.2303628847037207\n"
          ]
        }
      ]
    }
  ]
}
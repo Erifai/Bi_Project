{
  "nbformat": 4,
  "nbformat_minor": 0,
  "metadata": {
    "colab": {
      "name": "Projet_BI_NLP.ipynb",
      "provenance": [],
      "collapsed_sections": [],
      "include_colab_link": true
    },
    "kernelspec": {
      "name": "python3",
      "display_name": "Python 3"
    },
    "language_info": {
      "name": "python"
    },
    "accelerator": "GPU"
  },
  "cells": [
    {
      "cell_type": "markdown",
      "metadata": {
        "id": "view-in-github",
        "colab_type": "text"
      },
      "source": [
        "<a href=\"https://colab.research.google.com/github/Erifai/Bi_Project/blob/main/Projet_BI_NLP.ipynb\" target=\"_parent\"><img src=\"https://colab.research.google.com/assets/colab-badge.svg\" alt=\"Open In Colab\"/></a>"
      ]
    },
    {
      "cell_type": "markdown",
      "metadata": {
        "id": "znoidPugZSBX"
      },
      "source": [
        "# **Préparation de l'environnement :**"
      ]
    },
    {
      "cell_type": "code",
      "metadata": {
        "id": "R7R44CMLl1UH"
      },
      "source": [
        "#!pip install -U spacy \n",
        "#!pip install spacy-transformers\n",
        "#!pip install spacy_entity_linker\n",
        "#!python3 -m spacy_entity_linker \"download_knowledge_base\"\n",
        "#!python -m spacy download en_core_web_sm\n",
        "#!pip install -U sentence-transformers\n",
        "#!sudo apt-get install metis\n",
        "#!pip install Cluster_Ensembles\n",
        "\n",
        "#à executer une seule fois et de redémarrer le runtime avec GPU "
      ],
      "execution_count": null,
      "outputs": []
    },
    {
      "cell_type": "code",
      "metadata": {
        "id": "o8Tb8GkWKrLN",
        "colab": {
          "base_uri": "https://localhost:8080/"
        },
        "outputId": "052b5a60-ae60-4c4a-fb87-f4b36bb81942"
      },
      "source": [
        "import numpy as np \n",
        "import pandas as pd\n",
        "import matplotlib.pyplot as plt\n",
        "from wordcloud import WordCloud\n",
        "from spacy.lang.en.stop_words import STOP_WORDS\n",
        "import string\n",
        "import re\n",
        "import operator\n",
        "from functools import reduce\n",
        "import nltk\n",
        "nltk.download('wordnet')\n",
        "from nltk.stem import WordNetLemmatizer"
      ],
      "execution_count": 20,
      "outputs": [
        {
          "output_type": "stream",
          "name": "stdout",
          "text": [
            "[nltk_data] Downloading package wordnet to /root/nltk_data...\n",
            "[nltk_data]   Package wordnet is already up-to-date!\n"
          ]
        }
      ]
    },
    {
      "cell_type": "markdown",
      "metadata": {
        "id": "uWqpgk49UyHi"
      },
      "source": [
        "# **PARTIE 1 :**"
      ]
    },
    {
      "cell_type": "code",
      "metadata": {
        "id": "iQEdKeC6MvmV"
      },
      "source": [
        "#df = pd.read_fwf('/content/DBLP_Subset.txt')\n",
        "#df=pd.read_table('/content/DBLP_Subset.txt',header=None)\n",
        "#df = pd.read_csv(\"/content/DBLP_Subset.txt\",sep=\"\\n\")\n",
        "reading_file = open(\"/content/DBLP_Subset.txt\", \"r\")\n",
        "\n",
        "new_file_content = \"\"\n",
        "count = 0\n",
        "count_auth = 0\n",
        "for line in reading_file:\n",
        "\n",
        "  stripped_line = line.strip()\n",
        "\n",
        "  new_line = stripped_line.replace(';',',')\n",
        "  if \"#t\" in new_line :\n",
        "    count_auth = 0\n",
        "  if \"#!\" in new_line :\n",
        "    count=0\n",
        "  if \"#@\" in new_line :\n",
        "    count_auth = 1\n",
        "  new_line = new_line.replace('#c',';').replace('#*','\\n;').replace('#c',';').replace('#t',';').replace('#index',';').replace('#!',';').replace('#@',';')\n",
        "  if \"#%\" in new_line and count==0 :\n",
        "    #print(new_line)\n",
        "    new_line = new_line.replace('#%',';')\n",
        "    #print(new_line)\n",
        "\n",
        "    count =1\n",
        "  if count_auth == 1 :\n",
        "    new_line = new_line + \",\"   \n",
        "\n",
        "  new_file_content += new_line\n",
        "\n",
        "\n",
        "reading_file.close()\n",
        "df = pd.DataFrame([x.split(';') for x in new_file_content.split('\\n')])\n",
        "# .replace('#c',';').replace('#*',';').replace('#c%',';').replace('#t',';').replace('#index',';').replace('#!',';')\n",
        "#   df = pd.DataFrame([x.split(';') for x in lines.split('\\n')])"
      ],
      "execution_count": 21,
      "outputs": []
    },
    {
      "cell_type": "code",
      "metadata": {
        "id": "aZsPPIKfx2BN",
        "colab": {
          "base_uri": "https://localhost:8080/"
        },
        "outputId": "84abe5e6-9f7e-4f7c-80d9-a51d29d8877d"
      },
      "source": [
        "df.rename(columns={0:\"supprimer\",1:\"Titre\",2:\"Auteurs\",3:\"Année\",4:\"Revue\",5:\"IndexId\",6:\"IdRefrences\",7:\"Abstract\"},inplace= True)\n",
        "df.drop(columns=['supprimer'],inplace= True)\n",
        "df.dropna(inplace= True)\n",
        "df.info()"
      ],
      "execution_count": 22,
      "outputs": [
        {
          "output_type": "stream",
          "name": "stdout",
          "text": [
            "<class 'pandas.core.frame.DataFrame'>\n",
            "Int64Index: 17852 entries, 1 to 37963\n",
            "Data columns (total 7 columns):\n",
            " #   Column       Non-Null Count  Dtype \n",
            "---  ------       --------------  ----- \n",
            " 0   Titre        17852 non-null  object\n",
            " 1   Auteurs      17852 non-null  object\n",
            " 2   Année        17852 non-null  object\n",
            " 3   Revue        17852 non-null  object\n",
            " 4   IndexId      17852 non-null  object\n",
            " 5   IdRefrences  17852 non-null  object\n",
            " 6   Abstract     17852 non-null  object\n",
            "dtypes: object(7)\n",
            "memory usage: 1.1+ MB\n"
          ]
        }
      ]
    },
    {
      "cell_type": "code",
      "metadata": {
        "id": "hJmTtXdUPyHy"
      },
      "source": [
        "li = df['Revue'].value_counts()\n"
      ],
      "execution_count": 23,
      "outputs": []
    },
    {
      "cell_type": "code",
      "metadata": {
        "id": "_JRaS0AbaNdk"
      },
      "source": [
        "list_revue = []\n",
        "for i in range(0,len(li)-1):\n",
        "  if(li[i] >= 50):\n",
        "    list_revue.append(li.index[i])\n",
        "  else:\n",
        "    break\n"
      ],
      "execution_count": 24,
      "outputs": []
    },
    {
      "cell_type": "code",
      "metadata": {
        "id": "MadTVCWcgQ6s",
        "colab": {
          "base_uri": "https://localhost:8080/"
        },
        "outputId": "2d04ab39-2055-41d8-df74-6f03bdbeb9cc"
      },
      "source": [
        "df_revue = pd.DataFrame(list_revue)\n",
        "dff= pd.merge(df,df_revue,how='inner',left_on=['Revue'],right_on=[0])\n",
        "dff.drop(columns=[0],inplace=True)\n",
        "df = dff\n",
        "df.info()"
      ],
      "execution_count": 25,
      "outputs": [
        {
          "output_type": "stream",
          "name": "stdout",
          "text": [
            "<class 'pandas.core.frame.DataFrame'>\n",
            "Int64Index: 17429 entries, 0 to 17428\n",
            "Data columns (total 7 columns):\n",
            " #   Column       Non-Null Count  Dtype \n",
            "---  ------       --------------  ----- \n",
            " 0   Titre        17429 non-null  object\n",
            " 1   Auteurs      17429 non-null  object\n",
            " 2   Année        17429 non-null  object\n",
            " 3   Revue        17429 non-null  object\n",
            " 4   IndexId      17429 non-null  object\n",
            " 5   IdRefrences  17429 non-null  object\n",
            " 6   Abstract     17429 non-null  object\n",
            "dtypes: object(7)\n",
            "memory usage: 1.1+ MB\n"
          ]
        }
      ]
    },
    {
      "cell_type": "code",
      "metadata": {
        "id": "y2Bzf0jVia7w",
        "colab": {
          "base_uri": "https://localhost:8080/"
        },
        "outputId": "b4a2ef93-8df9-4e6f-9b12-77ca54749398"
      },
      "source": [
        "df['Revue'].value_counts()"
      ],
      "execution_count": 26,
      "outputs": [
        {
          "output_type": "execute_result",
          "data": {
            "text/plain": [
              "DAC                                  2010\n",
              "Electr. Notes Theor. Comput. Sci.    1891\n",
              "IJCAI                                1891\n",
              "ICCAD                                1666\n",
              "SIGMOD Conference                    1529\n",
              "GECCO                                1472\n",
              "Discrete Applied Mathematics         1328\n",
              "Journal of Systems and Software       899\n",
              "ICIP                                  812\n",
              "Des. Codes Cryptography               648\n",
              "ICC                                   587\n",
              "SIGMOD Record                         510\n",
              "SMC                                   325\n",
              "GECCO (Companion)                     269\n",
              "Distributed Computing                 214\n",
              "DATA BASE                             204\n",
              "Data Min. Knowl. Discov.              175\n",
              "ICCSA (1)                             152\n",
              "ICCSA (2)                             145\n",
              "ICCSA (3)                             144\n",
              "IJCAI (1)                              82\n",
              "ICCV                                   76\n",
              "STOC                                   72\n",
              "ICCBR                                  71\n",
              "Knowl. Inf. Syst.                      69\n",
              "DAGM-Symposium                         67\n",
              "GECCO Workshops                        66\n",
              "ICCE                                   55\n",
              "Name: Revue, dtype: int64"
            ]
          },
          "metadata": {},
          "execution_count": 26
        }
      ]
    },
    {
      "cell_type": "markdown",
      "metadata": {
        "id": "QN4urJ-6Q0ju"
      },
      "source": [
        "# PARTIE 2 :"
      ]
    },
    {
      "cell_type": "markdown",
      "metadata": {
        "id": "qTHyjecEAf8C"
      },
      "source": [
        "les auteurs les plus productifs :"
      ]
    },
    {
      "cell_type": "code",
      "metadata": {
        "id": "7DuyZ34jKUoL",
        "outputId": "3dfaf353-de89-4f7e-cd10-8361e76b63dd",
        "colab": {
          "base_uri": "https://localhost:8080/",
          "height": 424
        }
      },
      "source": [
        "dict_authers = {}\n",
        "def auth(x):\n",
        "  li = x.split(\",\")\n",
        "  for auth in li:\n",
        "    if auth in dict_authers.keys():\n",
        "      dict_authers.update({auth : dict_authers[auth] + 1})\n",
        "    else:\n",
        "      dict_authers[auth] = 1\n",
        "\n",
        "df['Auteurs'].map(lambda x : auth(x))\n",
        "dict_authers.pop('')\n",
        "dict_auth_ord = dict(sorted(dict_authers.items(), key=lambda item: item[1]))\n",
        "\n",
        "height = list(dict_auth_ord.keys())\n",
        "height = height[-10:]\n",
        "bars = list(dict_auth_ord.values())\n",
        "bars = bars[-10:]\n",
        "y_pos = np.arange(len(bars))\n",
        "# Create bars\n",
        "plt.bar(y_pos, bars)\n",
        "# Create names on the x-axis\n",
        "degrees = 90\n",
        "plt.xticks(y_pos, height,rotation = degrees )\n",
        "# Show graphic\n",
        "plt.show()"
      ],
      "execution_count": 28,
      "outputs": [
        {
          "output_type": "display_data",
          "data": {
            "image/png": "[encoded data removed]",
            "text/plain": [
              "<Figure size 432x288 with 1 Axes>"
            ]
          },
          "metadata": {
            "needs_background": "light"
          }
        }
      ]
    },
    {
      "cell_type": "markdown",
      "metadata": {
        "id": "jMpp__C2BlPk"
      },
      "source": [
        "les articles les plus populaires :"
      ]
    },
    {
      "cell_type": "code",
      "metadata": {
        "id": "A08Aq3KsDa2z",
        "colab": {
          "base_uri": "https://localhost:8080/",
          "height": 657
        },
        "outputId": "8f84b85a-56d8-4e93-d8e2-33941fd3b8ae"
      },
      "source": [
        "df['nombre_citation'] = df['IdRefrences'].map(lambda x : len(x.split(\"#\")))\n",
        "\n",
        "lii = df['nombre_citation'].to_list()\n",
        "lii.sort()\n",
        "list_nb_citation = lii[-8:]\n",
        "\n",
        "list_abs = []\n",
        "for i in list_nb_citation:\n",
        "  ind = df[df['nombre_citation'] == i].index\n",
        "  list_abs.append(df.at[ind[0],\"Titre\"])\n",
        "\n",
        "height = list_abs\n",
        "bars = list_nb_citation\n",
        "y_pos = np.arange(len(bars))\n",
        "# Create bars\n",
        "plt.bar(y_pos, bars)\n",
        "# Create names on the x-axis\n",
        "degrees = 90\n",
        "plt.xticks(y_pos, height,rotation = degrees )\n",
        "# Show graphic\n",
        "plt.show()\n"
      ],
      "execution_count": 27,
      "outputs": [
        {
          "output_type": "display_data",
          "data": {
            "image/png": "[encoded data removed]",
            "text/plain": [
              "<Figure size 432x288 with 1 Axes>"
            ]
          },
          "metadata": {
            "needs_background": "light"
          }
        }
      ]
    },
    {
      "cell_type": "code",
      "metadata": {
        "id": "xWJVNIRmBrfi",
        "outputId": "8efa7ef5-7ce5-4210-c73b-cac1f076f9a7",
        "colab": {
          "base_uri": "https://localhost:8080/",
          "height": 283
        }
      },
      "source": [
        "dff = df.groupby(['Année'])['Année'].count()\n",
        "dff = dff.sort_values()\n",
        "list_ind_annee = dff[-10:]\n",
        "list_annee = []\n",
        "for i in list_ind_annee:\n",
        "  list_annee.append(dff[dff == i].index[0])\n",
        "\n",
        "list_annee\n",
        "\n",
        "height = list_annee\n",
        "bars = list_ind_annee\n",
        "y_pos = np.arange(len(bars))\n",
        "# Create bars\n",
        "plt.bar(y_pos, bars)\n",
        "# Create names on the x-axis\n",
        "degrees = 70\n",
        "plt.xticks(y_pos, height,rotation = degrees )\n",
        "# Show graphic\n",
        "plt.show()"
      ],
      "execution_count": 67,
      "outputs": [
        {
          "output_type": "display_data",
          "data": {
            "image/png": "[encoded data removed]",
            "text/plain": [
              "<Figure size 432x288 with 1 Axes>"
            ]
          },
          "metadata": {
            "needs_background": "light"
          }
        }
      ]
    },
    {
      "cell_type": "markdown",
      "metadata": {
        "id": "XpOKRU21HBNO"
      },
      "source": [
        " Distribution du nombre d’articles par revue/conférence :"
      ]
    },
    {
      "cell_type": "code",
      "metadata": {
        "id": "BsvGnOfxHIJh",
        "outputId": "3dc890e3-d7b3-473d-f3f7-88a4785a2789",
        "colab": {
          "base_uri": "https://localhost:8080/",
          "height": 419
        }
      },
      "source": [
        "dff = df.groupby(['Revue'])['Année'].count()\n",
        "\n",
        "list_revue = []\n",
        "for i in dff:\n",
        "  list_revue.append(dff[dff == i].index[0])\n",
        "\n",
        "list_revue\n",
        "\n",
        "height = list_revue\n",
        "bars = dff\n",
        "y_pos = np.arange(len(bars))\n",
        "# Create bars\n",
        "plt.bar(y_pos, bars)\n",
        "# Create names on the x-axis\n",
        "degrees = 90\n",
        "plt.xticks(y_pos, height,rotation = degrees )\n",
        "# Show graphic\n",
        "plt.show()"
      ],
      "execution_count": 71,
      "outputs": [
        {
          "output_type": "display_data",
          "data": {
            "image/png": "[encoded data removed]",
            "text/plain": [
              "<Figure size 432x288 with 1 Axes>"
            ]
          },
          "metadata": {
            "needs_background": "light"
          }
        }
      ]
    },
    {
      "cell_type": "markdown",
      "metadata": {
        "id": "HsIyt2afITzs"
      },
      "source": [
        "Distribution du nombre de citations :"
      ]
    },
    {
      "cell_type": "code",
      "metadata": {
        "id": "PbJD5-SBIV8P",
        "outputId": "58fcac37-670f-4e10-84e3-1216c00240bc",
        "colab": {
          "base_uri": "https://localhost:8080/",
          "height": 655
        }
      },
      "source": [
        "li = df['nombre_citation'].value_counts()\n",
        "\n",
        "from matplotlib.pyplot import figure\n",
        "\n",
        "figure(figsize=(15, 10), dpi=80)\n",
        "height = list(li.keys())\n",
        "bars = li\n",
        "y_pos = np.arange(len(bars))\n",
        "# Create bars\n",
        "plt.bar(y_pos, bars)\n",
        "# Create names on the x-axis\n",
        "degrees = 0\n",
        "plt.xticks(y_pos, height,rotation = degrees)\n",
        "# Show graphic\n",
        "plt.show()\n",
        "\n"
      ],
      "execution_count": 89,
      "outputs": [
        {
          "output_type": "display_data",
          "data": {
            "image/png": "[encoded data removed]",
            "text/plain": [
              "<Figure size 1200x800 with 1 Axes>"
            ]
          },
          "metadata": {
            "needs_background": "light"
          }
        }
      ]
    },
    {
      "cell_type": "code",
      "metadata": {
        "id": "yXxiYYrmOIcI"
      },
      "source": [
        "#punctuations\n",
        "punctuations = string.punctuation\n",
        "#stopwords\n",
        "stop_words = list(STOP_WORDS)\n",
        "def clean_text(\n",
        "  string : str,\n",
        "  ponctuation = '!\"#$%&\\'()*+,-./:;<=>?@[\\\\]^_`{|}~',\n",
        "  stop_words = stop_words)->str : \n",
        "\n",
        "  #URLs\n",
        "  string = re.sub(r\"https?://\\S+|www\\.\\S+\",'',string)\n",
        "  #html \n",
        "  string = re.sub(r'<.*?>','',string)\n",
        "  #Numbers\n",
        "  string = re.sub(r'[0-9]+','',string) \n",
        "\n",
        "  #Remove punctuations\n",
        "  for x in string.lower():\n",
        "    if x in punctuations:\n",
        "      string = string.replace(x,\"\")\n",
        "  #To lower\n",
        "  string = string.lower()\n",
        "  #Remove stop words\n",
        "  lemmatizer = WordNetLemmatizer()\n",
        "  string = ' '.join([lemmatizer.lemmatize(word) for word in string.split() if word not in stop_words])\n",
        "  #Cleaning the whitespaces\n",
        "  string = re.sub(r'\\s', ' ', string).strip()\n",
        "\n",
        "  return string\n",
        "  \n"
      ],
      "execution_count": 90,
      "outputs": []
    },
    {
      "cell_type": "code",
      "metadata": {
        "id": "0XC58aq60Squ",
        "colab": {
          "base_uri": "https://localhost:8080/"
        },
        "outputId": "ddca9e3a-4bc5-4347-cd58-fa284c0a05ab"
      },
      "source": [
        "from sklearn.feature_extraction.text import CountVectorizer\n",
        "abstract = df.Abstract.to_list()\n",
        "abstracts_cleaned = [clean_text(x) for x in abstract]\n",
        "len(abstracts_cleaned)"
      ],
      "execution_count": 91,
      "outputs": [
        {
          "output_type": "execute_result",
          "data": {
            "text/plain": [
              "17429"
            ]
          },
          "metadata": {},
          "execution_count": 91
        }
      ]
    },
    {
      "cell_type": "code",
      "metadata": {
        "id": "clUyJOxPO_2y"
      },
      "source": [
        "from collections import Counter\n",
        "cnt = Counter()\n",
        "for text in abstracts_cleaned:\n",
        "    for word in text.split():\n",
        "        cnt[word] += 1\n"
      ],
      "execution_count": 94,
      "outputs": []
    },
    {
      "cell_type": "code",
      "metadata": {
        "id": "C-3FIeZmPaJL",
        "outputId": "d219406a-d79d-4288-a574-2926a01e98f3",
        "colab": {
          "base_uri": "https://localhost:8080/"
        }
      },
      "source": [
        "cnt.most_common(30)"
      ],
      "execution_count": 93,
      "outputs": [
        {
          "output_type": "execute_result",
          "data": {
            "text/plain": [
              "[('algorithm', 11380),\n",
              " ('system', 11285),\n",
              " ('problem', 9950),\n",
              " ('model', 8898),\n",
              " ('paper', 8652),\n",
              " ('data', 8258),\n",
              " ('result', 8024),\n",
              " ('method', 7353),\n",
              " ('approach', 7060),\n",
              " ('based', 5961),\n",
              " ('design', 5933),\n",
              " ('present', 5678),\n",
              " ('set', 5437),\n",
              " ('technique', 5349),\n",
              " ('new', 5298),\n",
              " ('time', 4830),\n",
              " ('proposed', 4766),\n",
              " ('performance', 4700),\n",
              " ('application', 4285),\n",
              " ('number', 4212),\n",
              " ('network', 4175),\n",
              " ('graph', 4060),\n",
              " ('query', 3793),\n",
              " ('use', 3740),\n",
              " ('information', 3687),\n",
              " ('process', 3460),\n",
              " ('analysis', 3433),\n",
              " ('function', 3336),\n",
              " ('solution', 3295),\n",
              " ('circuit', 3218)]"
            ]
          },
          "metadata": {},
          "execution_count": 93
        }
      ]
    },
    {
      "cell_type": "markdown",
      "metadata": {
        "id": "d5_4BLPLP-IQ"
      },
      "source": [
        "# **PARTIE 3 :**"
      ]
    },
    {
      "cell_type": "markdown",
      "metadata": {
        "id": "FNu0ItfYWpNP"
      },
      "source": [
        "# **Transformation de données :**"
      ]
    },
    {
      "cell_type": "markdown",
      "metadata": {
        "id": "fuzp73btW2nH"
      },
      "source": [
        "## **Vectorisation (Document - mot )**"
      ]
    },
    {
      "cell_type": "code",
      "metadata": {
        "id": "YVXqd1O_SDMX",
        "outputId": "118372ad-dae0-408e-e2ef-416bb3007c68",
        "colab": {
          "base_uri": "https://localhost:8080/"
        }
      },
      "source": [
        "from random import sample\n",
        "df = df.sample(frac=0.5)\n",
        "\n",
        "abstract = df.Abstract.to_list()\n",
        "abstracts_cleaned = [clean_text(x) for x in abstract]\n",
        "len(abstracts_cleaned)\n"
      ],
      "execution_count": 98,
      "outputs": [
        {
          "output_type": "execute_result",
          "data": {
            "text/plain": [
              "8714"
            ]
          },
          "metadata": {},
          "execution_count": 98
        }
      ]
    },
    {
      "cell_type": "code",
      "metadata": {
        "colab": {
          "base_uri": "https://localhost:8080/"
        },
        "id": "D3bLdwQh1DV1",
        "outputId": "d5504490-cb2e-4731-f61f-6712807536ab"
      },
      "source": [
        "vectorizer = CountVectorizer()\n",
        "DocTerm_abstract = vectorizer.fit_transform(abstracts_cleaned)\n",
        "print('type of DocTerm_abstract : ', type(DocTerm_abstract))\n",
        "print(\"Documents / Mots  : \",DocTerm_abstract.shape)\n",
        "print(DocTerm_abstract)\n",
        "\n",
        "DocTerm_abstract = DocTerm_abstract.toarray()\n",
        "print(\"******************************************\")\n",
        "print('DocTerm_abstract', type(DocTerm_abstract))\n"
      ],
      "execution_count": 102,
      "outputs": [
        {
          "output_type": "stream",
          "name": "stdout",
          "text": [
            "type of DocTerm_abstract :  <class 'scipy.sparse.csr.csr_matrix'>\n",
            "Documents / Mots  :  (8714, 52380)\n",
            "  (0, 22687)\t1\n",
            "  (0, 45919)\t1\n",
            "  (0, 8103)\t1\n",
            "  (0, 11963)\t1\n",
            "  (0, 35711)\t4\n",
            "  (0, 43144)\t1\n",
            "  (0, 19665)\t1\n",
            "  (0, 22660)\t1\n",
            "  (0, 27173)\t1\n",
            "  (0, 12767)\t1\n",
            "  (0, 12310)\t1\n",
            "  (0, 30859)\t1\n",
            "  (0, 3287)\t1\n",
            "  (0, 17026)\t1\n",
            "  (0, 19887)\t1\n",
            "  (0, 32173)\t1\n",
            "  (0, 10660)\t1\n",
            "  (0, 41567)\t1\n",
            "  (0, 7892)\t2\n",
            "  (0, 33087)\t1\n",
            "  (0, 7823)\t1\n",
            "  (0, 6911)\t2\n",
            "  (0, 44398)\t2\n",
            "  (0, 41563)\t1\n",
            "  (0, 17191)\t1\n",
            "  :\t:\n",
            "  (8713, 41309)\t1\n",
            "  (8713, 457)\t1\n",
            "  (8713, 29819)\t5\n",
            "  (8713, 11407)\t1\n",
            "  (8713, 11036)\t1\n",
            "  (8713, 42283)\t1\n",
            "  (8713, 14061)\t1\n",
            "  (8713, 15037)\t1\n",
            "  (8713, 39311)\t1\n",
            "  (8713, 6519)\t1\n",
            "  (8713, 31895)\t1\n",
            "  (8713, 311)\t1\n",
            "  (8713, 44581)\t1\n",
            "  (8713, 32929)\t1\n",
            "  (8713, 15700)\t1\n",
            "  (8713, 24736)\t1\n",
            "  (8713, 38201)\t1\n",
            "  (8713, 49598)\t1\n",
            "  (8713, 14213)\t1\n",
            "  (8713, 48939)\t1\n",
            "  (8713, 45676)\t1\n",
            "  (8713, 14725)\t1\n",
            "  (8713, 4375)\t1\n",
            "  (8713, 47823)\t3\n",
            "  (8713, 42530)\t1\n",
            "******************************************\n",
            "DocTerm_abstract <class 'numpy.ndarray'>\n"
          ]
        }
      ]
    },
    {
      "cell_type": "markdown",
      "metadata": {
        "id": "IjgbcYQuXuyw"
      },
      "source": [
        "## **Exctraction de \"Linked entities\"**"
      ]
    },
    {
      "cell_type": "code",
      "metadata": {
        "colab": {
          "base_uri": "https://localhost:8080/"
        },
        "id": "qqFwiFVM3OH-",
        "outputId": "35417a15-5738-4f8c-cb60-b2c519d7f514"
      },
      "source": [
        "import spacy\n",
        "import en_core_web_sm\n",
        "from functools import reduce\n",
        "nlp = spacy.load('en_core_web_sm')\n",
        "# add pipeline (declared through entry_points in setup.py)\n",
        "nlp.add_pipe(\"entityLinker\",last=True)"
      ],
      "execution_count": null,
      "outputs": [
        {
          "output_type": "execute_result",
          "data": {
            "text/plain": [
              "<spacy_entity_linker.EntityLinker.EntityLinker at 0x7f6b35147090>"
            ]
          },
          "metadata": {},
          "execution_count": 15
        }
      ]
    },
    {
      "cell_type": "code",
      "metadata": {
        "id": "5TrSDU_0LHoE"
      },
      "source": [
        "listEntity =[]\n",
        "for a,abs in enumerate(abstracts_cleaned):\n",
        "  doc = nlp(str(abs))\n",
        "  listInter=[]\n",
        "  #return all the entities in the whole document\n",
        "  all_linked_entities = doc._.linkedEntities\n",
        "  #itereate over sentences and print linked entities\n",
        "  for sent in doc.sents:\n",
        "    #print(sent._.linkedEntities)\n",
        "    for i in range(len(sent._.linkedEntities)):\n",
        "      entity = sent._.linkedEntities[i].get_id()\n",
        "      listInter.append(entity)\n",
        "  listEntity.append(listInter)\n"
      ],
      "execution_count": null,
      "outputs": []
    },
    {
      "cell_type": "code",
      "metadata": {
        "colab": {
          "base_uri": "https://localhost:8080/"
        },
        "id": "3o-IVAH7PZZR",
        "outputId": "fb220e67-16d0-439e-dfa8-7440d7dfb408"
      },
      "source": [
        "listEntityAll = reduce(operator.concat,listEntity)\n",
        "print(\"listEntityAll\" , len(listEntityAll))\n",
        "listEntityAllunique = np.unique(np.asarray(listEntityAll))\n",
        "print(\"listEntityAllunique\" , len(listEntityAllunique))\n"
      ],
      "execution_count": null,
      "outputs": [
        {
          "output_type": "stream",
          "name": "stdout",
          "text": [
            "listEntityAll 1682\n",
            "listEntityAllunique 566\n"
          ]
        }
      ]
    },
    {
      "cell_type": "markdown",
      "metadata": {
        "id": "DDObVwXhYKkA"
      },
      "source": [
        "## **Document - Entité**"
      ]
    },
    {
      "cell_type": "code",
      "metadata": {
        "id": "IbIiQQHKPmej"
      },
      "source": [
        "dictindex = dict(zip(listEntityAllunique,np.arange(len(listEntityAllunique))))\n",
        "entityEmbedding = np.zeros((len(abstract),len(listEntityAllunique)))\n",
        "for a in range(len(abstract)):\n",
        "  lista = listEntity[a]\n",
        "  indexEn = values = np.asanyarray(list(map(dictindex.get,lista)))\n",
        "  entityEmbedding[a,indexEn]=1"
      ],
      "execution_count": null,
      "outputs": []
    },
    {
      "cell_type": "code",
      "metadata": {
        "id": "NnD6nAXZGqTf"
      },
      "source": [
        ""
      ],
      "execution_count": null,
      "outputs": []
    },
    {
      "cell_type": "markdown",
      "metadata": {
        "id": "O1_-EG4uYQcX"
      },
      "source": [
        "## **BERT**"
      ]
    },
    {
      "cell_type": "code",
      "metadata": {
        "id": "K8AOFnbfFqgO"
      },
      "source": [
        "from sentence_transformers import SentenceTransformer\n",
        "model = SentenceTransformer('bert-base-nli-mean-tokens')\n",
        "sentence_embedding = model.encode(abstract)"
      ],
      "execution_count": null,
      "outputs": []
    },
    {
      "cell_type": "code",
      "metadata": {
        "colab": {
          "base_uri": "https://localhost:8080/"
        },
        "id": "L3ZDCQg-Jju6",
        "outputId": "904d98b8-1340-4bb8-dc0f-8d12d70404e5"
      },
      "source": [
        "sentence_embedding"
      ],
      "execution_count": null,
      "outputs": [
        {
          "output_type": "execute_result",
          "data": {
            "text/plain": [
              "array([[-0.90498275,  0.20419133,  0.54003567, ...,  0.1595102 ,\n",
              "        -0.02890011,  0.21780182],\n",
              "       [-0.84162533,  0.37580818,  0.31556702, ..., -0.15957555,\n",
              "        -0.1251584 ,  0.36724833],\n",
              "       [-0.0920645 ,  0.60817575,  0.5032281 , ..., -0.46368083,\n",
              "        -1.1678922 ,  0.628837  ],\n",
              "       ...,\n",
              "       [-0.8522707 ,  0.6357087 ,  0.32293302, ..., -0.90342045,\n",
              "        -0.16440001,  0.16181709],\n",
              "       [-0.15328439,  0.30836326,  1.0114954 , ..., -0.23881237,\n",
              "        -0.5476271 ,  0.27469596],\n",
              "       [-0.00146912,  0.23846017,  0.8166513 , ..., -0.25199023,\n",
              "        -1.2100103 ,  0.4056557 ]], dtype=float32)"
            ]
          },
          "metadata": {},
          "execution_count": 21
        }
      ]
    },
    {
      "cell_type": "markdown",
      "metadata": {
        "id": "EHEDGCvwYWq4"
      },
      "source": [
        "# **Clustering**"
      ]
    },
    {
      "cell_type": "code",
      "metadata": {
        "id": "qyR4enTWJjzU",
        "colab": {
          "base_uri": "https://localhost:8080/"
        },
        "outputId": "40e4cf6a-cdf0-43de-c144-2dd2db2325d7"
      },
      "source": [
        "from sklearn.cluster import KMeans\n",
        "from sklearn.metrics import accuracy_score\n",
        "\n",
        "K=28\n",
        "labels_all, u  = pd.factorize(df['Revue'])\n",
        "\n",
        "kmeans = KMeans(n_clusters=K, random_state=0,n_init=5).fit(DocTerm_abstract)\n",
        "y_pred1 = kmeans.labels_\n",
        "print(y_pred1)\n",
        "print('Bow representation clustering  accuracy : ',accuracy_score(labels_all,y_pred1))"
      ],
      "execution_count": 105,
      "outputs": [
        {
          "output_type": "stream",
          "name": "stdout",
          "text": [
            "[10 15 15 ... 15 12 15]\n",
            "Bow representation clustering  accuracy :  0.0330502639430801\n"
          ]
        }
      ]
    },
    {
      "cell_type": "code",
      "metadata": {
        "id": "O3PgWwnn33aH",
        "colab": {
          "base_uri": "https://localhost:8080/"
        },
        "outputId": "a69cd5ea-4ca1-4b2a-d0d5-82a083bd1b59"
      },
      "source": [
        "labels_all, a = pd.factorize(df['Revue'])\n",
        "print(labels_all.)\n"
      ],
      "execution_count": 103,
      "outputs": [
        {
          "output_type": "stream",
          "name": "stdout",
          "text": [
            "[ 0  1  1 ...  3 10 10]\n"
          ]
        }
      ]
    },
    {
      "cell_type": "code",
      "metadata": {
        "id": "hyEKGYen6UY9",
        "colab": {
          "base_uri": "https://localhost:8080/"
        },
        "outputId": "354d7e9d-f6c9-4df2-dee0-87165739d74a"
      },
      "source": [
        "np.unique(labels_all)"
      ],
      "execution_count": 104,
      "outputs": [
        {
          "output_type": "execute_result",
          "data": {
            "text/plain": [
              "array([ 0,  1,  2,  3,  4,  5,  6,  7,  8,  9, 10, 11, 12, 13, 14, 15, 16,\n",
              "       17, 18, 19, 20, 21, 22, 23, 24, 25, 26, 27])"
            ]
          },
          "metadata": {},
          "execution_count": 104
        }
      ]
    },
    {
      "cell_type": "code",
      "metadata": {
        "id": "xMD74EwQN0HF"
      },
      "source": [
        "kmeans = KMeans(n_clusters=K, random_state=0,n_init=5).fit(entityEmbedding)\n",
        "#kmeans = KMeans(n_clusters=K, random_state=0,n_init=5).fit(mat)\n",
        "\n",
        "y_pred2 = kmeans.labels_\n",
        "print(y_pred2)\n",
        "#print('Entity  representation clustering  accuracy : ',accuracy_score(labels_all,y_pred2))"
      ],
      "execution_count": null,
      "outputs": []
    },
    {
      "cell_type": "code",
      "metadata": {
        "id": "-hooR0JnOJ9D"
      },
      "source": [
        "kmeans = KMeans(n_clusters=K, random_state=0,n_init=5).fit(sentence_embedding)\n",
        "y_pred3 = kmeans.labels_\n",
        "print(y_pred3)\n",
        "#print('Sentence  representation clustering  accuracy : ',accuracy_score(labels_all,y_pred3))"
      ],
      "execution_count": null,
      "outputs": []
    }
  ]
}